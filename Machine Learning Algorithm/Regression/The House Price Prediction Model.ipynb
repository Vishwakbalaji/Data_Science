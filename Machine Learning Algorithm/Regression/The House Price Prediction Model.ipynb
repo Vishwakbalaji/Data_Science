{
 "cells": [
  {
   "cell_type": "markdown",
   "metadata": {},
   "source": [
    "# The House Price Prediction Model"
   ]
  },
  {
   "cell_type": "markdown",
   "metadata": {},
   "source": [
    "### Done By - VISHWAK BALAJI"
   ]
  },
  {
   "cell_type": "markdown",
   "metadata": {},
   "source": [
    "**Problem statement:**\n",
    "A dataset that records the house prices of 9,761 houses in King County, Washington, US is given. The house prices are recorded along with some other attributes like - area of the house, number of bedrooms, number of bathrooms, etc. \n",
    "\n",
    "**objective:** \n",
    "The First task is EDA, then fitted a Linear Regression Model, checked the Feature Engineering(used log and created dummy variable) and used Forward selection to find best features. The second task is checked if a Decision Tree Model can be used to fit a data more accurately and then performed Model Testing."
   ]
  },
  {
   "cell_type": "markdown",
   "metadata": {},
   "source": [
    "## Importing Libraries"
   ]
  },
  {
   "cell_type": "code",
   "execution_count": 1,
   "metadata": {},
   "outputs": [],
   "source": [
    "import numpy as np\n",
    "import pandas as pd\n",
    "import os\n",
    "import pygraphs as pg\n",
    "import matplotlib.pyplot as plt\n",
    "import seaborn as sns\n",
    "from sklearn.model_selection import train_test_split\n",
    "from sklearn.linear_model import LinearRegression\n",
    "from sklearn import metrics\n",
    "from sklearn.metrics import r2_score, mean_absolute_error,mean_squared_error\n",
    "from sklearn.model_selection import cross_val_score\n",
    "from sklearn.model_selection import KFold\n",
    "from sklearn.neighbors import KNeighborsRegressor\n",
    "from sklearn.preprocessing import StandardScaler\n",
    "from sklearn.metrics import confusion_matrix\n",
    "from sklearn.tree import DecisionTreeRegressor\n",
    "from sklearn.model_selection import GridSearchCV\n",
    "from sklearn.model_selection import RandomizedSearchCV\n",
    "from sklearn import tree\n",
    "from sklearn import ensemble\n",
    "from scipy.stats import randint\n",
    "import statsmodels.api as stm\n",
    "from mlxtend.feature_selection import SequentialFeatureSelector as SFS\n",
    "from math import sqrt"
   ]
  },
  {
   "cell_type": "markdown",
   "metadata": {},
   "source": [
    "## Reading Dataset"
   ]
  },
  {
   "cell_type": "code",
   "execution_count": 2,
   "metadata": {},
   "outputs": [],
   "source": [
    "data = \"wk3_kc_house_train_data.csv\"\n",
    "directory = r\"C:\\Users\\vishw\\Videos\\DATA SETS\\housing project 1\""
   ]
  },
  {
   "cell_type": "code",
   "execution_count": 3,
   "metadata": {},
   "outputs": [
    {
     "data": {
      "text/html": [
       "<div>\n",
       "<style scoped>\n",
       "    .dataframe tbody tr th:only-of-type {\n",
       "        vertical-align: middle;\n",
       "    }\n",
       "\n",
       "    .dataframe tbody tr th {\n",
       "        vertical-align: top;\n",
       "    }\n",
       "\n",
       "    .dataframe thead th {\n",
       "        text-align: right;\n",
       "    }\n",
       "</style>\n",
       "<table border=\"1\" class=\"dataframe\">\n",
       "  <thead>\n",
       "    <tr style=\"text-align: right;\">\n",
       "      <th></th>\n",
       "      <th>id</th>\n",
       "      <th>date</th>\n",
       "      <th>price</th>\n",
       "      <th>bedrooms</th>\n",
       "      <th>bathrooms</th>\n",
       "      <th>sqft_living</th>\n",
       "      <th>sqft_lot</th>\n",
       "      <th>floors</th>\n",
       "      <th>waterfront</th>\n",
       "      <th>view</th>\n",
       "      <th>...</th>\n",
       "      <th>grade</th>\n",
       "      <th>sqft_above</th>\n",
       "      <th>sqft_basement</th>\n",
       "      <th>yr_built</th>\n",
       "      <th>yr_renovated</th>\n",
       "      <th>zipcode</th>\n",
       "      <th>lat</th>\n",
       "      <th>long</th>\n",
       "      <th>sqft_living15</th>\n",
       "      <th>sqft_lot15</th>\n",
       "    </tr>\n",
       "  </thead>\n",
       "  <tbody>\n",
       "    <tr>\n",
       "      <th>0</th>\n",
       "      <td>2487200875</td>\n",
       "      <td>20141209T000000</td>\n",
       "      <td>604000.0</td>\n",
       "      <td>4</td>\n",
       "      <td>3.00</td>\n",
       "      <td>1960</td>\n",
       "      <td>5000</td>\n",
       "      <td>1.0</td>\n",
       "      <td>0</td>\n",
       "      <td>0</td>\n",
       "      <td>...</td>\n",
       "      <td>7</td>\n",
       "      <td>1050</td>\n",
       "      <td>910</td>\n",
       "      <td>1965</td>\n",
       "      <td>0</td>\n",
       "      <td>98136</td>\n",
       "      <td>47.5208</td>\n",
       "      <td>-122.393</td>\n",
       "      <td>1360</td>\n",
       "      <td>5000</td>\n",
       "    </tr>\n",
       "    <tr>\n",
       "      <th>1</th>\n",
       "      <td>7237550310</td>\n",
       "      <td>20140512T000000</td>\n",
       "      <td>1230000.0</td>\n",
       "      <td>4</td>\n",
       "      <td>4.50</td>\n",
       "      <td>5420</td>\n",
       "      <td>101930</td>\n",
       "      <td>1.0</td>\n",
       "      <td>0</td>\n",
       "      <td>0</td>\n",
       "      <td>...</td>\n",
       "      <td>11</td>\n",
       "      <td>3890</td>\n",
       "      <td>1530</td>\n",
       "      <td>2001</td>\n",
       "      <td>0</td>\n",
       "      <td>98053</td>\n",
       "      <td>47.6561</td>\n",
       "      <td>-122.005</td>\n",
       "      <td>4760</td>\n",
       "      <td>101930</td>\n",
       "    </tr>\n",
       "    <tr>\n",
       "      <th>2</th>\n",
       "      <td>9212900260</td>\n",
       "      <td>20140527T000000</td>\n",
       "      <td>468000.0</td>\n",
       "      <td>2</td>\n",
       "      <td>1.00</td>\n",
       "      <td>1160</td>\n",
       "      <td>6000</td>\n",
       "      <td>1.0</td>\n",
       "      <td>0</td>\n",
       "      <td>0</td>\n",
       "      <td>...</td>\n",
       "      <td>7</td>\n",
       "      <td>860</td>\n",
       "      <td>300</td>\n",
       "      <td>1942</td>\n",
       "      <td>0</td>\n",
       "      <td>98115</td>\n",
       "      <td>47.6900</td>\n",
       "      <td>-122.292</td>\n",
       "      <td>1330</td>\n",
       "      <td>6000</td>\n",
       "    </tr>\n",
       "    <tr>\n",
       "      <th>3</th>\n",
       "      <td>114101516</td>\n",
       "      <td>20140528T000000</td>\n",
       "      <td>310000.0</td>\n",
       "      <td>3</td>\n",
       "      <td>1.00</td>\n",
       "      <td>1430</td>\n",
       "      <td>19901</td>\n",
       "      <td>1.5</td>\n",
       "      <td>0</td>\n",
       "      <td>0</td>\n",
       "      <td>...</td>\n",
       "      <td>7</td>\n",
       "      <td>1430</td>\n",
       "      <td>0</td>\n",
       "      <td>1927</td>\n",
       "      <td>0</td>\n",
       "      <td>98028</td>\n",
       "      <td>47.7558</td>\n",
       "      <td>-122.229</td>\n",
       "      <td>1780</td>\n",
       "      <td>12697</td>\n",
       "    </tr>\n",
       "    <tr>\n",
       "      <th>4</th>\n",
       "      <td>6054650070</td>\n",
       "      <td>20141007T000000</td>\n",
       "      <td>400000.0</td>\n",
       "      <td>3</td>\n",
       "      <td>1.75</td>\n",
       "      <td>1370</td>\n",
       "      <td>9680</td>\n",
       "      <td>1.0</td>\n",
       "      <td>0</td>\n",
       "      <td>0</td>\n",
       "      <td>...</td>\n",
       "      <td>7</td>\n",
       "      <td>1370</td>\n",
       "      <td>0</td>\n",
       "      <td>1977</td>\n",
       "      <td>0</td>\n",
       "      <td>98074</td>\n",
       "      <td>47.6127</td>\n",
       "      <td>-122.045</td>\n",
       "      <td>1370</td>\n",
       "      <td>10208</td>\n",
       "    </tr>\n",
       "  </tbody>\n",
       "</table>\n",
       "<p>5 rows × 21 columns</p>\n",
       "</div>"
      ],
      "text/plain": [
       "           id             date      price  bedrooms  bathrooms  sqft_living  \\\n",
       "0  2487200875  20141209T000000   604000.0         4       3.00         1960   \n",
       "1  7237550310  20140512T000000  1230000.0         4       4.50         5420   \n",
       "2  9212900260  20140527T000000   468000.0         2       1.00         1160   \n",
       "3   114101516  20140528T000000   310000.0         3       1.00         1430   \n",
       "4  6054650070  20141007T000000   400000.0         3       1.75         1370   \n",
       "\n",
       "   sqft_lot  floors  waterfront  view  ...  grade  sqft_above  sqft_basement  \\\n",
       "0      5000     1.0           0     0  ...      7        1050            910   \n",
       "1    101930     1.0           0     0  ...     11        3890           1530   \n",
       "2      6000     1.0           0     0  ...      7         860            300   \n",
       "3     19901     1.5           0     0  ...      7        1430              0   \n",
       "4      9680     1.0           0     0  ...      7        1370              0   \n",
       "\n",
       "   yr_built  yr_renovated  zipcode      lat     long  sqft_living15  \\\n",
       "0      1965             0    98136  47.5208 -122.393           1360   \n",
       "1      2001             0    98053  47.6561 -122.005           4760   \n",
       "2      1942             0    98115  47.6900 -122.292           1330   \n",
       "3      1927             0    98028  47.7558 -122.229           1780   \n",
       "4      1977             0    98074  47.6127 -122.045           1370   \n",
       "\n",
       "   sqft_lot15  \n",
       "0        5000  \n",
       "1      101930  \n",
       "2        6000  \n",
       "3       12697  \n",
       "4       10208  \n",
       "\n",
       "[5 rows x 21 columns]"
      ]
     },
     "execution_count": 3,
     "metadata": {},
     "output_type": "execute_result"
    }
   ],
   "source": [
    "# Using the pygraphs package to read the dataset\n",
    "house = pg.DFrame(data,directory)\n",
    "house.head()"
   ]
  },
  {
   "cell_type": "code",
   "execution_count": 4,
   "metadata": {},
   "outputs": [
    {
     "name": "stdout",
     "output_type": "stream",
     "text": [
      "<class 'pandas.core.frame.DataFrame'>\n",
      "RangeIndex: 9761 entries, 0 to 9760\n",
      "Data columns (total 21 columns):\n",
      " #   Column         Non-Null Count  Dtype  \n",
      "---  ------         --------------  -----  \n",
      " 0   id             9761 non-null   int64  \n",
      " 1   date           9761 non-null   object \n",
      " 2   price          9761 non-null   float64\n",
      " 3   bedrooms       9761 non-null   int64  \n",
      " 4   bathrooms      9761 non-null   float64\n",
      " 5   sqft_living    9761 non-null   int64  \n",
      " 6   sqft_lot       9761 non-null   int64  \n",
      " 7   floors         9761 non-null   float64\n",
      " 8   waterfront     9761 non-null   int64  \n",
      " 9   view           9761 non-null   int64  \n",
      " 10  condition      9761 non-null   int64  \n",
      " 11  grade          9761 non-null   int64  \n",
      " 12  sqft_above     9761 non-null   int64  \n",
      " 13  sqft_basement  9761 non-null   int64  \n",
      " 14  yr_built       9761 non-null   int64  \n",
      " 15  yr_renovated   9761 non-null   int64  \n",
      " 16  zipcode        9761 non-null   int64  \n",
      " 17  lat            9761 non-null   float64\n",
      " 18  long           9761 non-null   float64\n",
      " 19  sqft_living15  9761 non-null   int64  \n",
      " 20  sqft_lot15     9761 non-null   int64  \n",
      "dtypes: float64(5), int64(15), object(1)\n",
      "memory usage: 1.6+ MB\n"
     ]
    }
   ],
   "source": [
    "# checking the info for this data\n",
    "house.info()"
   ]
  },
  {
   "cell_type": "code",
   "execution_count": 5,
   "metadata": {
    "scrolled": false
   },
   "outputs": [
    {
     "data": {
      "text/plain": [
       "id               0\n",
       "date             0\n",
       "price            0\n",
       "bedrooms         0\n",
       "bathrooms        0\n",
       "sqft_living      0\n",
       "sqft_lot         0\n",
       "floors           0\n",
       "waterfront       0\n",
       "view             0\n",
       "condition        0\n",
       "grade            0\n",
       "sqft_above       0\n",
       "sqft_basement    0\n",
       "yr_built         0\n",
       "yr_renovated     0\n",
       "zipcode          0\n",
       "lat              0\n",
       "long             0\n",
       "sqft_living15    0\n",
       "sqft_lot15       0\n",
       "dtype: int64"
      ]
     },
     "execution_count": 5,
     "metadata": {},
     "output_type": "execute_result"
    }
   ],
   "source": [
    "# finding the total no.of nan value in  the data frame\n",
    "house.isnull().sum() "
   ]
  },
  {
   "cell_type": "markdown",
   "metadata": {},
   "source": [
    "## Plotting the Dataset"
   ]
  },
  {
   "cell_type": "markdown",
   "metadata": {},
   "source": [
    "   **Calling the pygraphs package to plot the histogram, boxplot and barplot.  Also we find, whether the variable is categorical or numerical. After that we plot histogram and boxplot for numerical(Continuous distribustion), then barplot for categorical(discrete distribustion).**"
   ]
  },
  {
   "cell_type": "code",
   "execution_count": 6,
   "metadata": {
    "scrolled": false
   },
   "outputs": [
    {
     "data": {
      "image/png": "[encoded data removed]",
      "text/plain": [
       "<Figure size 432x288 with 1 Axes>"
      ]
     },
     "metadata": {
      "needs_background": "light"
     },
     "output_type": "display_data"
    },
    {
     "data": {
      "image/png": "[encoded data removed]",
      "text/plain": [
       "<Figure size 432x288 with 1 Axes>"
      ]
     },
     "metadata": {
      "needs_background": "light"
     },
     "output_type": "display_data"
    },
    {
     "data": {
      "image/png": "[encoded data removed]",
      "text/plain": [
       "<Figure size 432x288 with 1 Axes>"
      ]
     },
     "metadata": {
      "needs_background": "light"
     },
     "output_type": "display_data"
    },
    {
     "data": {
      "image/png": "[encoded data removed]",
      "text/plain": [
       "<Figure size 432x288 with 1 Axes>"
      ]
     },
     "metadata": {
      "needs_background": "light"
     },
     "output_type": "display_data"
    },
    {
     "data": {
      "image/png": "[encoded data removed]",
      "text/plain": [
       "<Figure size 432x288 with 1 Axes>"
      ]
     },
     "metadata": {
      "needs_background": "light"
     },
     "output_type": "display_data"
    },
    {
     "data": {
      "image/png": "[encoded data removed]",
      "text/plain": [
       "<Figure size 432x288 with 1 Axes>"
      ]
     },
     "metadata": {
      "needs_background": "light"
     },
     "output_type": "display_data"
    },
    {
     "data": {
      "image/png": "[encoded data removed]",
      "text/plain": [
       "<Figure size 432x288 with 1 Axes>"
      ]
     },
     "metadata": {
      "needs_background": "light"
     },
     "output_type": "display_data"
    },
    {
     "data": {
      "image/png": "[encoded data removed]",
      "text/plain": [
       "<Figure size 432x288 with 1 Axes>"
      ]
     },
     "metadata": {
      "needs_background": "light"
     },
     "output_type": "display_data"
    },
    {
     "data": {
      "image/png": "[encoded data removed]",
      "text/plain": [
       "<Figure size 432x288 with 1 Axes>"
      ]
     },
     "metadata": {
      "needs_background": "light"
     },
     "output_type": "display_data"
    },
    {
     "data": {
      "image/png": "[encoded data removed]",
      "text/plain": [
       "<Figure size 432x288 with 1 Axes>"
      ]
     },
     "metadata": {
      "needs_background": "light"
     },
     "output_type": "display_data"
    },
    {
     "data": {
      "image/png": "[encoded data removed]",
      "text/plain": [
       "<Figure size 432x288 with 1 Axes>"
      ]
     },
     "metadata": {
      "needs_background": "light"
     },
     "output_type": "display_data"
    },
    {
     "data": {
      "image/png": "[encoded data removed]",
      "text/plain": [
       "<Figure size 432x288 with 1 Axes>"
      ]
     },
     "metadata": {
      "needs_background": "light"
     },
     "output_type": "display_data"
    },
    {
     "data": {
      "image/png": "[encoded data removed]",
      "text/plain": [
       "<Figure size 432x288 with 1 Axes>"
      ]
     },
     "metadata": {
      "needs_background": "light"
     },
     "output_type": "display_data"
    },
    {
     "data": {
      "image/png": "[encoded data removed]",
      "text/plain": [
       "<Figure size 432x288 with 1 Axes>"
      ]
     },
     "metadata": {
      "needs_background": "light"
     },
     "output_type": "display_data"
    },
    {
     "data": {
      "image/png": "[encoded data removed]",
      "text/plain": [
       "<Figure size 432x288 with 1 Axes>"
      ]
     },
     "metadata": {
      "needs_background": "light"
     },
     "output_type": "display_data"
    },
    {
     "data": {
      "image/png": "[encoded data removed]",
      "text/plain": [
       "<Figure size 432x288 with 1 Axes>"
      ]
     },
     "metadata": {
      "needs_background": "light"
     },
     "output_type": "display_data"
    },
    {
     "data": {
      "image/png": "[encoded data removed]",
      "text/plain": [
       "<Figure size 432x288 with 1 Axes>"
      ]
     },
     "metadata": {
      "needs_background": "light"
     },
     "output_type": "display_data"
    },
    {
     "data": {
      "image/png": "[encoded data removed]",
      "text/plain": [
       "<Figure size 432x288 with 1 Axes>"
      ]
     },
     "metadata": {
      "needs_background": "light"
     },
     "output_type": "display_data"
    },
    {
     "name": "stderr",
     "output_type": "stream",
     "text": [
      "D:\\Anaconda3\\lib\\site-packages\\seaborn\\_decorators.py:36: FutureWarning: Pass the following variable as a keyword arg: x. From version 0.12, the only valid positional argument will be `data`, and passing other arguments without an explicit keyword will result in an error or misinterpretation.\n",
      "  warnings.warn(\n"
     ]
    },
    {
     "data": {
      "image/png": "[encoded data removed]",
      "text/plain": [
       "<Figure size 720x360 with 1 Axes>"
      ]
     },
     "metadata": {
      "needs_background": "light"
     },
     "output_type": "display_data"
    },
    {
     "name": "stderr",
     "output_type": "stream",
     "text": [
      "D:\\Anaconda3\\lib\\site-packages\\seaborn\\_decorators.py:36: FutureWarning: Pass the following variable as a keyword arg: x. From version 0.12, the only valid positional argument will be `data`, and passing other arguments without an explicit keyword will result in an error or misinterpretation.\n",
      "  warnings.warn(\n"
     ]
    },
    {
     "data": {
      "image/png": "[encoded data removed]",
      "text/plain": [
       "<Figure size 720x360 with 1 Axes>"
      ]
     },
     "metadata": {
      "needs_background": "light"
     },
     "output_type": "display_data"
    },
    {
     "name": "stderr",
     "output_type": "stream",
     "text": [
      "D:\\Anaconda3\\lib\\site-packages\\seaborn\\_decorators.py:36: FutureWarning: Pass the following variable as a keyword arg: x. From version 0.12, the only valid positional argument will be `data`, and passing other arguments without an explicit keyword will result in an error or misinterpretation.\n",
      "  warnings.warn(\n"
     ]
    },
    {
     "data": {
      "image/png": "[encoded data removed]",
      "text/plain": [
       "<Figure size 720x360 with 1 Axes>"
      ]
     },
     "metadata": {
      "needs_background": "light"
     },
     "output_type": "display_data"
    },
    {
     "name": "stderr",
     "output_type": "stream",
     "text": [
      "D:\\Anaconda3\\lib\\site-packages\\seaborn\\_decorators.py:36: FutureWarning: Pass the following variable as a keyword arg: x. From version 0.12, the only valid positional argument will be `data`, and passing other arguments without an explicit keyword will result in an error or misinterpretation.\n",
      "  warnings.warn(\n"
     ]
    },
    {
     "data": {
      "image/png": "[encoded data removed]",
      "text/plain": [
       "<Figure size 720x360 with 1 Axes>"
      ]
     },
     "metadata": {
      "needs_background": "light"
     },
     "output_type": "display_data"
    },
    {
     "name": "stderr",
     "output_type": "stream",
     "text": [
      "D:\\Anaconda3\\lib\\site-packages\\seaborn\\_decorators.py:36: FutureWarning: Pass the following variable as a keyword arg: x. From version 0.12, the only valid positional argument will be `data`, and passing other arguments without an explicit keyword will result in an error or misinterpretation.\n",
      "  warnings.warn(\n"
     ]
    },
    {
     "data": {
      "image/png": "[encoded data removed]",
      "text/plain": [
       "<Figure size 720x360 with 1 Axes>"
      ]
     },
     "metadata": {
      "needs_background": "light"
     },
     "output_type": "display_data"
    },
    {
     "name": "stderr",
     "output_type": "stream",
     "text": [
      "D:\\Anaconda3\\lib\\site-packages\\seaborn\\_decorators.py:36: FutureWarning: Pass the following variable as a keyword arg: x. From version 0.12, the only valid positional argument will be `data`, and passing other arguments without an explicit keyword will result in an error or misinterpretation.\n",
      "  warnings.warn(\n"
     ]
    },
    {
     "data": {
      "image/png": "[encoded data removed]",
      "text/plain": [
       "<Figure size 720x360 with 1 Axes>"
      ]
     },
     "metadata": {
      "needs_background": "light"
     },
     "output_type": "display_data"
    },
    {
     "name": "stderr",
     "output_type": "stream",
     "text": [
      "D:\\Anaconda3\\lib\\site-packages\\seaborn\\_decorators.py:36: FutureWarning: Pass the following variable as a keyword arg: x. From version 0.12, the only valid positional argument will be `data`, and passing other arguments without an explicit keyword will result in an error or misinterpretation.\n",
      "  warnings.warn(\n"
     ]
    },
    {
     "data": {
      "image/png": "[encoded data removed]",
      "text/plain": [
       "<Figure size 720x360 with 1 Axes>"
      ]
     },
     "metadata": {
      "needs_background": "light"
     },
     "output_type": "display_data"
    },
    {
     "name": "stderr",
     "output_type": "stream",
     "text": [
      "D:\\Anaconda3\\lib\\site-packages\\seaborn\\_decorators.py:36: FutureWarning: Pass the following variable as a keyword arg: x. From version 0.12, the only valid positional argument will be `data`, and passing other arguments without an explicit keyword will result in an error or misinterpretation.\n",
      "  warnings.warn(\n"
     ]
    },
    {
     "data": {
      "image/png": "[encoded data removed]",
      "text/plain": [
       "<Figure size 720x360 with 1 Axes>"
      ]
     },
     "metadata": {
      "needs_background": "light"
     },
     "output_type": "display_data"
    },
    {
     "name": "stderr",
     "output_type": "stream",
     "text": [
      "D:\\Anaconda3\\lib\\site-packages\\seaborn\\_decorators.py:36: FutureWarning: Pass the following variable as a keyword arg: x. From version 0.12, the only valid positional argument will be `data`, and passing other arguments without an explicit keyword will result in an error or misinterpretation.\n",
      "  warnings.warn(\n"
     ]
    },
    {
     "data": {
      "image/png": "[encoded data removed]",
      "text/plain": [
       "<Figure size 720x360 with 1 Axes>"
      ]
     },
     "metadata": {
      "needs_background": "light"
     },
     "output_type": "display_data"
    },
    {
     "name": "stderr",
     "output_type": "stream",
     "text": [
      "D:\\Anaconda3\\lib\\site-packages\\seaborn\\_decorators.py:36: FutureWarning: Pass the following variable as a keyword arg: x. From version 0.12, the only valid positional argument will be `data`, and passing other arguments without an explicit keyword will result in an error or misinterpretation.\n",
      "  warnings.warn(\n"
     ]
    },
    {
     "data": {
      "image/png": "[encoded data removed]",
      "text/plain": [
       "<Figure size 720x360 with 1 Axes>"
      ]
     },
     "metadata": {
      "needs_background": "light"
     },
     "output_type": "display_data"
    },
    {
     "name": "stderr",
     "output_type": "stream",
     "text": [
      "D:\\Anaconda3\\lib\\site-packages\\seaborn\\_decorators.py:36: FutureWarning: Pass the following variable as a keyword arg: x. From version 0.12, the only valid positional argument will be `data`, and passing other arguments without an explicit keyword will result in an error or misinterpretation.\n",
      "  warnings.warn(\n"
     ]
    },
    {
     "data": {
      "image/png": "[encoded data removed]",
      "text/plain": [
       "<Figure size 720x360 with 1 Axes>"
      ]
     },
     "metadata": {
      "needs_background": "light"
     },
     "output_type": "display_data"
    },
    {
     "name": "stderr",
     "output_type": "stream",
     "text": [
      "D:\\Anaconda3\\lib\\site-packages\\seaborn\\_decorators.py:36: FutureWarning: Pass the following variable as a keyword arg: x. From version 0.12, the only valid positional argument will be `data`, and passing other arguments without an explicit keyword will result in an error or misinterpretation.\n",
      "  warnings.warn(\n"
     ]
    },
    {
     "data": {
      "image/png": "[encoded data removed]",
      "text/plain": [
       "<Figure size 720x360 with 1 Axes>"
      ]
     },
     "metadata": {
      "needs_background": "light"
     },
     "output_type": "display_data"
    }
   ],
   "source": [
    "# using the package to plot the dataset\n",
    "pg.graphs(data,variable = 0,directory=directory)"
   ]
  },
  {
   "cell_type": "markdown",
   "metadata": {},
   "source": [
    "From the above graph shows the categorical variable(\"Date, bedroom, bathroom, floors, water_front, View, condition, grade, sqft_basement, yr_renovated, yr_built, zipcode\") and numerical variable(\"id, price, sqft_living, sqft_lot, sqft_above, lat, long, sqft_living15, sqft_lot15\"). From this information, I am going to reserch further in EDA."
   ]
  },
  {
   "cell_type": "code",
   "execution_count": null,
   "metadata": {},
   "outputs": [],
   "source": []
  },
  {
   "cell_type": "markdown",
   "metadata": {},
   "source": [
    "## EDA(Exploratory Data Analysis)"
   ]
  },
  {
   "cell_type": "code",
   "execution_count": 7,
   "metadata": {},
   "outputs": [
    {
     "data": {
      "text/html": [
       "<div>\n",
       "<style scoped>\n",
       "    .dataframe tbody tr th:only-of-type {\n",
       "        vertical-align: middle;\n",
       "    }\n",
       "\n",
       "    .dataframe tbody tr th {\n",
       "        vertical-align: top;\n",
       "    }\n",
       "\n",
       "    .dataframe thead th {\n",
       "        text-align: right;\n",
       "    }\n",
       "</style>\n",
       "<table border=\"1\" class=\"dataframe\">\n",
       "  <thead>\n",
       "    <tr style=\"text-align: right;\">\n",
       "      <th></th>\n",
       "      <th>id</th>\n",
       "      <th>price</th>\n",
       "      <th>bedrooms</th>\n",
       "      <th>bathrooms</th>\n",
       "      <th>sqft_living</th>\n",
       "      <th>sqft_lot</th>\n",
       "      <th>floors</th>\n",
       "      <th>waterfront</th>\n",
       "      <th>view</th>\n",
       "      <th>condition</th>\n",
       "      <th>grade</th>\n",
       "      <th>sqft_above</th>\n",
       "      <th>sqft_basement</th>\n",
       "      <th>yr_built</th>\n",
       "      <th>yr_renovated</th>\n",
       "      <th>zipcode</th>\n",
       "      <th>lat</th>\n",
       "      <th>long</th>\n",
       "      <th>sqft_living15</th>\n",
       "      <th>sqft_lot15</th>\n",
       "    </tr>\n",
       "  </thead>\n",
       "  <tbody>\n",
       "    <tr>\n",
       "      <th>count</th>\n",
       "      <td>9.761000e+03</td>\n",
       "      <td>9.761000e+03</td>\n",
       "      <td>9761.000000</td>\n",
       "      <td>9761.000000</td>\n",
       "      <td>9761.000000</td>\n",
       "      <td>9.761000e+03</td>\n",
       "      <td>9761.000000</td>\n",
       "      <td>9761.000000</td>\n",
       "      <td>9761.000000</td>\n",
       "      <td>9761.000000</td>\n",
       "      <td>9761.00000</td>\n",
       "      <td>9761.000000</td>\n",
       "      <td>9761.000000</td>\n",
       "      <td>9761.000000</td>\n",
       "      <td>9761.000000</td>\n",
       "      <td>9761.000000</td>\n",
       "      <td>9761.000000</td>\n",
       "      <td>9761.000000</td>\n",
       "      <td>9761.000000</td>\n",
       "      <td>9761.000000</td>\n",
       "    </tr>\n",
       "    <tr>\n",
       "      <th>mean</th>\n",
       "      <td>4.605288e+09</td>\n",
       "      <td>5.428336e+05</td>\n",
       "      <td>3.375884</td>\n",
       "      <td>2.117175</td>\n",
       "      <td>2086.734146</td>\n",
       "      <td>1.521526e+04</td>\n",
       "      <td>1.486067</td>\n",
       "      <td>0.008401</td>\n",
       "      <td>0.248028</td>\n",
       "      <td>3.415531</td>\n",
       "      <td>7.66151</td>\n",
       "      <td>1793.291159</td>\n",
       "      <td>293.442987</td>\n",
       "      <td>1970.799508</td>\n",
       "      <td>86.066592</td>\n",
       "      <td>98077.790185</td>\n",
       "      <td>47.560052</td>\n",
       "      <td>-122.214322</td>\n",
       "      <td>1992.359697</td>\n",
       "      <td>12824.785165</td>\n",
       "    </tr>\n",
       "    <tr>\n",
       "      <th>std</th>\n",
       "      <td>2.876044e+09</td>\n",
       "      <td>3.797779e+05</td>\n",
       "      <td>0.960697</td>\n",
       "      <td>0.773971</td>\n",
       "      <td>927.194303</td>\n",
       "      <td>4.126673e+04</td>\n",
       "      <td>0.532317</td>\n",
       "      <td>0.091275</td>\n",
       "      <td>0.787877</td>\n",
       "      <td>0.650552</td>\n",
       "      <td>1.18268</td>\n",
       "      <td>835.763817</td>\n",
       "      <td>442.612722</td>\n",
       "      <td>29.240009</td>\n",
       "      <td>405.417369</td>\n",
       "      <td>53.203594</td>\n",
       "      <td>0.140236</td>\n",
       "      <td>0.139895</td>\n",
       "      <td>687.322247</td>\n",
       "      <td>26518.337402</td>\n",
       "    </tr>\n",
       "    <tr>\n",
       "      <th>min</th>\n",
       "      <td>1.200019e+06</td>\n",
       "      <td>8.000000e+04</td>\n",
       "      <td>0.000000</td>\n",
       "      <td>0.000000</td>\n",
       "      <td>290.000000</td>\n",
       "      <td>5.200000e+02</td>\n",
       "      <td>1.000000</td>\n",
       "      <td>0.000000</td>\n",
       "      <td>0.000000</td>\n",
       "      <td>1.000000</td>\n",
       "      <td>1.00000</td>\n",
       "      <td>290.000000</td>\n",
       "      <td>0.000000</td>\n",
       "      <td>1900.000000</td>\n",
       "      <td>0.000000</td>\n",
       "      <td>98001.000000</td>\n",
       "      <td>47.155900</td>\n",
       "      <td>-122.514000</td>\n",
       "      <td>620.000000</td>\n",
       "      <td>660.000000</td>\n",
       "    </tr>\n",
       "    <tr>\n",
       "      <th>25%</th>\n",
       "      <td>2.126049e+09</td>\n",
       "      <td>3.200000e+05</td>\n",
       "      <td>3.000000</td>\n",
       "      <td>1.750000</td>\n",
       "      <td>1420.000000</td>\n",
       "      <td>5.100000e+03</td>\n",
       "      <td>1.000000</td>\n",
       "      <td>0.000000</td>\n",
       "      <td>0.000000</td>\n",
       "      <td>3.000000</td>\n",
       "      <td>7.00000</td>\n",
       "      <td>1190.000000</td>\n",
       "      <td>0.000000</td>\n",
       "      <td>1951.000000</td>\n",
       "      <td>0.000000</td>\n",
       "      <td>98033.000000</td>\n",
       "      <td>47.467800</td>\n",
       "      <td>-122.327000</td>\n",
       "      <td>1490.000000</td>\n",
       "      <td>5160.000000</td>\n",
       "    </tr>\n",
       "    <tr>\n",
       "      <th>50%</th>\n",
       "      <td>3.905041e+09</td>\n",
       "      <td>4.500000e+05</td>\n",
       "      <td>3.000000</td>\n",
       "      <td>2.250000</td>\n",
       "      <td>1910.000000</td>\n",
       "      <td>7.642000e+03</td>\n",
       "      <td>1.500000</td>\n",
       "      <td>0.000000</td>\n",
       "      <td>0.000000</td>\n",
       "      <td>3.000000</td>\n",
       "      <td>7.00000</td>\n",
       "      <td>1570.000000</td>\n",
       "      <td>0.000000</td>\n",
       "      <td>1975.000000</td>\n",
       "      <td>0.000000</td>\n",
       "      <td>98065.000000</td>\n",
       "      <td>47.572200</td>\n",
       "      <td>-122.229000</td>\n",
       "      <td>1840.000000</td>\n",
       "      <td>7660.000000</td>\n",
       "    </tr>\n",
       "    <tr>\n",
       "      <th>75%</th>\n",
       "      <td>7.338403e+09</td>\n",
       "      <td>6.490000e+05</td>\n",
       "      <td>4.000000</td>\n",
       "      <td>2.500000</td>\n",
       "      <td>2570.000000</td>\n",
       "      <td>1.066000e+04</td>\n",
       "      <td>2.000000</td>\n",
       "      <td>0.000000</td>\n",
       "      <td>0.000000</td>\n",
       "      <td>4.000000</td>\n",
       "      <td>8.00000</td>\n",
       "      <td>2230.000000</td>\n",
       "      <td>570.000000</td>\n",
       "      <td>1996.000000</td>\n",
       "      <td>0.000000</td>\n",
       "      <td>98117.000000</td>\n",
       "      <td>47.680400</td>\n",
       "      <td>-122.126000</td>\n",
       "      <td>2370.000000</td>\n",
       "      <td>10113.000000</td>\n",
       "    </tr>\n",
       "    <tr>\n",
       "      <th>max</th>\n",
       "      <td>9.900000e+09</td>\n",
       "      <td>7.700000e+06</td>\n",
       "      <td>33.000000</td>\n",
       "      <td>8.000000</td>\n",
       "      <td>12050.000000</td>\n",
       "      <td>1.651359e+06</td>\n",
       "      <td>3.500000</td>\n",
       "      <td>1.000000</td>\n",
       "      <td>4.000000</td>\n",
       "      <td>5.000000</td>\n",
       "      <td>13.00000</td>\n",
       "      <td>8860.000000</td>\n",
       "      <td>3480.000000</td>\n",
       "      <td>2015.000000</td>\n",
       "      <td>2015.000000</td>\n",
       "      <td>98199.000000</td>\n",
       "      <td>47.777600</td>\n",
       "      <td>-121.319000</td>\n",
       "      <td>5790.000000</td>\n",
       "      <td>560617.000000</td>\n",
       "    </tr>\n",
       "  </tbody>\n",
       "</table>\n",
       "</div>"
      ],
      "text/plain": [
       "                 id         price     bedrooms    bathrooms   sqft_living  \\\n",
       "count  9.761000e+03  9.761000e+03  9761.000000  9761.000000   9761.000000   \n",
       "mean   4.605288e+09  5.428336e+05     3.375884     2.117175   2086.734146   \n",
       "std    2.876044e+09  3.797779e+05     0.960697     0.773971    927.194303   \n",
       "min    1.200019e+06  8.000000e+04     0.000000     0.000000    290.000000   \n",
       "25%    2.126049e+09  3.200000e+05     3.000000     1.750000   1420.000000   \n",
       "50%    3.905041e+09  4.500000e+05     3.000000     2.250000   1910.000000   \n",
       "75%    7.338403e+09  6.490000e+05     4.000000     2.500000   2570.000000   \n",
       "max    9.900000e+09  7.700000e+06    33.000000     8.000000  12050.000000   \n",
       "\n",
       "           sqft_lot       floors   waterfront         view    condition  \\\n",
       "count  9.761000e+03  9761.000000  9761.000000  9761.000000  9761.000000   \n",
       "mean   1.521526e+04     1.486067     0.008401     0.248028     3.415531   \n",
       "std    4.126673e+04     0.532317     0.091275     0.787877     0.650552   \n",
       "min    5.200000e+02     1.000000     0.000000     0.000000     1.000000   \n",
       "25%    5.100000e+03     1.000000     0.000000     0.000000     3.000000   \n",
       "50%    7.642000e+03     1.500000     0.000000     0.000000     3.000000   \n",
       "75%    1.066000e+04     2.000000     0.000000     0.000000     4.000000   \n",
       "max    1.651359e+06     3.500000     1.000000     4.000000     5.000000   \n",
       "\n",
       "            grade   sqft_above  sqft_basement     yr_built  yr_renovated  \\\n",
       "count  9761.00000  9761.000000    9761.000000  9761.000000   9761.000000   \n",
       "mean      7.66151  1793.291159     293.442987  1970.799508     86.066592   \n",
       "std       1.18268   835.763817     442.612722    29.240009    405.417369   \n",
       "min       1.00000   290.000000       0.000000  1900.000000      0.000000   \n",
       "25%       7.00000  1190.000000       0.000000  1951.000000      0.000000   \n",
       "50%       7.00000  1570.000000       0.000000  1975.000000      0.000000   \n",
       "75%       8.00000  2230.000000     570.000000  1996.000000      0.000000   \n",
       "max      13.00000  8860.000000    3480.000000  2015.000000   2015.000000   \n",
       "\n",
       "            zipcode          lat         long  sqft_living15     sqft_lot15  \n",
       "count   9761.000000  9761.000000  9761.000000    9761.000000    9761.000000  \n",
       "mean   98077.790185    47.560052  -122.214322    1992.359697   12824.785165  \n",
       "std       53.203594     0.140236     0.139895     687.322247   26518.337402  \n",
       "min    98001.000000    47.155900  -122.514000     620.000000     660.000000  \n",
       "25%    98033.000000    47.467800  -122.327000    1490.000000    5160.000000  \n",
       "50%    98065.000000    47.572200  -122.229000    1840.000000    7660.000000  \n",
       "75%    98117.000000    47.680400  -122.126000    2370.000000   10113.000000  \n",
       "max    98199.000000    47.777600  -121.319000    5790.000000  560617.000000  "
      ]
     },
     "execution_count": 7,
     "metadata": {},
     "output_type": "execute_result"
    }
   ],
   "source": [
    "house.describe()"
   ]
  },
  {
   "cell_type": "code",
   "execution_count": 8,
   "metadata": {},
   "outputs": [],
   "source": [
    "# checking and changing the outliers for bedroom \n",
    "\n",
    "house[house['bedrooms']>10]\n",
    "#removing the a row from this dataset, due to containg 33 bedrooms in it\n",
    "house.drop(house.index[house.bedrooms > 10 ],axis = 0,inplace=True)  "
   ]
  },
  {
   "cell_type": "code",
   "execution_count": 9,
   "metadata": {},
   "outputs": [
    {
     "data": {
      "text/html": [
       "<div>\n",
       "<style scoped>\n",
       "    .dataframe tbody tr th:only-of-type {\n",
       "        vertical-align: middle;\n",
       "    }\n",
       "\n",
       "    .dataframe tbody tr th {\n",
       "        vertical-align: top;\n",
       "    }\n",
       "\n",
       "    .dataframe thead th {\n",
       "        text-align: right;\n",
       "    }\n",
       "</style>\n",
       "<table border=\"1\" class=\"dataframe\">\n",
       "  <thead>\n",
       "    <tr style=\"text-align: right;\">\n",
       "      <th></th>\n",
       "      <th>id</th>\n",
       "      <th>date</th>\n",
       "      <th>price</th>\n",
       "      <th>bedrooms</th>\n",
       "      <th>bathrooms</th>\n",
       "      <th>sqft_living</th>\n",
       "      <th>sqft_lot</th>\n",
       "      <th>floors</th>\n",
       "      <th>waterfront</th>\n",
       "      <th>view</th>\n",
       "      <th>...</th>\n",
       "      <th>grade</th>\n",
       "      <th>sqft_above</th>\n",
       "      <th>sqft_basement</th>\n",
       "      <th>yr_built</th>\n",
       "      <th>yr_renovated</th>\n",
       "      <th>zipcode</th>\n",
       "      <th>lat</th>\n",
       "      <th>long</th>\n",
       "      <th>sqft_living15</th>\n",
       "      <th>sqft_lot15</th>\n",
       "    </tr>\n",
       "  </thead>\n",
       "  <tbody>\n",
       "    <tr>\n",
       "      <th>0</th>\n",
       "      <td>2487200875</td>\n",
       "      <td>2014-12-09</td>\n",
       "      <td>604000.0</td>\n",
       "      <td>4</td>\n",
       "      <td>3.00</td>\n",
       "      <td>1960</td>\n",
       "      <td>5000</td>\n",
       "      <td>1.0</td>\n",
       "      <td>0</td>\n",
       "      <td>0</td>\n",
       "      <td>...</td>\n",
       "      <td>7</td>\n",
       "      <td>1050</td>\n",
       "      <td>910</td>\n",
       "      <td>1965</td>\n",
       "      <td>0</td>\n",
       "      <td>98136</td>\n",
       "      <td>47.5208</td>\n",
       "      <td>-122.393</td>\n",
       "      <td>1360</td>\n",
       "      <td>5000</td>\n",
       "    </tr>\n",
       "    <tr>\n",
       "      <th>1</th>\n",
       "      <td>7237550310</td>\n",
       "      <td>2014-05-12</td>\n",
       "      <td>1230000.0</td>\n",
       "      <td>4</td>\n",
       "      <td>4.50</td>\n",
       "      <td>5420</td>\n",
       "      <td>101930</td>\n",
       "      <td>1.0</td>\n",
       "      <td>0</td>\n",
       "      <td>0</td>\n",
       "      <td>...</td>\n",
       "      <td>11</td>\n",
       "      <td>3890</td>\n",
       "      <td>1530</td>\n",
       "      <td>2001</td>\n",
       "      <td>0</td>\n",
       "      <td>98053</td>\n",
       "      <td>47.6561</td>\n",
       "      <td>-122.005</td>\n",
       "      <td>4760</td>\n",
       "      <td>101930</td>\n",
       "    </tr>\n",
       "    <tr>\n",
       "      <th>2</th>\n",
       "      <td>9212900260</td>\n",
       "      <td>2014-05-27</td>\n",
       "      <td>468000.0</td>\n",
       "      <td>2</td>\n",
       "      <td>1.00</td>\n",
       "      <td>1160</td>\n",
       "      <td>6000</td>\n",
       "      <td>1.0</td>\n",
       "      <td>0</td>\n",
       "      <td>0</td>\n",
       "      <td>...</td>\n",
       "      <td>7</td>\n",
       "      <td>860</td>\n",
       "      <td>300</td>\n",
       "      <td>1942</td>\n",
       "      <td>0</td>\n",
       "      <td>98115</td>\n",
       "      <td>47.6900</td>\n",
       "      <td>-122.292</td>\n",
       "      <td>1330</td>\n",
       "      <td>6000</td>\n",
       "    </tr>\n",
       "    <tr>\n",
       "      <th>3</th>\n",
       "      <td>114101516</td>\n",
       "      <td>2014-05-28</td>\n",
       "      <td>310000.0</td>\n",
       "      <td>3</td>\n",
       "      <td>1.00</td>\n",
       "      <td>1430</td>\n",
       "      <td>19901</td>\n",
       "      <td>1.5</td>\n",
       "      <td>0</td>\n",
       "      <td>0</td>\n",
       "      <td>...</td>\n",
       "      <td>7</td>\n",
       "      <td>1430</td>\n",
       "      <td>0</td>\n",
       "      <td>1927</td>\n",
       "      <td>0</td>\n",
       "      <td>98028</td>\n",
       "      <td>47.7558</td>\n",
       "      <td>-122.229</td>\n",
       "      <td>1780</td>\n",
       "      <td>12697</td>\n",
       "    </tr>\n",
       "    <tr>\n",
       "      <th>4</th>\n",
       "      <td>6054650070</td>\n",
       "      <td>2014-10-07</td>\n",
       "      <td>400000.0</td>\n",
       "      <td>3</td>\n",
       "      <td>1.75</td>\n",
       "      <td>1370</td>\n",
       "      <td>9680</td>\n",
       "      <td>1.0</td>\n",
       "      <td>0</td>\n",
       "      <td>0</td>\n",
       "      <td>...</td>\n",
       "      <td>7</td>\n",
       "      <td>1370</td>\n",
       "      <td>0</td>\n",
       "      <td>1977</td>\n",
       "      <td>0</td>\n",
       "      <td>98074</td>\n",
       "      <td>47.6127</td>\n",
       "      <td>-122.045</td>\n",
       "      <td>1370</td>\n",
       "      <td>10208</td>\n",
       "    </tr>\n",
       "  </tbody>\n",
       "</table>\n",
       "<p>5 rows × 21 columns</p>\n",
       "</div>"
      ],
      "text/plain": [
       "           id       date      price  bedrooms  bathrooms  sqft_living  \\\n",
       "0  2487200875 2014-12-09   604000.0         4       3.00         1960   \n",
       "1  7237550310 2014-05-12  1230000.0         4       4.50         5420   \n",
       "2  9212900260 2014-05-27   468000.0         2       1.00         1160   \n",
       "3   114101516 2014-05-28   310000.0         3       1.00         1430   \n",
       "4  6054650070 2014-10-07   400000.0         3       1.75         1370   \n",
       "\n",
       "   sqft_lot  floors  waterfront  view  ...  grade  sqft_above  sqft_basement  \\\n",
       "0      5000     1.0           0     0  ...      7        1050            910   \n",
       "1    101930     1.0           0     0  ...     11        3890           1530   \n",
       "2      6000     1.0           0     0  ...      7         860            300   \n",
       "3     19901     1.5           0     0  ...      7        1430              0   \n",
       "4      9680     1.0           0     0  ...      7        1370              0   \n",
       "\n",
       "   yr_built  yr_renovated  zipcode      lat     long  sqft_living15  \\\n",
       "0      1965             0    98136  47.5208 -122.393           1360   \n",
       "1      2001             0    98053  47.6561 -122.005           4760   \n",
       "2      1942             0    98115  47.6900 -122.292           1330   \n",
       "3      1927             0    98028  47.7558 -122.229           1780   \n",
       "4      1977             0    98074  47.6127 -122.045           1370   \n",
       "\n",
       "   sqft_lot15  \n",
       "0        5000  \n",
       "1      101930  \n",
       "2        6000  \n",
       "3       12697  \n",
       "4       10208  \n",
       "\n",
       "[5 rows x 21 columns]"
      ]
     },
     "execution_count": 9,
     "metadata": {},
     "output_type": "execute_result"
    }
   ],
   "source": [
    "# forming the 'date' in correct structure:\n",
    "\n",
    "house.date = pd.to_datetime(house['date'])\n",
    "house.head()"
   ]
  },
  {
   "cell_type": "code",
   "execution_count": 10,
   "metadata": {},
   "outputs": [],
   "source": [
    "# adding a new column in the dataset\n",
    "\n",
    "house['house_age'] = 2020-house['yr_built']          #Calculating the age of the house since construction"
   ]
  },
  {
   "cell_type": "code",
   "execution_count": 11,
   "metadata": {
    "scrolled": false
   },
   "outputs": [
    {
     "data": {
      "image/png": "[encoded data removed]",
      "text/plain": [
       "<Figure size 1440x1080 with 2 Axes>"
      ]
     },
     "metadata": {
      "needs_background": "light"
     },
     "output_type": "display_data"
    }
   ],
   "source": [
    "# Seeing the Correlation chart and plotting in the heat map:\n",
    "\n",
    "correlation = house.corr()\n",
    "# plotting it in heat map\n",
    "plt.subplots(figsize=(20,15))\n",
    "sns.heatmap(correlation, xticklabels=correlation.columns, yticklabels=correlation.columns, annot=True,\n",
    "            annot_kws={'size': 10},square=True)\n",
    "plt.show()"
   ]
  },
  {
   "cell_type": "markdown",
   "metadata": {},
   "source": [
    "## 1.Fitting a Linear Regression"
   ]
  },
  {
   "cell_type": "code",
   "execution_count": 12,
   "metadata": {},
   "outputs": [
    {
     "name": "stdout",
     "output_type": "stream",
     "text": [
      "The Mean Absolute Error is  : 145699.05483208818\n",
      "The R-square is : 0.6436537040673258\n",
      "\n",
      "\n",
      "The average value obtained in 10-fold cross-validation is :  0.6290033193695084\n"
     ]
    }
   ],
   "source": [
    "# LR model - 1:\n",
    "\n",
    "X=house[['bedrooms','bathrooms','sqft_living','view','grade','house_age','zipcode']]\n",
    "y=house['price']\n",
    "#Splitting the data set into test and train for the train and validation purpose:\n",
    "X_train, X_test, y_train, y_test = train_test_split(X,y,test_size=0.3, random_state = 7)\n",
    "\n",
    "# Standardizing the target variables :\n",
    "std = StandardScaler()                    #standardizing the function\n",
    "X_train_std = std.fit_transform(X_train)  #Standardizing the train data\n",
    "X_test_std = std.transform(X_test)        #Standardizing the test data \n",
    "lr = LinearRegression()            #Linear regression function assigned to lr\n",
    "lr.fit(X_train_std,y_train)        #fitting the model\n",
    "y_pred = lr.predict(X_test_std)    #predicted value\n",
    "\n",
    "\n",
    "#Calculating the mean absolute error:  \n",
    "print(\"The Mean Absolute Error is  :\" ,mean_absolute_error(y_test,y_pred) ) \n",
    "#Calculating the R_square value:\n",
    "print(\"The R-square is :\",r2_score(y_test,y_pred))\n",
    "print(\"\\n\")\n",
    "\n",
    "# creating a KFold with 10 splits \n",
    "folds = KFold(n_splits = 10, shuffle = True, random_state = 100)       #Split of the dataset\n",
    "scores = cross_val_score(lr, X_train, y_train, scoring='r2', cv=folds)  #fitting the Cross validation\n",
    "print(\"The average value obtained in 10-fold cross-validation is : \", np.mean(scores))"
   ]
  },
  {
   "cell_type": "code",
   "execution_count": 13,
   "metadata": {
    "scrolled": false
   },
   "outputs": [
    {
     "data": {
      "text/plain": [
       "<matplotlib.collections.PathCollection at 0x1d0d3bd3d00>"
      ]
     },
     "execution_count": 13,
     "metadata": {},
     "output_type": "execute_result"
    },
    {
     "data": {
      "image/png": "[encoded data removed]",
      "text/plain": [
       "<Figure size 432x288 with 1 Axes>"
      ]
     },
     "metadata": {
      "needs_background": "light"
     },
     "output_type": "display_data"
    }
   ],
   "source": [
    "plt.scatter(y_test,y_pred) # scatter plot to show the y_test and y_pred"
   ]
  },
  {
   "cell_type": "code",
   "execution_count": 14,
   "metadata": {
    "scrolled": false
   },
   "outputs": [
    {
     "name": "stderr",
     "output_type": "stream",
     "text": [
      "D:\\Anaconda3\\lib\\site-packages\\seaborn\\distributions.py:2551: FutureWarning: `distplot` is a deprecated function and will be removed in a future version. Please adapt your code to use either `displot` (a figure-level function with similar flexibility) or `histplot` (an axes-level function for histograms).\n",
      "  warnings.warn(msg, FutureWarning)\n"
     ]
    },
    {
     "data": {
      "text/plain": [
       "<AxesSubplot:xlabel='price', ylabel='Density'>"
      ]
     },
     "execution_count": 14,
     "metadata": {},
     "output_type": "execute_result"
    },
    {
     "data": {
      "image/png": "[encoded data removed]",
      "text/plain": [
       "<Figure size 432x288 with 1 Axes>"
      ]
     },
     "metadata": {
      "needs_background": "light"
     },
     "output_type": "display_data"
    }
   ],
   "source": [
    "# Residual histogram plot\n",
    "sns.distplot((y_test-y_pred),bins=60)"
   ]
  },
  {
   "cell_type": "code",
   "execution_count": 15,
   "metadata": {},
   "outputs": [
    {
     "name": "stdout",
     "output_type": "stream",
     "text": [
      "The Mean Absolute Error is  : 131858.15885527374\n",
      "The R-square is : 0.682497671203824\n",
      "\n",
      "\n",
      "The average value obtained in 10-fold cross-validation is :  0.6750661888942302\n"
     ]
    }
   ],
   "source": [
    "# LR model - 2:\n",
    "\n",
    "X=house[['bedrooms','bathrooms','sqft_living','view','condition','grade','house_age','lat','long','zipcode']]\n",
    "y=house['price']\n",
    "#Splitting the data set into test and train for the train and validation purpose:\n",
    "X_train, X_test, y_train, y_test = train_test_split(X,y,test_size=0.3, random_state = 7)\n",
    "\n",
    "# Standardizing the target variables :\n",
    "std = StandardScaler()                    #standardizing the function\n",
    "X_train_std = std.fit_transform(X_train)  #Standardizing the train data\n",
    "X_test_std = std.transform(X_test)        #Standardizing the test data \n",
    "lr = LinearRegression()            #Linear regression function assigned to lr\n",
    "lr.fit(X_train_std,y_train)        #fitting the model\n",
    "y_pred = lr.predict(X_test_std)    #predicted value\n",
    "\n",
    "\n",
    "#Calculating the mean absolute error:  \n",
    "print(\"The Mean Absolute Error is  :\" ,mean_absolute_error(y_test,y_pred) ) \n",
    "#Calculating the R_square value:\n",
    "print(\"The R-square is :\",r2_score(y_test,y_pred))\n",
    "print(\"\\n\")\n",
    "\n",
    "# creating a KFold with 10 splits \n",
    "folds = KFold(n_splits = 10, shuffle = True, random_state = 100)       #Split of the dataset\n",
    "scores = cross_val_score(lr, X_train, y_train, scoring='r2', cv=folds)  #fitting the Cross validation\n",
    "print(\"The average value obtained in 10-fold cross-validation is : \", np.mean(scores))"
   ]
  },
  {
   "cell_type": "code",
   "execution_count": 16,
   "metadata": {
    "scrolled": true
   },
   "outputs": [
    {
     "data": {
      "text/plain": [
       "<matplotlib.collections.PathCollection at 0x1d0d3d1d9a0>"
      ]
     },
     "execution_count": 16,
     "metadata": {},
     "output_type": "execute_result"
    },
    {
     "data": {
      "image/png": "[encoded data removed]",
      "text/plain": [
       "<Figure size 432x288 with 1 Axes>"
      ]
     },
     "metadata": {
      "needs_background": "light"
     },
     "output_type": "display_data"
    }
   ],
   "source": [
    "plt.scatter(y_test,y_pred) # scatter plot to show the y_test and y_pred"
   ]
  },
  {
   "cell_type": "code",
   "execution_count": 17,
   "metadata": {
    "scrolled": false
   },
   "outputs": [
    {
     "name": "stderr",
     "output_type": "stream",
     "text": [
      "D:\\Anaconda3\\lib\\site-packages\\seaborn\\distributions.py:2551: FutureWarning: `distplot` is a deprecated function and will be removed in a future version. Please adapt your code to use either `displot` (a figure-level function with similar flexibility) or `histplot` (an axes-level function for histograms).\n",
      "  warnings.warn(msg, FutureWarning)\n"
     ]
    },
    {
     "data": {
      "text/plain": [
       "<AxesSubplot:xlabel='price', ylabel='Density'>"
      ]
     },
     "execution_count": 17,
     "metadata": {},
     "output_type": "execute_result"
    },
    {
     "data": {
      "image/png": "[encoded data removed]",
      "text/plain": [
       "<Figure size 432x288 with 1 Axes>"
      ]
     },
     "metadata": {
      "needs_background": "light"
     },
     "output_type": "display_data"
    }
   ],
   "source": [
    "# Residual histogram plot\n",
    "sns.distplot((y_test-y_pred),bins=60)"
   ]
  },
  {
   "cell_type": "markdown",
   "metadata": {},
   "source": [
    "## Feature Engineering"
   ]
  },
  {
   "cell_type": "code",
   "execution_count": 18,
   "metadata": {},
   "outputs": [
    {
     "name": "stdout",
     "output_type": "stream",
     "text": [
      "Using log the Mean Absolute Error is  : 137179.45053521128\n",
      "Using log the R-square is : 0.6840329245961867\n",
      "\n",
      "\n",
      "Using log the average value obtained in 10-fold cross-validation is :  0.6346389971263153\n",
      "Using log the maximum value obtained in 10-fold cross-validation is :  0.6698980340222297\n"
     ]
    }
   ],
   "source": [
    "# log fitting model - 1:\n",
    "\n",
    "X=house[['bedrooms','sqft_living','view','grade','house_age','zipcode']]\n",
    "y=np.log(house['price'])\n",
    "#Splitting the data set into test and train for the train and validation purpose:\n",
    "X_train, X_test, y_train, y_test = train_test_split(X,y,test_size=0.3, random_state = 33)\n",
    "\n",
    "# Standardizing the target variables :\n",
    "std = StandardScaler()                    #standardizing the function\n",
    "X_train_std = std.fit_transform(X_train)  #Standardizing the train data\n",
    "X_test_std = std.transform(X_test)        #Standardizing the test data \n",
    "lr = LinearRegression()            #Linear regression function assigned to lr\n",
    "lr.fit(X_train_std,y_train)        #fitting the model\n",
    "y_pred = lr.predict(X_test_std)    #predicted value\n",
    "y_pred = np.exp(y_pred)\n",
    "y_test = np.exp(y_test)\n",
    "\n",
    "#Calculating the mean absolute error:  \n",
    "print(\"Using log the Mean Absolute Error is  :\" ,mean_absolute_error(y_test,y_pred) ) \n",
    "#Calculating the R_square value:\n",
    "print(\"Using log the R-square is :\",r2_score(y_test,y_pred))\n",
    "print(\"\\n\")\n",
    "\n",
    "# creating a KFold with 10 splits \n",
    "folds = KFold(n_splits = 10, shuffle = True, random_state = 100)       #Split of the dataset\n",
    "scores = cross_val_score(lr, X_train, y_train, scoring='r2', cv=folds)  #fitting the Cross validation\n",
    "print(\"Using log the average value obtained in 10-fold cross-validation is : \", np.mean(scores))\n",
    "print(\"Using log the maximum value obtained in 10-fold cross-validation is : \", max(scores))"
   ]
  },
  {
   "cell_type": "code",
   "execution_count": 19,
   "metadata": {},
   "outputs": [
    {
     "name": "stdout",
     "output_type": "stream",
     "text": [
      "Using log the Mean Absolute Error is  : 116923.90549486085\n",
      "Using log the R-square is : 0.7377736440594497\n",
      "\n",
      "\n",
      "Using log the average value obtained in 10-fold cross-validation is :  0.760823678449469\n",
      "Using log the maximum value obtained in 10-fold cross-validation is :  0.7899018077790415\n"
     ]
    }
   ],
   "source": [
    "# log fitting model - 2:\n",
    "\n",
    "X=house[['bathrooms','sqft_living','view','condition','grade','house_age','lat','zipcode']]\n",
    "y=np.log(house['price'])\n",
    "#Splitting the data set into test and train for the train and validation purpose:\n",
    "X_train, X_test, y_train, y_test = train_test_split(X,y,test_size=0.3, random_state = 33)\n",
    "\n",
    "# Standardizing the target variables :\n",
    "std = StandardScaler()                    #standardizing the function\n",
    "X_train_std = std.fit_transform(X_train)  #Standardizing the train data\n",
    "X_test_std = std.transform(X_test)        #Standardizing the test data \n",
    "lr = LinearRegression()            #Linear regression function assigned to lr\n",
    "lr.fit(X_train_std,y_train)        #fitting the model\n",
    "y_pred = lr.predict(X_test_std)    #predicted value\n",
    "y_pred = np.exp(y_pred)\n",
    "y_test = np.exp(y_test)\n",
    "\n",
    "#Calculating the mean absolute error:  \n",
    "print(\"Using log the Mean Absolute Error is  :\" ,mean_absolute_error(y_test,y_pred) ) \n",
    "#Calculating the R_square value:\n",
    "print(\"Using log the R-square is :\",r2_score(y_test,y_pred))\n",
    "print(\"\\n\")\n",
    "\n",
    "# creating a KFold with 10 splits \n",
    "folds = KFold(n_splits = 10, shuffle = True, random_state = 100)       #Split of the dataset\n",
    "scores = cross_val_score(lr, X_train, y_train, scoring='r2', cv=folds)  #fitting the Cross validation\n",
    "print(\"Using log the average value obtained in 10-fold cross-validation is : \", np.mean(scores))\n",
    "print(\"Using log the maximum value obtained in 10-fold cross-validation is : \", max(scores))"
   ]
  },
  {
   "cell_type": "markdown",
   "metadata": {},
   "source": [
    "### Fitting a Linear Regression model along with dummy variables('zipcode')"
   ]
  },
  {
   "cell_type": "code",
   "execution_count": 20,
   "metadata": {
    "scrolled": true
   },
   "outputs": [
    {
     "name": "stdout",
     "output_type": "stream",
     "text": [
      "The Mean Absolute Error is  : 104825.33519545263\n",
      "The R-square is : 0.7704191250444702\n",
      "\n",
      "\n",
      "The average value obtained in 10-fold cross-validation is :  0.7703313616701805\n"
     ]
    }
   ],
   "source": [
    "# LR model with dummies:\n",
    "\n",
    "X=house[['bedrooms','bathrooms','sqft_living','view','condition','grade','house_age','zipcode']]\n",
    "y=house['price']\n",
    "\n",
    "# creating a dummy variable for this variable:\n",
    "d1 = pd.get_dummies(house.zipcode)\n",
    "X = pd.concat([X,d1],axis = 1)\n",
    "X.drop(['zipcode'],axis = 1,inplace=True)\n",
    "\n",
    "#Splitting the data set into test and train for the train and validation purpose:\n",
    "X_train, X_test, y_train, y_test = train_test_split(X,y,test_size=0.3, random_state = 7)\n",
    "\n",
    "# Standardizing the target variables :\n",
    "std = StandardScaler()                    #standardizing the function\n",
    "X_train_std = std.fit_transform(X_train)  #Standardizing the train data\n",
    "X_test_std = std.transform(X_test)        #Standardizing the test data \n",
    "lr = LinearRegression()            #Linear regression function assigned to lr\n",
    "lr.fit(X_train_std,y_train)        #fitting the model\n",
    "y_pred = lr.predict(X_test_std)    #predicted value\n",
    "\n",
    "\n",
    "#Calculating the mean absolute error:  \n",
    "print(\"The Mean Absolute Error is  :\" ,mean_absolute_error(y_test,y_pred) ) \n",
    "#Calculating the R_square value:\n",
    "print(\"The R-square is :\",r2_score(y_test,y_pred))\n",
    "print(\"\\n\")\n",
    "\n",
    "# creating a KFold with 10 splits \n",
    "folds = KFold(n_splits = 10, shuffle = True, random_state = 100)       #Split of the dataset\n",
    "scores = cross_val_score(lr, X_train, y_train, scoring='r2', cv=folds)  #fitting the Cross validation\n",
    "print(\"The average value obtained in 10-fold cross-validation is : \", np.mean(scores))"
   ]
  },
  {
   "cell_type": "markdown",
   "metadata": {},
   "source": [
    "## 2.Forward Selection Method"
   ]
  },
  {
   "cell_type": "code",
   "execution_count": 21,
   "metadata": {},
   "outputs": [
    {
     "name": "stderr",
     "output_type": "stream",
     "text": [
      "[Parallel(n_jobs=-1)]: Using backend LokyBackend with 8 concurrent workers.\n",
      "[Parallel(n_jobs=-1)]: Done  14 out of  19 | elapsed:    3.4s remaining:    1.2s\n",
      "[Parallel(n_jobs=-1)]: Done  19 out of  19 | elapsed:    3.7s finished\n",
      "\n",
      "[2021-07-10 22:13:40] Features: 1/10 -- score: 0.4929047326574203[Parallel(n_jobs=-1)]: Using backend LokyBackend with 8 concurrent workers.\n",
      "[Parallel(n_jobs=-1)]: Done  13 out of  18 | elapsed:    0.0s remaining:    0.0s\n",
      "[Parallel(n_jobs=-1)]: Done  18 out of  18 | elapsed:    0.0s finished\n",
      "\n",
      "[2021-07-10 22:13:40] Features: 2/10 -- score: 0.5639993419376943[Parallel(n_jobs=-1)]: Using backend LokyBackend with 8 concurrent workers.\n",
      "[Parallel(n_jobs=-1)]: Done  11 out of  17 | elapsed:    0.0s remaining:    0.0s\n",
      "[Parallel(n_jobs=-1)]: Done  17 out of  17 | elapsed:    0.0s finished\n",
      "\n",
      "[2021-07-10 22:13:40] Features: 3/10 -- score: 0.6123663335703137[Parallel(n_jobs=-1)]: Using backend LokyBackend with 8 concurrent workers.\n",
      "[Parallel(n_jobs=-1)]: Done  10 out of  16 | elapsed:    0.0s remaining:    0.0s\n",
      "[Parallel(n_jobs=-1)]: Done  16 out of  16 | elapsed:    0.0s finished\n",
      "\n",
      "[2021-07-10 22:13:40] Features: 4/10 -- score: 0.6379316752239996[Parallel(n_jobs=-1)]: Using backend LokyBackend with 8 concurrent workers.\n",
      "[Parallel(n_jobs=-1)]: Done   8 out of  15 | elapsed:    0.0s remaining:    0.0s\n",
      "[Parallel(n_jobs=-1)]: Done  15 out of  15 | elapsed:    0.0s finished\n",
      "\n",
      "[2021-07-10 22:13:40] Features: 5/10 -- score: 0.6653746287866917[Parallel(n_jobs=-1)]: Using backend LokyBackend with 8 concurrent workers.\n",
      "[Parallel(n_jobs=-1)]: Done   7 out of  14 | elapsed:    0.0s remaining:    0.0s\n",
      "[Parallel(n_jobs=-1)]: Done  14 out of  14 | elapsed:    0.0s finished\n",
      "\n",
      "[2021-07-10 22:13:40] Features: 6/10 -- score: 0.6794810575854564[Parallel(n_jobs=-1)]: Using backend LokyBackend with 8 concurrent workers.\n",
      "[Parallel(n_jobs=-1)]: Done   5 out of  13 | elapsed:    0.0s remaining:    0.0s\n",
      "[Parallel(n_jobs=-1)]: Done  13 out of  13 | elapsed:    0.0s finished\n",
      "\n",
      "[2021-07-10 22:13:40] Features: 7/10 -- score: 0.6819848292208414[Parallel(n_jobs=-1)]: Using backend LokyBackend with 8 concurrent workers.\n",
      "[Parallel(n_jobs=-1)]: Done   4 out of  12 | elapsed:    0.0s remaining:    0.0s\n",
      "[Parallel(n_jobs=-1)]: Done  12 out of  12 | elapsed:    0.0s finished\n",
      "\n",
      "[2021-07-10 22:13:40] Features: 8/10 -- score: 0.6858386321127178[Parallel(n_jobs=-1)]: Using backend LokyBackend with 8 concurrent workers.\n",
      "[Parallel(n_jobs=-1)]: Done   2 out of  11 | elapsed:    0.0s remaining:    0.1s\n",
      "[Parallel(n_jobs=-1)]: Done   8 out of  11 | elapsed:    0.0s remaining:    0.0s\n",
      "[Parallel(n_jobs=-1)]: Done  11 out of  11 | elapsed:    0.0s finished\n",
      "\n",
      "[2021-07-10 22:13:40] Features: 9/10 -- score: 0.6888145160058887[Parallel(n_jobs=-1)]: Using backend LokyBackend with 8 concurrent workers.\n"
     ]
    },
    {
     "name": "stdout",
     "output_type": "stream",
     "text": [
      "Accuracy :  0.6914807321979142\n",
      "Feautures selected :  ('bedrooms', 'bathrooms', 'sqft_living', 'waterfront', 'view', 'grade', 'zipcode', 'lat', 'long', 'house_age')\n"
     ]
    },
    {
     "name": "stderr",
     "output_type": "stream",
     "text": [
      "[Parallel(n_jobs=-1)]: Done   7 out of  10 | elapsed:    0.0s remaining:    0.0s\n",
      "[Parallel(n_jobs=-1)]: Done  10 out of  10 | elapsed:    0.0s finished\n",
      "\n",
      "[2021-07-10 22:13:40] Features: 10/10 -- score: 0.6914807321979142"
     ]
    }
   ],
   "source": [
    "X=house.drop(['price','date','id'],axis='columns')\n",
    "y=house['price']\n",
    "\n",
    "#Splitting the data set into test and train for the train and validation purpose:\n",
    "x_train, x_test, y_train, y_test = train_test_split(X,y,test_size=0.3, random_state = 33)\n",
    "\n",
    "#Forward selection:\n",
    "sfs=SFS(LinearRegression(fit_intercept=True,\n",
    "    normalize=False,n_jobs=-1),\n",
    "        k_features=(1,10),\n",
    "        forward=True,\n",
    "        floating=False,\n",
    "        verbose=2,\n",
    "        cv=4,\n",
    "        n_jobs=-1).fit(x_train,y_train)\n",
    "\n",
    "# Printing the accuracy and the features which is obtained by forward selection:\n",
    "print(\"Accuracy : \",sfs.k_score_)\n",
    "print(\"Feautures selected : \",sfs.k_feature_names_)"
   ]
  },
  {
   "cell_type": "code",
   "execution_count": null,
   "metadata": {},
   "outputs": [],
   "source": []
  },
  {
   "cell_type": "markdown",
   "metadata": {},
   "source": [
    "## 3.Fitting Decision Tree"
   ]
  },
  {
   "cell_type": "code",
   "execution_count": 22,
   "metadata": {
    "scrolled": true
   },
   "outputs": [
    {
     "name": "stdout",
     "output_type": "stream",
     "text": [
      "The Mean Absolute Error is: 132905.63890251133\n",
      "The Root Mean Squared Error is: 218953.6188178225\n",
      "The R-square is: 0.6644257062658592\n"
     ]
    }
   ],
   "source": [
    "# DT model - 1:\n",
    "\n",
    "X=house[['bedrooms','sqft_living','condition','grade','view','house_age','zipcode']]\n",
    "y=house['price']\n",
    "#Splitting the data set into test and train for the train and validation purpose:\n",
    "X_train, X_test, y_train, y_test = train_test_split(X,y,test_size=0.3, random_state = 7)\n",
    "\n",
    "#loading the decision tree alogorithm\n",
    "dt = DecisionTreeRegressor(max_depth = 7,min_samples_leaf =10) \n",
    "dt.fit(X_train,y_train)    #Fitting the model\n",
    "y_pred = dt.predict(X_test) #Predicting the y value's\n",
    "\n",
    "\n",
    "#Calculating the mean absolute error:  \n",
    "print ('The Mean Absolute Error is:', mean_absolute_error(y_test, y_pred  ))  \n",
    "#Calculating the Root of mean squared error value:\n",
    "print ('The Root Mean Squared Error is:', sqrt(mean_squared_error(y_test,y_pred  )))  \n",
    "#Calculating the R_square value:\n",
    "print ('The R-square is:', r2_score(y_test,y_pred))  "
   ]
  },
  {
   "cell_type": "markdown",
   "metadata": {},
   "source": [
    "### Hyperparameter (Grid search CV) for model 1"
   ]
  },
  {
   "cell_type": "code",
   "execution_count": 23,
   "metadata": {},
   "outputs": [
    {
     "name": "stderr",
     "output_type": "stream",
     "text": [
      "D:\\Anaconda3\\lib\\site-packages\\sklearn\\model_selection\\_validation.py:615: FitFailedWarning: Estimator fit failed. The score on this train-test partition for these parameters will be set to nan. Details: \n",
      "Traceback (most recent call last):\n",
      "  File \"D:\\Anaconda3\\lib\\site-packages\\sklearn\\model_selection\\_validation.py\", line 598, in _fit_and_score\n",
      "    estimator.fit(X_train, y_train, **fit_params)\n",
      "  File \"D:\\Anaconda3\\lib\\site-packages\\sklearn\\tree\\_classes.py\", line 1252, in fit\n",
      "    super().fit(\n",
      "  File \"D:\\Anaconda3\\lib\\site-packages\\sklearn\\tree\\_classes.py\", line 238, in fit\n",
      "    raise ValueError(\"min_samples_split must be an integer \"\n",
      "ValueError: min_samples_split must be an integer greater than 1 or a float in (0.0, 1.0]; got the integer 1\n",
      "\n",
      "  warnings.warn(\"Estimator fit failed. The score on this train-test\"\n",
      "D:\\Anaconda3\\lib\\site-packages\\sklearn\\model_selection\\_validation.py:615: FitFailedWarning: Estimator fit failed. The score on this train-test partition for these parameters will be set to nan. Details: \n",
      "Traceback (most recent call last):\n",
      "  File \"D:\\Anaconda3\\lib\\site-packages\\sklearn\\model_selection\\_validation.py\", line 598, in _fit_and_score\n",
      "    estimator.fit(X_train, y_train, **fit_params)\n",
      "  File \"D:\\Anaconda3\\lib\\site-packages\\sklearn\\tree\\_classes.py\", line 1252, in fit\n",
      "    super().fit(\n",
      "  File \"D:\\Anaconda3\\lib\\site-packages\\sklearn\\tree\\_classes.py\", line 238, in fit\n",
      "    raise ValueError(\"min_samples_split must be an integer \"\n",
      "ValueError: min_samples_split must be an integer greater than 1 or a float in (0.0, 1.0]; got the integer 1\n",
      "\n",
      "  warnings.warn(\"Estimator fit failed. The score on this train-test\"\n",
      "D:\\Anaconda3\\lib\\site-packages\\sklearn\\model_selection\\_validation.py:615: FitFailedWarning: Estimator fit failed. The score on this train-test partition for these parameters will be set to nan. Details: \n",
      "Traceback (most recent call last):\n",
      "  File \"D:\\Anaconda3\\lib\\site-packages\\sklearn\\model_selection\\_validation.py\", line 598, in _fit_and_score\n",
      "    estimator.fit(X_train, y_train, **fit_params)\n",
      "  File \"D:\\Anaconda3\\lib\\site-packages\\sklearn\\tree\\_classes.py\", line 1252, in fit\n",
      "    super().fit(\n",
      "  File \"D:\\Anaconda3\\lib\\site-packages\\sklearn\\tree\\_classes.py\", line 238, in fit\n",
      "    raise ValueError(\"min_samples_split must be an integer \"\n",
      "ValueError: min_samples_split must be an integer greater than 1 or a float in (0.0, 1.0]; got the integer 1\n",
      "\n",
      "  warnings.warn(\"Estimator fit failed. The score on this train-test\"\n",
      "D:\\Anaconda3\\lib\\site-packages\\sklearn\\model_selection\\_validation.py:615: FitFailedWarning: Estimator fit failed. The score on this train-test partition for these parameters will be set to nan. Details: \n",
      "Traceback (most recent call last):\n",
      "  File \"D:\\Anaconda3\\lib\\site-packages\\sklearn\\model_selection\\_validation.py\", line 598, in _fit_and_score\n",
      "    estimator.fit(X_train, y_train, **fit_params)\n",
      "  File \"D:\\Anaconda3\\lib\\site-packages\\sklearn\\tree\\_classes.py\", line 1252, in fit\n",
      "    super().fit(\n",
      "  File \"D:\\Anaconda3\\lib\\site-packages\\sklearn\\tree\\_classes.py\", line 238, in fit\n",
      "    raise ValueError(\"min_samples_split must be an integer \"\n",
      "ValueError: min_samples_split must be an integer greater than 1 or a float in (0.0, 1.0]; got the integer 1\n",
      "\n",
      "  warnings.warn(\"Estimator fit failed. The score on this train-test\"\n",
      "D:\\Anaconda3\\lib\\site-packages\\sklearn\\model_selection\\_validation.py:615: FitFailedWarning: Estimator fit failed. The score on this train-test partition for these parameters will be set to nan. Details: \n",
      "Traceback (most recent call last):\n",
      "  File \"D:\\Anaconda3\\lib\\site-packages\\sklearn\\model_selection\\_validation.py\", line 598, in _fit_and_score\n",
      "    estimator.fit(X_train, y_train, **fit_params)\n",
      "  File \"D:\\Anaconda3\\lib\\site-packages\\sklearn\\tree\\_classes.py\", line 1252, in fit\n",
      "    super().fit(\n",
      "  File \"D:\\Anaconda3\\lib\\site-packages\\sklearn\\tree\\_classes.py\", line 238, in fit\n",
      "    raise ValueError(\"min_samples_split must be an integer \"\n",
      "ValueError: min_samples_split must be an integer greater than 1 or a float in (0.0, 1.0]; got the integer 1\n",
      "\n",
      "  warnings.warn(\"Estimator fit failed. The score on this train-test\"\n",
      "D:\\Anaconda3\\lib\\site-packages\\sklearn\\model_selection\\_validation.py:615: FitFailedWarning: Estimator fit failed. The score on this train-test partition for these parameters will be set to nan. Details: \n",
      "Traceback (most recent call last):\n",
      "  File \"D:\\Anaconda3\\lib\\site-packages\\sklearn\\model_selection\\_validation.py\", line 598, in _fit_and_score\n",
      "    estimator.fit(X_train, y_train, **fit_params)\n",
      "  File \"D:\\Anaconda3\\lib\\site-packages\\sklearn\\tree\\_classes.py\", line 1252, in fit\n",
      "    super().fit(\n",
      "  File \"D:\\Anaconda3\\lib\\site-packages\\sklearn\\tree\\_classes.py\", line 244, in fit\n",
      "    if not 0. < self.min_samples_split <= 1.:\n",
      "TypeError: '<' not supported between instances of 'float' and 'NoneType'\n",
      "\n",
      "  warnings.warn(\"Estimator fit failed. The score on this train-test\"\n",
      "D:\\Anaconda3\\lib\\site-packages\\sklearn\\model_selection\\_validation.py:615: FitFailedWarning: Estimator fit failed. The score on this train-test partition for these parameters will be set to nan. Details: \n",
      "Traceback (most recent call last):\n",
      "  File \"D:\\Anaconda3\\lib\\site-packages\\sklearn\\model_selection\\_validation.py\", line 598, in _fit_and_score\n",
      "    estimator.fit(X_train, y_train, **fit_params)\n",
      "  File \"D:\\Anaconda3\\lib\\site-packages\\sklearn\\tree\\_classes.py\", line 1252, in fit\n",
      "    super().fit(\n",
      "  File \"D:\\Anaconda3\\lib\\site-packages\\sklearn\\tree\\_classes.py\", line 244, in fit\n",
      "    if not 0. < self.min_samples_split <= 1.:\n",
      "TypeError: '<' not supported between instances of 'float' and 'NoneType'\n",
      "\n",
      "  warnings.warn(\"Estimator fit failed. The score on this train-test\"\n",
      "D:\\Anaconda3\\lib\\site-packages\\sklearn\\model_selection\\_validation.py:615: FitFailedWarning: Estimator fit failed. The score on this train-test partition for these parameters will be set to nan. Details: \n",
      "Traceback (most recent call last):\n",
      "  File \"D:\\Anaconda3\\lib\\site-packages\\sklearn\\model_selection\\_validation.py\", line 598, in _fit_and_score\n",
      "    estimator.fit(X_train, y_train, **fit_params)\n",
      "  File \"D:\\Anaconda3\\lib\\site-packages\\sklearn\\tree\\_classes.py\", line 1252, in fit\n",
      "    super().fit(\n",
      "  File \"D:\\Anaconda3\\lib\\site-packages\\sklearn\\tree\\_classes.py\", line 244, in fit\n",
      "    if not 0. < self.min_samples_split <= 1.:\n",
      "TypeError: '<' not supported between instances of 'float' and 'NoneType'\n",
      "\n",
      "  warnings.warn(\"Estimator fit failed. The score on this train-test\"\n",
      "D:\\Anaconda3\\lib\\site-packages\\sklearn\\model_selection\\_validation.py:615: FitFailedWarning: Estimator fit failed. The score on this train-test partition for these parameters will be set to nan. Details: \n",
      "Traceback (most recent call last):\n",
      "  File \"D:\\Anaconda3\\lib\\site-packages\\sklearn\\model_selection\\_validation.py\", line 598, in _fit_and_score\n",
      "    estimator.fit(X_train, y_train, **fit_params)\n",
      "  File \"D:\\Anaconda3\\lib\\site-packages\\sklearn\\tree\\_classes.py\", line 1252, in fit\n",
      "    super().fit(\n",
      "  File \"D:\\Anaconda3\\lib\\site-packages\\sklearn\\tree\\_classes.py\", line 244, in fit\n",
      "    if not 0. < self.min_samples_split <= 1.:\n",
      "TypeError: '<' not supported between instances of 'float' and 'NoneType'\n",
      "\n",
      "  warnings.warn(\"Estimator fit failed. The score on this train-test\"\n",
      "D:\\Anaconda3\\lib\\site-packages\\sklearn\\model_selection\\_validation.py:615: FitFailedWarning: Estimator fit failed. The score on this train-test partition for these parameters will be set to nan. Details: \n",
      "Traceback (most recent call last):\n",
      "  File \"D:\\Anaconda3\\lib\\site-packages\\sklearn\\model_selection\\_validation.py\", line 598, in _fit_and_score\n",
      "    estimator.fit(X_train, y_train, **fit_params)\n",
      "  File \"D:\\Anaconda3\\lib\\site-packages\\sklearn\\tree\\_classes.py\", line 1252, in fit\n",
      "    super().fit(\n",
      "  File \"D:\\Anaconda3\\lib\\site-packages\\sklearn\\tree\\_classes.py\", line 244, in fit\n",
      "    if not 0. < self.min_samples_split <= 1.:\n",
      "TypeError: '<' not supported between instances of 'float' and 'NoneType'\n",
      "\n",
      "  warnings.warn(\"Estimator fit failed. The score on this train-test\"\n",
      "D:\\Anaconda3\\lib\\site-packages\\sklearn\\model_selection\\_validation.py:615: FitFailedWarning: Estimator fit failed. The score on this train-test partition for these parameters will be set to nan. Details: \n",
      "Traceback (most recent call last):\n",
      "  File \"D:\\Anaconda3\\lib\\site-packages\\sklearn\\model_selection\\_validation.py\", line 598, in _fit_and_score\n",
      "    estimator.fit(X_train, y_train, **fit_params)\n",
      "  File \"D:\\Anaconda3\\lib\\site-packages\\sklearn\\tree\\_classes.py\", line 1252, in fit\n",
      "    super().fit(\n",
      "  File \"D:\\Anaconda3\\lib\\site-packages\\sklearn\\tree\\_classes.py\", line 238, in fit\n",
      "    raise ValueError(\"min_samples_split must be an integer \"\n",
      "ValueError: min_samples_split must be an integer greater than 1 or a float in (0.0, 1.0]; got the integer 1\n",
      "\n",
      "  warnings.warn(\"Estimator fit failed. The score on this train-test\"\n",
      "D:\\Anaconda3\\lib\\site-packages\\sklearn\\model_selection\\_validation.py:615: FitFailedWarning: Estimator fit failed. The score on this train-test partition for these parameters will be set to nan. Details: \n",
      "Traceback (most recent call last):\n",
      "  File \"D:\\Anaconda3\\lib\\site-packages\\sklearn\\model_selection\\_validation.py\", line 598, in _fit_and_score\n",
      "    estimator.fit(X_train, y_train, **fit_params)\n",
      "  File \"D:\\Anaconda3\\lib\\site-packages\\sklearn\\tree\\_classes.py\", line 1252, in fit\n",
      "    super().fit(\n",
      "  File \"D:\\Anaconda3\\lib\\site-packages\\sklearn\\tree\\_classes.py\", line 238, in fit\n",
      "    raise ValueError(\"min_samples_split must be an integer \"\n",
      "ValueError: min_samples_split must be an integer greater than 1 or a float in (0.0, 1.0]; got the integer 1\n",
      "\n",
      "  warnings.warn(\"Estimator fit failed. The score on this train-test\"\n",
      "D:\\Anaconda3\\lib\\site-packages\\sklearn\\model_selection\\_validation.py:615: FitFailedWarning: Estimator fit failed. The score on this train-test partition for these parameters will be set to nan. Details: \n",
      "Traceback (most recent call last):\n",
      "  File \"D:\\Anaconda3\\lib\\site-packages\\sklearn\\model_selection\\_validation.py\", line 598, in _fit_and_score\n",
      "    estimator.fit(X_train, y_train, **fit_params)\n",
      "  File \"D:\\Anaconda3\\lib\\site-packages\\sklearn\\tree\\_classes.py\", line 1252, in fit\n",
      "    super().fit(\n",
      "  File \"D:\\Anaconda3\\lib\\site-packages\\sklearn\\tree\\_classes.py\", line 238, in fit\n",
      "    raise ValueError(\"min_samples_split must be an integer \"\n",
      "ValueError: min_samples_split must be an integer greater than 1 or a float in (0.0, 1.0]; got the integer 1\n",
      "\n",
      "  warnings.warn(\"Estimator fit failed. The score on this train-test\"\n",
      "D:\\Anaconda3\\lib\\site-packages\\sklearn\\model_selection\\_validation.py:615: FitFailedWarning: Estimator fit failed. The score on this train-test partition for these parameters will be set to nan. Details: \n",
      "Traceback (most recent call last):\n",
      "  File \"D:\\Anaconda3\\lib\\site-packages\\sklearn\\model_selection\\_validation.py\", line 598, in _fit_and_score\n",
      "    estimator.fit(X_train, y_train, **fit_params)\n",
      "  File \"D:\\Anaconda3\\lib\\site-packages\\sklearn\\tree\\_classes.py\", line 1252, in fit\n",
      "    super().fit(\n",
      "  File \"D:\\Anaconda3\\lib\\site-packages\\sklearn\\tree\\_classes.py\", line 238, in fit\n",
      "    raise ValueError(\"min_samples_split must be an integer \"\n",
      "ValueError: min_samples_split must be an integer greater than 1 or a float in (0.0, 1.0]; got the integer 1\n",
      "\n",
      "  warnings.warn(\"Estimator fit failed. The score on this train-test\"\n",
      "D:\\Anaconda3\\lib\\site-packages\\sklearn\\model_selection\\_validation.py:615: FitFailedWarning: Estimator fit failed. The score on this train-test partition for these parameters will be set to nan. Details: \n",
      "Traceback (most recent call last):\n",
      "  File \"D:\\Anaconda3\\lib\\site-packages\\sklearn\\model_selection\\_validation.py\", line 598, in _fit_and_score\n",
      "    estimator.fit(X_train, y_train, **fit_params)\n",
      "  File \"D:\\Anaconda3\\lib\\site-packages\\sklearn\\tree\\_classes.py\", line 1252, in fit\n",
      "    super().fit(\n",
      "  File \"D:\\Anaconda3\\lib\\site-packages\\sklearn\\tree\\_classes.py\", line 238, in fit\n",
      "    raise ValueError(\"min_samples_split must be an integer \"\n",
      "ValueError: min_samples_split must be an integer greater than 1 or a float in (0.0, 1.0]; got the integer 1\n",
      "\n",
      "  warnings.warn(\"Estimator fit failed. The score on this train-test\"\n",
      "D:\\Anaconda3\\lib\\site-packages\\sklearn\\model_selection\\_validation.py:615: FitFailedWarning: Estimator fit failed. The score on this train-test partition for these parameters will be set to nan. Details: \n",
      "Traceback (most recent call last):\n",
      "  File \"D:\\Anaconda3\\lib\\site-packages\\sklearn\\model_selection\\_validation.py\", line 598, in _fit_and_score\n",
      "    estimator.fit(X_train, y_train, **fit_params)\n",
      "  File \"D:\\Anaconda3\\lib\\site-packages\\sklearn\\tree\\_classes.py\", line 1252, in fit\n",
      "    super().fit(\n",
      "  File \"D:\\Anaconda3\\lib\\site-packages\\sklearn\\tree\\_classes.py\", line 244, in fit\n",
      "    if not 0. < self.min_samples_split <= 1.:\n",
      "TypeError: '<' not supported between instances of 'float' and 'NoneType'\n",
      "\n",
      "  warnings.warn(\"Estimator fit failed. The score on this train-test\"\n",
      "D:\\Anaconda3\\lib\\site-packages\\sklearn\\model_selection\\_validation.py:615: FitFailedWarning: Estimator fit failed. The score on this train-test partition for these parameters will be set to nan. Details: \n",
      "Traceback (most recent call last):\n",
      "  File \"D:\\Anaconda3\\lib\\site-packages\\sklearn\\model_selection\\_validation.py\", line 598, in _fit_and_score\n",
      "    estimator.fit(X_train, y_train, **fit_params)\n",
      "  File \"D:\\Anaconda3\\lib\\site-packages\\sklearn\\tree\\_classes.py\", line 1252, in fit\n",
      "    super().fit(\n",
      "  File \"D:\\Anaconda3\\lib\\site-packages\\sklearn\\tree\\_classes.py\", line 244, in fit\n",
      "    if not 0. < self.min_samples_split <= 1.:\n",
      "TypeError: '<' not supported between instances of 'float' and 'NoneType'\n",
      "\n",
      "  warnings.warn(\"Estimator fit failed. The score on this train-test\"\n",
      "D:\\Anaconda3\\lib\\site-packages\\sklearn\\model_selection\\_validation.py:615: FitFailedWarning: Estimator fit failed. The score on this train-test partition for these parameters will be set to nan. Details: \n",
      "Traceback (most recent call last):\n",
      "  File \"D:\\Anaconda3\\lib\\site-packages\\sklearn\\model_selection\\_validation.py\", line 598, in _fit_and_score\n",
      "    estimator.fit(X_train, y_train, **fit_params)\n",
      "  File \"D:\\Anaconda3\\lib\\site-packages\\sklearn\\tree\\_classes.py\", line 1252, in fit\n",
      "    super().fit(\n",
      "  File \"D:\\Anaconda3\\lib\\site-packages\\sklearn\\tree\\_classes.py\", line 244, in fit\n",
      "    if not 0. < self.min_samples_split <= 1.:\n",
      "TypeError: '<' not supported between instances of 'float' and 'NoneType'\n",
      "\n",
      "  warnings.warn(\"Estimator fit failed. The score on this train-test\"\n",
      "D:\\Anaconda3\\lib\\site-packages\\sklearn\\model_selection\\_validation.py:615: FitFailedWarning: Estimator fit failed. The score on this train-test partition for these parameters will be set to nan. Details: \n",
      "Traceback (most recent call last):\n",
      "  File \"D:\\Anaconda3\\lib\\site-packages\\sklearn\\model_selection\\_validation.py\", line 598, in _fit_and_score\n",
      "    estimator.fit(X_train, y_train, **fit_params)\n",
      "  File \"D:\\Anaconda3\\lib\\site-packages\\sklearn\\tree\\_classes.py\", line 1252, in fit\n",
      "    super().fit(\n",
      "  File \"D:\\Anaconda3\\lib\\site-packages\\sklearn\\tree\\_classes.py\", line 244, in fit\n",
      "    if not 0. < self.min_samples_split <= 1.:\n",
      "TypeError: '<' not supported between instances of 'float' and 'NoneType'\n",
      "\n",
      "  warnings.warn(\"Estimator fit failed. The score on this train-test\"\n",
      "D:\\Anaconda3\\lib\\site-packages\\sklearn\\model_selection\\_validation.py:615: FitFailedWarning: Estimator fit failed. The score on this train-test partition for these parameters will be set to nan. Details: \n",
      "Traceback (most recent call last):\n",
      "  File \"D:\\Anaconda3\\lib\\site-packages\\sklearn\\model_selection\\_validation.py\", line 598, in _fit_and_score\n",
      "    estimator.fit(X_train, y_train, **fit_params)\n",
      "  File \"D:\\Anaconda3\\lib\\site-packages\\sklearn\\tree\\_classes.py\", line 1252, in fit\n",
      "    super().fit(\n",
      "  File \"D:\\Anaconda3\\lib\\site-packages\\sklearn\\tree\\_classes.py\", line 244, in fit\n",
      "    if not 0. < self.min_samples_split <= 1.:\n",
      "TypeError: '<' not supported between instances of 'float' and 'NoneType'\n",
      "\n",
      "  warnings.warn(\"Estimator fit failed. The score on this train-test\"\n",
      "D:\\Anaconda3\\lib\\site-packages\\sklearn\\model_selection\\_validation.py:615: FitFailedWarning: Estimator fit failed. The score on this train-test partition for these parameters will be set to nan. Details: \n",
      "Traceback (most recent call last):\n",
      "  File \"D:\\Anaconda3\\lib\\site-packages\\sklearn\\model_selection\\_validation.py\", line 598, in _fit_and_score\n",
      "    estimator.fit(X_train, y_train, **fit_params)\n",
      "  File \"D:\\Anaconda3\\lib\\site-packages\\sklearn\\tree\\_classes.py\", line 1252, in fit\n",
      "    super().fit(\n",
      "  File \"D:\\Anaconda3\\lib\\site-packages\\sklearn\\tree\\_classes.py\", line 238, in fit\n",
      "    raise ValueError(\"min_samples_split must be an integer \"\n",
      "ValueError: min_samples_split must be an integer greater than 1 or a float in (0.0, 1.0]; got the integer 1\n",
      "\n",
      "  warnings.warn(\"Estimator fit failed. The score on this train-test\"\n",
      "D:\\Anaconda3\\lib\\site-packages\\sklearn\\model_selection\\_validation.py:615: FitFailedWarning: Estimator fit failed. The score on this train-test partition for these parameters will be set to nan. Details: \n",
      "Traceback (most recent call last):\n",
      "  File \"D:\\Anaconda3\\lib\\site-packages\\sklearn\\model_selection\\_validation.py\", line 598, in _fit_and_score\n",
      "    estimator.fit(X_train, y_train, **fit_params)\n",
      "  File \"D:\\Anaconda3\\lib\\site-packages\\sklearn\\tree\\_classes.py\", line 1252, in fit\n",
      "    super().fit(\n",
      "  File \"D:\\Anaconda3\\lib\\site-packages\\sklearn\\tree\\_classes.py\", line 238, in fit\n",
      "    raise ValueError(\"min_samples_split must be an integer \"\n",
      "ValueError: min_samples_split must be an integer greater than 1 or a float in (0.0, 1.0]; got the integer 1\n",
      "\n",
      "  warnings.warn(\"Estimator fit failed. The score on this train-test\"\n",
      "D:\\Anaconda3\\lib\\site-packages\\sklearn\\model_selection\\_validation.py:615: FitFailedWarning: Estimator fit failed. The score on this train-test partition for these parameters will be set to nan. Details: \n",
      "Traceback (most recent call last):\n",
      "  File \"D:\\Anaconda3\\lib\\site-packages\\sklearn\\model_selection\\_validation.py\", line 598, in _fit_and_score\n",
      "    estimator.fit(X_train, y_train, **fit_params)\n",
      "  File \"D:\\Anaconda3\\lib\\site-packages\\sklearn\\tree\\_classes.py\", line 1252, in fit\n",
      "    super().fit(\n",
      "  File \"D:\\Anaconda3\\lib\\site-packages\\sklearn\\tree\\_classes.py\", line 238, in fit\n",
      "    raise ValueError(\"min_samples_split must be an integer \"\n",
      "ValueError: min_samples_split must be an integer greater than 1 or a float in (0.0, 1.0]; got the integer 1\n",
      "\n",
      "  warnings.warn(\"Estimator fit failed. The score on this train-test\"\n",
      "D:\\Anaconda3\\lib\\site-packages\\sklearn\\model_selection\\_validation.py:615: FitFailedWarning: Estimator fit failed. The score on this train-test partition for these parameters will be set to nan. Details: \n",
      "Traceback (most recent call last):\n",
      "  File \"D:\\Anaconda3\\lib\\site-packages\\sklearn\\model_selection\\_validation.py\", line 598, in _fit_and_score\n",
      "    estimator.fit(X_train, y_train, **fit_params)\n",
      "  File \"D:\\Anaconda3\\lib\\site-packages\\sklearn\\tree\\_classes.py\", line 1252, in fit\n",
      "    super().fit(\n",
      "  File \"D:\\Anaconda3\\lib\\site-packages\\sklearn\\tree\\_classes.py\", line 238, in fit\n",
      "    raise ValueError(\"min_samples_split must be an integer \"\n",
      "ValueError: min_samples_split must be an integer greater than 1 or a float in (0.0, 1.0]; got the integer 1\n",
      "\n",
      "  warnings.warn(\"Estimator fit failed. The score on this train-test\"\n",
      "D:\\Anaconda3\\lib\\site-packages\\sklearn\\model_selection\\_validation.py:615: FitFailedWarning: Estimator fit failed. The score on this train-test partition for these parameters will be set to nan. Details: \n",
      "Traceback (most recent call last):\n",
      "  File \"D:\\Anaconda3\\lib\\site-packages\\sklearn\\model_selection\\_validation.py\", line 598, in _fit_and_score\n",
      "    estimator.fit(X_train, y_train, **fit_params)\n",
      "  File \"D:\\Anaconda3\\lib\\site-packages\\sklearn\\tree\\_classes.py\", line 1252, in fit\n",
      "    super().fit(\n",
      "  File \"D:\\Anaconda3\\lib\\site-packages\\sklearn\\tree\\_classes.py\", line 238, in fit\n",
      "    raise ValueError(\"min_samples_split must be an integer \"\n",
      "ValueError: min_samples_split must be an integer greater than 1 or a float in (0.0, 1.0]; got the integer 1\n",
      "\n",
      "  warnings.warn(\"Estimator fit failed. The score on this train-test\"\n",
      "D:\\Anaconda3\\lib\\site-packages\\sklearn\\model_selection\\_validation.py:615: FitFailedWarning: Estimator fit failed. The score on this train-test partition for these parameters will be set to nan. Details: \n",
      "Traceback (most recent call last):\n",
      "  File \"D:\\Anaconda3\\lib\\site-packages\\sklearn\\model_selection\\_validation.py\", line 598, in _fit_and_score\n",
      "    estimator.fit(X_train, y_train, **fit_params)\n",
      "  File \"D:\\Anaconda3\\lib\\site-packages\\sklearn\\tree\\_classes.py\", line 1252, in fit\n",
      "    super().fit(\n",
      "  File \"D:\\Anaconda3\\lib\\site-packages\\sklearn\\tree\\_classes.py\", line 244, in fit\n",
      "    if not 0. < self.min_samples_split <= 1.:\n",
      "TypeError: '<' not supported between instances of 'float' and 'NoneType'\n",
      "\n",
      "  warnings.warn(\"Estimator fit failed. The score on this train-test\"\n",
      "D:\\Anaconda3\\lib\\site-packages\\sklearn\\model_selection\\_validation.py:615: FitFailedWarning: Estimator fit failed. The score on this train-test partition for these parameters will be set to nan. Details: \n",
      "Traceback (most recent call last):\n",
      "  File \"D:\\Anaconda3\\lib\\site-packages\\sklearn\\model_selection\\_validation.py\", line 598, in _fit_and_score\n",
      "    estimator.fit(X_train, y_train, **fit_params)\n",
      "  File \"D:\\Anaconda3\\lib\\site-packages\\sklearn\\tree\\_classes.py\", line 1252, in fit\n",
      "    super().fit(\n",
      "  File \"D:\\Anaconda3\\lib\\site-packages\\sklearn\\tree\\_classes.py\", line 244, in fit\n",
      "    if not 0. < self.min_samples_split <= 1.:\n",
      "TypeError: '<' not supported between instances of 'float' and 'NoneType'\n",
      "\n",
      "  warnings.warn(\"Estimator fit failed. The score on this train-test\"\n",
      "D:\\Anaconda3\\lib\\site-packages\\sklearn\\model_selection\\_validation.py:615: FitFailedWarning: Estimator fit failed. The score on this train-test partition for these parameters will be set to nan. Details: \n",
      "Traceback (most recent call last):\n",
      "  File \"D:\\Anaconda3\\lib\\site-packages\\sklearn\\model_selection\\_validation.py\", line 598, in _fit_and_score\n",
      "    estimator.fit(X_train, y_train, **fit_params)\n",
      "  File \"D:\\Anaconda3\\lib\\site-packages\\sklearn\\tree\\_classes.py\", line 1252, in fit\n",
      "    super().fit(\n",
      "  File \"D:\\Anaconda3\\lib\\site-packages\\sklearn\\tree\\_classes.py\", line 244, in fit\n",
      "    if not 0. < self.min_samples_split <= 1.:\n",
      "TypeError: '<' not supported between instances of 'float' and 'NoneType'\n",
      "\n",
      "  warnings.warn(\"Estimator fit failed. The score on this train-test\"\n",
      "D:\\Anaconda3\\lib\\site-packages\\sklearn\\model_selection\\_validation.py:615: FitFailedWarning: Estimator fit failed. The score on this train-test partition for these parameters will be set to nan. Details: \n",
      "Traceback (most recent call last):\n",
      "  File \"D:\\Anaconda3\\lib\\site-packages\\sklearn\\model_selection\\_validation.py\", line 598, in _fit_and_score\n",
      "    estimator.fit(X_train, y_train, **fit_params)\n",
      "  File \"D:\\Anaconda3\\lib\\site-packages\\sklearn\\tree\\_classes.py\", line 1252, in fit\n",
      "    super().fit(\n",
      "  File \"D:\\Anaconda3\\lib\\site-packages\\sklearn\\tree\\_classes.py\", line 244, in fit\n",
      "    if not 0. < self.min_samples_split <= 1.:\n",
      "TypeError: '<' not supported between instances of 'float' and 'NoneType'\n",
      "\n",
      "  warnings.warn(\"Estimator fit failed. The score on this train-test\"\n",
      "D:\\Anaconda3\\lib\\site-packages\\sklearn\\model_selection\\_validation.py:615: FitFailedWarning: Estimator fit failed. The score on this train-test partition for these parameters will be set to nan. Details: \n",
      "Traceback (most recent call last):\n",
      "  File \"D:\\Anaconda3\\lib\\site-packages\\sklearn\\model_selection\\_validation.py\", line 598, in _fit_and_score\n",
      "    estimator.fit(X_train, y_train, **fit_params)\n",
      "  File \"D:\\Anaconda3\\lib\\site-packages\\sklearn\\tree\\_classes.py\", line 1252, in fit\n",
      "    super().fit(\n",
      "  File \"D:\\Anaconda3\\lib\\site-packages\\sklearn\\tree\\_classes.py\", line 244, in fit\n",
      "    if not 0. < self.min_samples_split <= 1.:\n",
      "TypeError: '<' not supported between instances of 'float' and 'NoneType'\n",
      "\n",
      "  warnings.warn(\"Estimator fit failed. The score on this train-test\"\n",
      "D:\\Anaconda3\\lib\\site-packages\\sklearn\\model_selection\\_search.py:922: UserWarning: One or more of the test scores are non-finite: [       nan 0.54620229 0.535465   0.55122074 0.56103162 0.54603933\n",
      " 0.54809546        nan        nan 0.59955291 0.59551327 0.59955291\n",
      " 0.60274038 0.58738443 0.58556306        nan        nan 0.58968062\n",
      " 0.58871148 0.58968062 0.58871148 0.58871148 0.58919734        nan]\n",
      "  warnings.warn(\n",
      "D:\\Anaconda3\\lib\\site-packages\\sklearn\\model_selection\\_search.py:922: UserWarning: One or more of the train scores are non-finite: [       nan 0.80937496 0.80761942 0.80456927 0.80289785 0.80065535\n",
      " 0.79750999        nan        nan 0.80151369 0.80151369 0.80151369\n",
      " 0.79941606 0.79588995 0.79351197        nan        nan 0.79386132\n",
      " 0.79386132 0.79386132 0.79386132 0.79386132 0.79219005        nan]\n",
      "  warnings.warn(\n"
     ]
    },
    {
     "data": {
      "text/plain": [
       "GridSearchCV(cv=5,\n",
       "             estimator=DecisionTreeRegressor(max_depth=7, min_samples_leaf=10),\n",
       "             n_jobs=1,\n",
       "             param_grid={'min_samples_leaf': [1, 2, 3],\n",
       "                         'min_samples_split': [1, 2, 3, 4, 5, 6, 7, None]},\n",
       "             return_train_score=True)"
      ]
     },
     "execution_count": 23,
     "metadata": {},
     "output_type": "execute_result"
    }
   ],
   "source": [
    "# Hyperparameter param distance\n",
    "param_dist = {    \n",
    "    \"max_depth\": [3, None],    \n",
    "    \"max_features\": randint(1, 9),   \n",
    "    \"min_samples_leaf\": randint(1, 9),   \n",
    "    'criterion' : ['gini','entropy']     \n",
    "}\n",
    "# parameter grid\n",
    "param_grid = { \"min_samples_split\":[1,2,3,4,5,6,7,None],\"min_samples_leaf\":[1,2,3]}  \n",
    "# parameter search\n",
    "g_search = GridSearchCV(estimator = dt, param_grid = param_grid,    \n",
    "                                     cv = 5, n_jobs = 1, verbose = 0, return_train_score=True)\n",
    "# fitting the xtrain and ytrain in grid searchcv\n",
    "g_search.fit(X_train,y_train) "
   ]
  },
  {
   "cell_type": "code",
   "execution_count": 24,
   "metadata": {},
   "outputs": [
    {
     "name": "stdout",
     "output_type": "stream",
     "text": [
      "Best Score: 0.6027403766451002\n",
      "\n",
      "\n",
      "{'ccp_alpha': 0.0, 'criterion': 'mse', 'max_depth': 7, 'max_features': None, 'max_leaf_nodes': None, 'min_impurity_decrease': 0.0, 'min_impurity_split': None, 'min_samples_leaf': 2, 'min_samples_split': 5, 'min_weight_fraction_leaf': 0.0, 'random_state': None, 'splitter': 'best'}\n"
     ]
    }
   ],
   "source": [
    "# taking the best fit out\n",
    "print(\"Best Score:\",g_search.best_score_) \n",
    "print(\"\\n\")\n",
    "# taking the best estimator out\n",
    "print(g_search.best_estimator_.get_params())  "
   ]
  },
  {
   "cell_type": "code",
   "execution_count": null,
   "metadata": {},
   "outputs": [],
   "source": []
  },
  {
   "cell_type": "code",
   "execution_count": 25,
   "metadata": {},
   "outputs": [
    {
     "name": "stdout",
     "output_type": "stream",
     "text": [
      "The Mean Absolute Error is: 110803.14879013317\n",
      "The Root Mean Squared Error is: 197571.578055323\n",
      "The R-square is: 0.7267668637127831\n"
     ]
    }
   ],
   "source": [
    "# DT model - 2:\n",
    "\n",
    "X=house[['bedrooms','bathrooms','sqft_living','view','condition','grade','house_age','lat','zipcode']]\n",
    "y=house['price']\n",
    "\n",
    "# creating a dummy variable for this variable:\n",
    "d1 = pd.get_dummies(house.zipcode)\n",
    "X = pd.concat([X,d1],axis = 1)\n",
    "X.drop(['zipcode'],axis = 1,inplace=True)\n",
    "\n",
    "#Splitting the data set into test and train for the train and validation purpose:\n",
    "X_train, X_test, y_train, y_test = train_test_split(X,y,test_size=0.3, random_state = 7)\n",
    "\n",
    "#loading the decision tree alogorithm\n",
    "dt = DecisionTreeRegressor(max_depth = 7,min_samples_leaf =10) \n",
    "dt.fit(X_train,y_train)    #Fitting the model\n",
    "y_pred = dt.predict(X_test) #Predicting the y value's\n",
    "\n",
    "\n",
    "#Calculating the mean absolute error:  \n",
    "print ('The Mean Absolute Error is:', mean_absolute_error(y_test, y_pred  ))  \n",
    "#Calculating the Root of mean squared error value:\n",
    "print ('The Root Mean Squared Error is:', sqrt(mean_squared_error(y_test,y_pred  )))  \n",
    "#Calculating the R_square value:\n",
    "print ('The R-square is:', r2_score(y_test,y_pred))"
   ]
  },
  {
   "cell_type": "markdown",
   "metadata": {},
   "source": [
    "### Hyperparameter (Grid search CV) for model 2"
   ]
  },
  {
   "cell_type": "code",
   "execution_count": 26,
   "metadata": {},
   "outputs": [
    {
     "name": "stderr",
     "output_type": "stream",
     "text": [
      "D:\\Anaconda3\\lib\\site-packages\\sklearn\\model_selection\\_validation.py:615: FitFailedWarning: Estimator fit failed. The score on this train-test partition for these parameters will be set to nan. Details: \n",
      "Traceback (most recent call last):\n",
      "  File \"D:\\Anaconda3\\lib\\site-packages\\sklearn\\model_selection\\_validation.py\", line 598, in _fit_and_score\n",
      "    estimator.fit(X_train, y_train, **fit_params)\n",
      "  File \"D:\\Anaconda3\\lib\\site-packages\\sklearn\\tree\\_classes.py\", line 1252, in fit\n",
      "    super().fit(\n",
      "  File \"D:\\Anaconda3\\lib\\site-packages\\sklearn\\tree\\_classes.py\", line 238, in fit\n",
      "    raise ValueError(\"min_samples_split must be an integer \"\n",
      "ValueError: min_samples_split must be an integer greater than 1 or a float in (0.0, 1.0]; got the integer 1\n",
      "\n",
      "  warnings.warn(\"Estimator fit failed. The score on this train-test\"\n",
      "D:\\Anaconda3\\lib\\site-packages\\sklearn\\model_selection\\_validation.py:615: FitFailedWarning: Estimator fit failed. The score on this train-test partition for these parameters will be set to nan. Details: \n",
      "Traceback (most recent call last):\n",
      "  File \"D:\\Anaconda3\\lib\\site-packages\\sklearn\\model_selection\\_validation.py\", line 598, in _fit_and_score\n",
      "    estimator.fit(X_train, y_train, **fit_params)\n",
      "  File \"D:\\Anaconda3\\lib\\site-packages\\sklearn\\tree\\_classes.py\", line 1252, in fit\n",
      "    super().fit(\n",
      "  File \"D:\\Anaconda3\\lib\\site-packages\\sklearn\\tree\\_classes.py\", line 238, in fit\n",
      "    raise ValueError(\"min_samples_split must be an integer \"\n",
      "ValueError: min_samples_split must be an integer greater than 1 or a float in (0.0, 1.0]; got the integer 1\n",
      "\n",
      "  warnings.warn(\"Estimator fit failed. The score on this train-test\"\n",
      "D:\\Anaconda3\\lib\\site-packages\\sklearn\\model_selection\\_validation.py:615: FitFailedWarning: Estimator fit failed. The score on this train-test partition for these parameters will be set to nan. Details: \n",
      "Traceback (most recent call last):\n",
      "  File \"D:\\Anaconda3\\lib\\site-packages\\sklearn\\model_selection\\_validation.py\", line 598, in _fit_and_score\n",
      "    estimator.fit(X_train, y_train, **fit_params)\n",
      "  File \"D:\\Anaconda3\\lib\\site-packages\\sklearn\\tree\\_classes.py\", line 1252, in fit\n",
      "    super().fit(\n",
      "  File \"D:\\Anaconda3\\lib\\site-packages\\sklearn\\tree\\_classes.py\", line 238, in fit\n",
      "    raise ValueError(\"min_samples_split must be an integer \"\n",
      "ValueError: min_samples_split must be an integer greater than 1 or a float in (0.0, 1.0]; got the integer 1\n",
      "\n",
      "  warnings.warn(\"Estimator fit failed. The score on this train-test\"\n",
      "D:\\Anaconda3\\lib\\site-packages\\sklearn\\model_selection\\_validation.py:615: FitFailedWarning: Estimator fit failed. The score on this train-test partition for these parameters will be set to nan. Details: \n",
      "Traceback (most recent call last):\n",
      "  File \"D:\\Anaconda3\\lib\\site-packages\\sklearn\\model_selection\\_validation.py\", line 598, in _fit_and_score\n",
      "    estimator.fit(X_train, y_train, **fit_params)\n",
      "  File \"D:\\Anaconda3\\lib\\site-packages\\sklearn\\tree\\_classes.py\", line 1252, in fit\n",
      "    super().fit(\n",
      "  File \"D:\\Anaconda3\\lib\\site-packages\\sklearn\\tree\\_classes.py\", line 238, in fit\n",
      "    raise ValueError(\"min_samples_split must be an integer \"\n",
      "ValueError: min_samples_split must be an integer greater than 1 or a float in (0.0, 1.0]; got the integer 1\n",
      "\n",
      "  warnings.warn(\"Estimator fit failed. The score on this train-test\"\n",
      "D:\\Anaconda3\\lib\\site-packages\\sklearn\\model_selection\\_validation.py:615: FitFailedWarning: Estimator fit failed. The score on this train-test partition for these parameters will be set to nan. Details: \n",
      "Traceback (most recent call last):\n",
      "  File \"D:\\Anaconda3\\lib\\site-packages\\sklearn\\model_selection\\_validation.py\", line 598, in _fit_and_score\n",
      "    estimator.fit(X_train, y_train, **fit_params)\n",
      "  File \"D:\\Anaconda3\\lib\\site-packages\\sklearn\\tree\\_classes.py\", line 1252, in fit\n",
      "    super().fit(\n",
      "  File \"D:\\Anaconda3\\lib\\site-packages\\sklearn\\tree\\_classes.py\", line 238, in fit\n",
      "    raise ValueError(\"min_samples_split must be an integer \"\n",
      "ValueError: min_samples_split must be an integer greater than 1 or a float in (0.0, 1.0]; got the integer 1\n",
      "\n",
      "  warnings.warn(\"Estimator fit failed. The score on this train-test\"\n",
      "D:\\Anaconda3\\lib\\site-packages\\sklearn\\model_selection\\_validation.py:615: FitFailedWarning: Estimator fit failed. The score on this train-test partition for these parameters will be set to nan. Details: \n",
      "Traceback (most recent call last):\n",
      "  File \"D:\\Anaconda3\\lib\\site-packages\\sklearn\\model_selection\\_validation.py\", line 598, in _fit_and_score\n",
      "    estimator.fit(X_train, y_train, **fit_params)\n",
      "  File \"D:\\Anaconda3\\lib\\site-packages\\sklearn\\tree\\_classes.py\", line 1252, in fit\n",
      "    super().fit(\n",
      "  File \"D:\\Anaconda3\\lib\\site-packages\\sklearn\\tree\\_classes.py\", line 244, in fit\n",
      "    if not 0. < self.min_samples_split <= 1.:\n",
      "TypeError: '<' not supported between instances of 'float' and 'NoneType'\n",
      "\n",
      "  warnings.warn(\"Estimator fit failed. The score on this train-test\"\n",
      "D:\\Anaconda3\\lib\\site-packages\\sklearn\\model_selection\\_validation.py:615: FitFailedWarning: Estimator fit failed. The score on this train-test partition for these parameters will be set to nan. Details: \n",
      "Traceback (most recent call last):\n",
      "  File \"D:\\Anaconda3\\lib\\site-packages\\sklearn\\model_selection\\_validation.py\", line 598, in _fit_and_score\n",
      "    estimator.fit(X_train, y_train, **fit_params)\n",
      "  File \"D:\\Anaconda3\\lib\\site-packages\\sklearn\\tree\\_classes.py\", line 1252, in fit\n",
      "    super().fit(\n",
      "  File \"D:\\Anaconda3\\lib\\site-packages\\sklearn\\tree\\_classes.py\", line 244, in fit\n",
      "    if not 0. < self.min_samples_split <= 1.:\n",
      "TypeError: '<' not supported between instances of 'float' and 'NoneType'\n",
      "\n",
      "  warnings.warn(\"Estimator fit failed. The score on this train-test\"\n",
      "D:\\Anaconda3\\lib\\site-packages\\sklearn\\model_selection\\_validation.py:615: FitFailedWarning: Estimator fit failed. The score on this train-test partition for these parameters will be set to nan. Details: \n",
      "Traceback (most recent call last):\n",
      "  File \"D:\\Anaconda3\\lib\\site-packages\\sklearn\\model_selection\\_validation.py\", line 598, in _fit_and_score\n",
      "    estimator.fit(X_train, y_train, **fit_params)\n",
      "  File \"D:\\Anaconda3\\lib\\site-packages\\sklearn\\tree\\_classes.py\", line 1252, in fit\n",
      "    super().fit(\n",
      "  File \"D:\\Anaconda3\\lib\\site-packages\\sklearn\\tree\\_classes.py\", line 244, in fit\n",
      "    if not 0. < self.min_samples_split <= 1.:\n",
      "TypeError: '<' not supported between instances of 'float' and 'NoneType'\n",
      "\n",
      "  warnings.warn(\"Estimator fit failed. The score on this train-test\"\n",
      "D:\\Anaconda3\\lib\\site-packages\\sklearn\\model_selection\\_validation.py:615: FitFailedWarning: Estimator fit failed. The score on this train-test partition for these parameters will be set to nan. Details: \n",
      "Traceback (most recent call last):\n",
      "  File \"D:\\Anaconda3\\lib\\site-packages\\sklearn\\model_selection\\_validation.py\", line 598, in _fit_and_score\n",
      "    estimator.fit(X_train, y_train, **fit_params)\n",
      "  File \"D:\\Anaconda3\\lib\\site-packages\\sklearn\\tree\\_classes.py\", line 1252, in fit\n",
      "    super().fit(\n",
      "  File \"D:\\Anaconda3\\lib\\site-packages\\sklearn\\tree\\_classes.py\", line 244, in fit\n",
      "    if not 0. < self.min_samples_split <= 1.:\n",
      "TypeError: '<' not supported between instances of 'float' and 'NoneType'\n",
      "\n",
      "  warnings.warn(\"Estimator fit failed. The score on this train-test\"\n",
      "D:\\Anaconda3\\lib\\site-packages\\sklearn\\model_selection\\_validation.py:615: FitFailedWarning: Estimator fit failed. The score on this train-test partition for these parameters will be set to nan. Details: \n",
      "Traceback (most recent call last):\n",
      "  File \"D:\\Anaconda3\\lib\\site-packages\\sklearn\\model_selection\\_validation.py\", line 598, in _fit_and_score\n",
      "    estimator.fit(X_train, y_train, **fit_params)\n",
      "  File \"D:\\Anaconda3\\lib\\site-packages\\sklearn\\tree\\_classes.py\", line 1252, in fit\n",
      "    super().fit(\n",
      "  File \"D:\\Anaconda3\\lib\\site-packages\\sklearn\\tree\\_classes.py\", line 244, in fit\n",
      "    if not 0. < self.min_samples_split <= 1.:\n",
      "TypeError: '<' not supported between instances of 'float' and 'NoneType'\n",
      "\n",
      "  warnings.warn(\"Estimator fit failed. The score on this train-test\"\n",
      "D:\\Anaconda3\\lib\\site-packages\\sklearn\\model_selection\\_validation.py:615: FitFailedWarning: Estimator fit failed. The score on this train-test partition for these parameters will be set to nan. Details: \n",
      "Traceback (most recent call last):\n",
      "  File \"D:\\Anaconda3\\lib\\site-packages\\sklearn\\model_selection\\_validation.py\", line 598, in _fit_and_score\n",
      "    estimator.fit(X_train, y_train, **fit_params)\n",
      "  File \"D:\\Anaconda3\\lib\\site-packages\\sklearn\\tree\\_classes.py\", line 1252, in fit\n",
      "    super().fit(\n",
      "  File \"D:\\Anaconda3\\lib\\site-packages\\sklearn\\tree\\_classes.py\", line 238, in fit\n",
      "    raise ValueError(\"min_samples_split must be an integer \"\n",
      "ValueError: min_samples_split must be an integer greater than 1 or a float in (0.0, 1.0]; got the integer 1\n",
      "\n",
      "  warnings.warn(\"Estimator fit failed. The score on this train-test\"\n",
      "D:\\Anaconda3\\lib\\site-packages\\sklearn\\model_selection\\_validation.py:615: FitFailedWarning: Estimator fit failed. The score on this train-test partition for these parameters will be set to nan. Details: \n",
      "Traceback (most recent call last):\n",
      "  File \"D:\\Anaconda3\\lib\\site-packages\\sklearn\\model_selection\\_validation.py\", line 598, in _fit_and_score\n",
      "    estimator.fit(X_train, y_train, **fit_params)\n",
      "  File \"D:\\Anaconda3\\lib\\site-packages\\sklearn\\tree\\_classes.py\", line 1252, in fit\n",
      "    super().fit(\n",
      "  File \"D:\\Anaconda3\\lib\\site-packages\\sklearn\\tree\\_classes.py\", line 238, in fit\n",
      "    raise ValueError(\"min_samples_split must be an integer \"\n",
      "ValueError: min_samples_split must be an integer greater than 1 or a float in (0.0, 1.0]; got the integer 1\n",
      "\n",
      "  warnings.warn(\"Estimator fit failed. The score on this train-test\"\n",
      "D:\\Anaconda3\\lib\\site-packages\\sklearn\\model_selection\\_validation.py:615: FitFailedWarning: Estimator fit failed. The score on this train-test partition for these parameters will be set to nan. Details: \n",
      "Traceback (most recent call last):\n",
      "  File \"D:\\Anaconda3\\lib\\site-packages\\sklearn\\model_selection\\_validation.py\", line 598, in _fit_and_score\n",
      "    estimator.fit(X_train, y_train, **fit_params)\n",
      "  File \"D:\\Anaconda3\\lib\\site-packages\\sklearn\\tree\\_classes.py\", line 1252, in fit\n",
      "    super().fit(\n",
      "  File \"D:\\Anaconda3\\lib\\site-packages\\sklearn\\tree\\_classes.py\", line 238, in fit\n",
      "    raise ValueError(\"min_samples_split must be an integer \"\n",
      "ValueError: min_samples_split must be an integer greater than 1 or a float in (0.0, 1.0]; got the integer 1\n",
      "\n",
      "  warnings.warn(\"Estimator fit failed. The score on this train-test\"\n",
      "D:\\Anaconda3\\lib\\site-packages\\sklearn\\model_selection\\_validation.py:615: FitFailedWarning: Estimator fit failed. The score on this train-test partition for these parameters will be set to nan. Details: \n",
      "Traceback (most recent call last):\n",
      "  File \"D:\\Anaconda3\\lib\\site-packages\\sklearn\\model_selection\\_validation.py\", line 598, in _fit_and_score\n",
      "    estimator.fit(X_train, y_train, **fit_params)\n",
      "  File \"D:\\Anaconda3\\lib\\site-packages\\sklearn\\tree\\_classes.py\", line 1252, in fit\n",
      "    super().fit(\n",
      "  File \"D:\\Anaconda3\\lib\\site-packages\\sklearn\\tree\\_classes.py\", line 238, in fit\n",
      "    raise ValueError(\"min_samples_split must be an integer \"\n",
      "ValueError: min_samples_split must be an integer greater than 1 or a float in (0.0, 1.0]; got the integer 1\n",
      "\n",
      "  warnings.warn(\"Estimator fit failed. The score on this train-test\"\n",
      "D:\\Anaconda3\\lib\\site-packages\\sklearn\\model_selection\\_validation.py:615: FitFailedWarning: Estimator fit failed. The score on this train-test partition for these parameters will be set to nan. Details: \n",
      "Traceback (most recent call last):\n",
      "  File \"D:\\Anaconda3\\lib\\site-packages\\sklearn\\model_selection\\_validation.py\", line 598, in _fit_and_score\n",
      "    estimator.fit(X_train, y_train, **fit_params)\n",
      "  File \"D:\\Anaconda3\\lib\\site-packages\\sklearn\\tree\\_classes.py\", line 1252, in fit\n",
      "    super().fit(\n",
      "  File \"D:\\Anaconda3\\lib\\site-packages\\sklearn\\tree\\_classes.py\", line 238, in fit\n",
      "    raise ValueError(\"min_samples_split must be an integer \"\n",
      "ValueError: min_samples_split must be an integer greater than 1 or a float in (0.0, 1.0]; got the integer 1\n",
      "\n",
      "  warnings.warn(\"Estimator fit failed. The score on this train-test\"\n",
      "D:\\Anaconda3\\lib\\site-packages\\sklearn\\model_selection\\_validation.py:615: FitFailedWarning: Estimator fit failed. The score on this train-test partition for these parameters will be set to nan. Details: \n",
      "Traceback (most recent call last):\n",
      "  File \"D:\\Anaconda3\\lib\\site-packages\\sklearn\\model_selection\\_validation.py\", line 598, in _fit_and_score\n",
      "    estimator.fit(X_train, y_train, **fit_params)\n",
      "  File \"D:\\Anaconda3\\lib\\site-packages\\sklearn\\tree\\_classes.py\", line 1252, in fit\n",
      "    super().fit(\n",
      "  File \"D:\\Anaconda3\\lib\\site-packages\\sklearn\\tree\\_classes.py\", line 244, in fit\n",
      "    if not 0. < self.min_samples_split <= 1.:\n",
      "TypeError: '<' not supported between instances of 'float' and 'NoneType'\n",
      "\n",
      "  warnings.warn(\"Estimator fit failed. The score on this train-test\"\n",
      "D:\\Anaconda3\\lib\\site-packages\\sklearn\\model_selection\\_validation.py:615: FitFailedWarning: Estimator fit failed. The score on this train-test partition for these parameters will be set to nan. Details: \n",
      "Traceback (most recent call last):\n",
      "  File \"D:\\Anaconda3\\lib\\site-packages\\sklearn\\model_selection\\_validation.py\", line 598, in _fit_and_score\n",
      "    estimator.fit(X_train, y_train, **fit_params)\n",
      "  File \"D:\\Anaconda3\\lib\\site-packages\\sklearn\\tree\\_classes.py\", line 1252, in fit\n",
      "    super().fit(\n",
      "  File \"D:\\Anaconda3\\lib\\site-packages\\sklearn\\tree\\_classes.py\", line 244, in fit\n",
      "    if not 0. < self.min_samples_split <= 1.:\n",
      "TypeError: '<' not supported between instances of 'float' and 'NoneType'\n",
      "\n",
      "  warnings.warn(\"Estimator fit failed. The score on this train-test\"\n",
      "D:\\Anaconda3\\lib\\site-packages\\sklearn\\model_selection\\_validation.py:615: FitFailedWarning: Estimator fit failed. The score on this train-test partition for these parameters will be set to nan. Details: \n",
      "Traceback (most recent call last):\n",
      "  File \"D:\\Anaconda3\\lib\\site-packages\\sklearn\\model_selection\\_validation.py\", line 598, in _fit_and_score\n",
      "    estimator.fit(X_train, y_train, **fit_params)\n",
      "  File \"D:\\Anaconda3\\lib\\site-packages\\sklearn\\tree\\_classes.py\", line 1252, in fit\n",
      "    super().fit(\n",
      "  File \"D:\\Anaconda3\\lib\\site-packages\\sklearn\\tree\\_classes.py\", line 244, in fit\n",
      "    if not 0. < self.min_samples_split <= 1.:\n",
      "TypeError: '<' not supported between instances of 'float' and 'NoneType'\n",
      "\n",
      "  warnings.warn(\"Estimator fit failed. The score on this train-test\"\n",
      "D:\\Anaconda3\\lib\\site-packages\\sklearn\\model_selection\\_validation.py:615: FitFailedWarning: Estimator fit failed. The score on this train-test partition for these parameters will be set to nan. Details: \n",
      "Traceback (most recent call last):\n",
      "  File \"D:\\Anaconda3\\lib\\site-packages\\sklearn\\model_selection\\_validation.py\", line 598, in _fit_and_score\n",
      "    estimator.fit(X_train, y_train, **fit_params)\n",
      "  File \"D:\\Anaconda3\\lib\\site-packages\\sklearn\\tree\\_classes.py\", line 1252, in fit\n",
      "    super().fit(\n",
      "  File \"D:\\Anaconda3\\lib\\site-packages\\sklearn\\tree\\_classes.py\", line 244, in fit\n",
      "    if not 0. < self.min_samples_split <= 1.:\n",
      "TypeError: '<' not supported between instances of 'float' and 'NoneType'\n",
      "\n",
      "  warnings.warn(\"Estimator fit failed. The score on this train-test\"\n",
      "D:\\Anaconda3\\lib\\site-packages\\sklearn\\model_selection\\_validation.py:615: FitFailedWarning: Estimator fit failed. The score on this train-test partition for these parameters will be set to nan. Details: \n",
      "Traceback (most recent call last):\n",
      "  File \"D:\\Anaconda3\\lib\\site-packages\\sklearn\\model_selection\\_validation.py\", line 598, in _fit_and_score\n",
      "    estimator.fit(X_train, y_train, **fit_params)\n",
      "  File \"D:\\Anaconda3\\lib\\site-packages\\sklearn\\tree\\_classes.py\", line 1252, in fit\n",
      "    super().fit(\n",
      "  File \"D:\\Anaconda3\\lib\\site-packages\\sklearn\\tree\\_classes.py\", line 244, in fit\n",
      "    if not 0. < self.min_samples_split <= 1.:\n",
      "TypeError: '<' not supported between instances of 'float' and 'NoneType'\n",
      "\n",
      "  warnings.warn(\"Estimator fit failed. The score on this train-test\"\n",
      "D:\\Anaconda3\\lib\\site-packages\\sklearn\\model_selection\\_validation.py:615: FitFailedWarning: Estimator fit failed. The score on this train-test partition for these parameters will be set to nan. Details: \n",
      "Traceback (most recent call last):\n",
      "  File \"D:\\Anaconda3\\lib\\site-packages\\sklearn\\model_selection\\_validation.py\", line 598, in _fit_and_score\n",
      "    estimator.fit(X_train, y_train, **fit_params)\n",
      "  File \"D:\\Anaconda3\\lib\\site-packages\\sklearn\\tree\\_classes.py\", line 1252, in fit\n",
      "    super().fit(\n",
      "  File \"D:\\Anaconda3\\lib\\site-packages\\sklearn\\tree\\_classes.py\", line 238, in fit\n",
      "    raise ValueError(\"min_samples_split must be an integer \"\n",
      "ValueError: min_samples_split must be an integer greater than 1 or a float in (0.0, 1.0]; got the integer 1\n",
      "\n",
      "  warnings.warn(\"Estimator fit failed. The score on this train-test\"\n",
      "D:\\Anaconda3\\lib\\site-packages\\sklearn\\model_selection\\_validation.py:615: FitFailedWarning: Estimator fit failed. The score on this train-test partition for these parameters will be set to nan. Details: \n",
      "Traceback (most recent call last):\n",
      "  File \"D:\\Anaconda3\\lib\\site-packages\\sklearn\\model_selection\\_validation.py\", line 598, in _fit_and_score\n",
      "    estimator.fit(X_train, y_train, **fit_params)\n",
      "  File \"D:\\Anaconda3\\lib\\site-packages\\sklearn\\tree\\_classes.py\", line 1252, in fit\n",
      "    super().fit(\n",
      "  File \"D:\\Anaconda3\\lib\\site-packages\\sklearn\\tree\\_classes.py\", line 238, in fit\n",
      "    raise ValueError(\"min_samples_split must be an integer \"\n",
      "ValueError: min_samples_split must be an integer greater than 1 or a float in (0.0, 1.0]; got the integer 1\n",
      "\n",
      "  warnings.warn(\"Estimator fit failed. The score on this train-test\"\n",
      "D:\\Anaconda3\\lib\\site-packages\\sklearn\\model_selection\\_validation.py:615: FitFailedWarning: Estimator fit failed. The score on this train-test partition for these parameters will be set to nan. Details: \n",
      "Traceback (most recent call last):\n",
      "  File \"D:\\Anaconda3\\lib\\site-packages\\sklearn\\model_selection\\_validation.py\", line 598, in _fit_and_score\n",
      "    estimator.fit(X_train, y_train, **fit_params)\n",
      "  File \"D:\\Anaconda3\\lib\\site-packages\\sklearn\\tree\\_classes.py\", line 1252, in fit\n",
      "    super().fit(\n",
      "  File \"D:\\Anaconda3\\lib\\site-packages\\sklearn\\tree\\_classes.py\", line 238, in fit\n",
      "    raise ValueError(\"min_samples_split must be an integer \"\n",
      "ValueError: min_samples_split must be an integer greater than 1 or a float in (0.0, 1.0]; got the integer 1\n",
      "\n",
      "  warnings.warn(\"Estimator fit failed. The score on this train-test\"\n",
      "D:\\Anaconda3\\lib\\site-packages\\sklearn\\model_selection\\_validation.py:615: FitFailedWarning: Estimator fit failed. The score on this train-test partition for these parameters will be set to nan. Details: \n",
      "Traceback (most recent call last):\n",
      "  File \"D:\\Anaconda3\\lib\\site-packages\\sklearn\\model_selection\\_validation.py\", line 598, in _fit_and_score\n",
      "    estimator.fit(X_train, y_train, **fit_params)\n",
      "  File \"D:\\Anaconda3\\lib\\site-packages\\sklearn\\tree\\_classes.py\", line 1252, in fit\n",
      "    super().fit(\n",
      "  File \"D:\\Anaconda3\\lib\\site-packages\\sklearn\\tree\\_classes.py\", line 238, in fit\n",
      "    raise ValueError(\"min_samples_split must be an integer \"\n",
      "ValueError: min_samples_split must be an integer greater than 1 or a float in (0.0, 1.0]; got the integer 1\n",
      "\n",
      "  warnings.warn(\"Estimator fit failed. The score on this train-test\"\n",
      "D:\\Anaconda3\\lib\\site-packages\\sklearn\\model_selection\\_validation.py:615: FitFailedWarning: Estimator fit failed. The score on this train-test partition for these parameters will be set to nan. Details: \n",
      "Traceback (most recent call last):\n",
      "  File \"D:\\Anaconda3\\lib\\site-packages\\sklearn\\model_selection\\_validation.py\", line 598, in _fit_and_score\n",
      "    estimator.fit(X_train, y_train, **fit_params)\n",
      "  File \"D:\\Anaconda3\\lib\\site-packages\\sklearn\\tree\\_classes.py\", line 1252, in fit\n",
      "    super().fit(\n",
      "  File \"D:\\Anaconda3\\lib\\site-packages\\sklearn\\tree\\_classes.py\", line 238, in fit\n",
      "    raise ValueError(\"min_samples_split must be an integer \"\n",
      "ValueError: min_samples_split must be an integer greater than 1 or a float in (0.0, 1.0]; got the integer 1\n",
      "\n",
      "  warnings.warn(\"Estimator fit failed. The score on this train-test\"\n",
      "D:\\Anaconda3\\lib\\site-packages\\sklearn\\model_selection\\_validation.py:615: FitFailedWarning: Estimator fit failed. The score on this train-test partition for these parameters will be set to nan. Details: \n",
      "Traceback (most recent call last):\n",
      "  File \"D:\\Anaconda3\\lib\\site-packages\\sklearn\\model_selection\\_validation.py\", line 598, in _fit_and_score\n",
      "    estimator.fit(X_train, y_train, **fit_params)\n",
      "  File \"D:\\Anaconda3\\lib\\site-packages\\sklearn\\tree\\_classes.py\", line 1252, in fit\n",
      "    super().fit(\n",
      "  File \"D:\\Anaconda3\\lib\\site-packages\\sklearn\\tree\\_classes.py\", line 244, in fit\n",
      "    if not 0. < self.min_samples_split <= 1.:\n",
      "TypeError: '<' not supported between instances of 'float' and 'NoneType'\n",
      "\n",
      "  warnings.warn(\"Estimator fit failed. The score on this train-test\"\n",
      "D:\\Anaconda3\\lib\\site-packages\\sklearn\\model_selection\\_validation.py:615: FitFailedWarning: Estimator fit failed. The score on this train-test partition for these parameters will be set to nan. Details: \n",
      "Traceback (most recent call last):\n",
      "  File \"D:\\Anaconda3\\lib\\site-packages\\sklearn\\model_selection\\_validation.py\", line 598, in _fit_and_score\n",
      "    estimator.fit(X_train, y_train, **fit_params)\n",
      "  File \"D:\\Anaconda3\\lib\\site-packages\\sklearn\\tree\\_classes.py\", line 1252, in fit\n",
      "    super().fit(\n",
      "  File \"D:\\Anaconda3\\lib\\site-packages\\sklearn\\tree\\_classes.py\", line 244, in fit\n",
      "    if not 0. < self.min_samples_split <= 1.:\n",
      "TypeError: '<' not supported between instances of 'float' and 'NoneType'\n",
      "\n",
      "  warnings.warn(\"Estimator fit failed. The score on this train-test\"\n",
      "D:\\Anaconda3\\lib\\site-packages\\sklearn\\model_selection\\_validation.py:615: FitFailedWarning: Estimator fit failed. The score on this train-test partition for these parameters will be set to nan. Details: \n",
      "Traceback (most recent call last):\n",
      "  File \"D:\\Anaconda3\\lib\\site-packages\\sklearn\\model_selection\\_validation.py\", line 598, in _fit_and_score\n",
      "    estimator.fit(X_train, y_train, **fit_params)\n",
      "  File \"D:\\Anaconda3\\lib\\site-packages\\sklearn\\tree\\_classes.py\", line 1252, in fit\n",
      "    super().fit(\n",
      "  File \"D:\\Anaconda3\\lib\\site-packages\\sklearn\\tree\\_classes.py\", line 244, in fit\n",
      "    if not 0. < self.min_samples_split <= 1.:\n",
      "TypeError: '<' not supported between instances of 'float' and 'NoneType'\n",
      "\n",
      "  warnings.warn(\"Estimator fit failed. The score on this train-test\"\n",
      "D:\\Anaconda3\\lib\\site-packages\\sklearn\\model_selection\\_validation.py:615: FitFailedWarning: Estimator fit failed. The score on this train-test partition for these parameters will be set to nan. Details: \n",
      "Traceback (most recent call last):\n",
      "  File \"D:\\Anaconda3\\lib\\site-packages\\sklearn\\model_selection\\_validation.py\", line 598, in _fit_and_score\n",
      "    estimator.fit(X_train, y_train, **fit_params)\n",
      "  File \"D:\\Anaconda3\\lib\\site-packages\\sklearn\\tree\\_classes.py\", line 1252, in fit\n",
      "    super().fit(\n",
      "  File \"D:\\Anaconda3\\lib\\site-packages\\sklearn\\tree\\_classes.py\", line 244, in fit\n",
      "    if not 0. < self.min_samples_split <= 1.:\n",
      "TypeError: '<' not supported between instances of 'float' and 'NoneType'\n",
      "\n",
      "  warnings.warn(\"Estimator fit failed. The score on this train-test\"\n",
      "D:\\Anaconda3\\lib\\site-packages\\sklearn\\model_selection\\_validation.py:615: FitFailedWarning: Estimator fit failed. The score on this train-test partition for these parameters will be set to nan. Details: \n",
      "Traceback (most recent call last):\n",
      "  File \"D:\\Anaconda3\\lib\\site-packages\\sklearn\\model_selection\\_validation.py\", line 598, in _fit_and_score\n",
      "    estimator.fit(X_train, y_train, **fit_params)\n",
      "  File \"D:\\Anaconda3\\lib\\site-packages\\sklearn\\tree\\_classes.py\", line 1252, in fit\n",
      "    super().fit(\n",
      "  File \"D:\\Anaconda3\\lib\\site-packages\\sklearn\\tree\\_classes.py\", line 244, in fit\n",
      "    if not 0. < self.min_samples_split <= 1.:\n",
      "TypeError: '<' not supported between instances of 'float' and 'NoneType'\n",
      "\n",
      "  warnings.warn(\"Estimator fit failed. The score on this train-test\"\n",
      "D:\\Anaconda3\\lib\\site-packages\\sklearn\\model_selection\\_search.py:922: UserWarning: One or more of the test scores are non-finite: [       nan 0.68242099 0.67720039 0.67402283 0.67335258 0.65939671\n",
      " 0.67920882        nan        nan 0.67177064 0.67322739 0.67534746\n",
      " 0.67186175 0.67409906 0.67213241        nan        nan 0.66847621\n",
      " 0.67070191 0.67008976 0.66913256 0.67013396 0.67136067        nan]\n",
      "  warnings.warn(\n",
      "D:\\Anaconda3\\lib\\site-packages\\sklearn\\model_selection\\_search.py:922: UserWarning: One or more of the train scores are non-finite: [       nan 0.86236681 0.86121583 0.85834797 0.85742415 0.85488463\n",
      " 0.85127292        nan        nan 0.85360607 0.85360607 0.85360607\n",
      " 0.85258476 0.84962626 0.84666175        nan        nan 0.84445661\n",
      " 0.84445661 0.84445661 0.84445661 0.84445661 0.84274549        nan]\n",
      "  warnings.warn(\n"
     ]
    },
    {
     "data": {
      "text/plain": [
       "GridSearchCV(cv=5,\n",
       "             estimator=DecisionTreeRegressor(max_depth=7, min_samples_leaf=10),\n",
       "             n_jobs=1,\n",
       "             param_grid={'min_samples_leaf': [1, 2, 3],\n",
       "                         'min_samples_split': [1, 2, 3, 4, 5, 6, 7, None]},\n",
       "             return_train_score=True)"
      ]
     },
     "execution_count": 26,
     "metadata": {},
     "output_type": "execute_result"
    }
   ],
   "source": [
    "# Hyperparameter param distance\n",
    "param_dist = {    \n",
    "    \"max_depth\": [3, None],    \n",
    "    \"max_features\": randint(1, 9),   \n",
    "    \"min_samples_leaf\": randint(1, 9),   \n",
    "    'criterion' : ['gini','entropy']     \n",
    "}\n",
    "# parameter grid\n",
    "param_grid = { \"min_samples_split\":[1,2,3,4,5,6,7,None],\"min_samples_leaf\":[1,2,3]}  \n",
    "# parameter search\n",
    "g_search = GridSearchCV(estimator = dt, param_grid = param_grid,    \n",
    "                                     cv = 5, n_jobs = 1, verbose = 0, return_train_score=True)\n",
    "# fitting the xtrain and ytrain in grid searchcv\n",
    "g_search.fit(X_train,y_train) "
   ]
  },
  {
   "cell_type": "code",
   "execution_count": 27,
   "metadata": {
    "scrolled": true
   },
   "outputs": [
    {
     "name": "stdout",
     "output_type": "stream",
     "text": [
      "Best Score: 0.6824209875362512\n",
      "\n",
      "\n",
      "{'ccp_alpha': 0.0, 'criterion': 'mse', 'max_depth': 7, 'max_features': None, 'max_leaf_nodes': None, 'min_impurity_decrease': 0.0, 'min_impurity_split': None, 'min_samples_leaf': 1, 'min_samples_split': 2, 'min_weight_fraction_leaf': 0.0, 'random_state': None, 'splitter': 'best'}\n"
     ]
    }
   ],
   "source": [
    "# taking the best fit out\n",
    "print(\"Best Score:\",g_search.best_score_) \n",
    "print(\"\\n\")\n",
    "# taking the best estimator out\n",
    "print(g_search.best_estimator_.get_params())  "
   ]
  },
  {
   "cell_type": "code",
   "execution_count": null,
   "metadata": {},
   "outputs": [],
   "source": []
  },
  {
   "cell_type": "markdown",
   "metadata": {},
   "source": [
    "## Feature Engineering"
   ]
  },
  {
   "cell_type": "code",
   "execution_count": 28,
   "metadata": {},
   "outputs": [
    {
     "name": "stdout",
     "output_type": "stream",
     "text": [
      "The Mean Absolute Error is: 133163.34930850047\n",
      "The Root Mean Squared Error is: 222316.33929511532\n",
      "The R-square is: 0.6752655072574925\n"
     ]
    }
   ],
   "source": [
    "# log fitting DT model - 1:\n",
    "\n",
    "X=house[['bedrooms','sqft_living','view','condition','grade','house_age','zipcode']]\n",
    "y=np.log(house['price'])\n",
    "#Splitting the data set into test and train for the train and validation purpose:\n",
    "X_train, X_test, y_train, y_test = train_test_split(X,y,test_size=0.3, random_state = 33)\n",
    "\n",
    "#loading the decision tree alogorithm\n",
    "dt = DecisionTreeRegressor(max_depth = 7,min_samples_leaf =10) \n",
    "dt.fit(X_train,y_train)    #Fitting the model\n",
    "y_pred = dt.predict(X_test) #Predicting the y value's\n",
    "y_pred = np.exp(y_pred)\n",
    "y_test = np.exp(y_test)\n",
    "\n",
    "#Calculating the mean absolute error:  \n",
    "print ('The Mean Absolute Error is:', mean_absolute_error(y_test, y_pred  ))  \n",
    "#Calculating the Root of mean squared error value:\n",
    "print ('The Root Mean Squared Error is:', sqrt(mean_squared_error(y_test,y_pred  )))  \n",
    "#Calculating the R_square value:\n",
    "print ('The R-square is:', r2_score(y_test,y_pred))\n"
   ]
  },
  {
   "cell_type": "markdown",
   "metadata": {},
   "source": [
    "### Hyperparameter (Grid search CV) for model 1"
   ]
  },
  {
   "cell_type": "code",
   "execution_count": 29,
   "metadata": {},
   "outputs": [
    {
     "name": "stderr",
     "output_type": "stream",
     "text": [
      "D:\\Anaconda3\\lib\\site-packages\\sklearn\\model_selection\\_validation.py:615: FitFailedWarning: Estimator fit failed. The score on this train-test partition for these parameters will be set to nan. Details: \n",
      "Traceback (most recent call last):\n",
      "  File \"D:\\Anaconda3\\lib\\site-packages\\sklearn\\model_selection\\_validation.py\", line 598, in _fit_and_score\n",
      "    estimator.fit(X_train, y_train, **fit_params)\n",
      "  File \"D:\\Anaconda3\\lib\\site-packages\\sklearn\\tree\\_classes.py\", line 1252, in fit\n",
      "    super().fit(\n",
      "  File \"D:\\Anaconda3\\lib\\site-packages\\sklearn\\tree\\_classes.py\", line 238, in fit\n",
      "    raise ValueError(\"min_samples_split must be an integer \"\n",
      "ValueError: min_samples_split must be an integer greater than 1 or a float in (0.0, 1.0]; got the integer 1\n",
      "\n",
      "  warnings.warn(\"Estimator fit failed. The score on this train-test\"\n",
      "D:\\Anaconda3\\lib\\site-packages\\sklearn\\model_selection\\_validation.py:615: FitFailedWarning: Estimator fit failed. The score on this train-test partition for these parameters will be set to nan. Details: \n",
      "Traceback (most recent call last):\n",
      "  File \"D:\\Anaconda3\\lib\\site-packages\\sklearn\\model_selection\\_validation.py\", line 598, in _fit_and_score\n",
      "    estimator.fit(X_train, y_train, **fit_params)\n",
      "  File \"D:\\Anaconda3\\lib\\site-packages\\sklearn\\tree\\_classes.py\", line 1252, in fit\n",
      "    super().fit(\n",
      "  File \"D:\\Anaconda3\\lib\\site-packages\\sklearn\\tree\\_classes.py\", line 238, in fit\n",
      "    raise ValueError(\"min_samples_split must be an integer \"\n",
      "ValueError: min_samples_split must be an integer greater than 1 or a float in (0.0, 1.0]; got the integer 1\n",
      "\n",
      "  warnings.warn(\"Estimator fit failed. The score on this train-test\"\n",
      "D:\\Anaconda3\\lib\\site-packages\\sklearn\\model_selection\\_validation.py:615: FitFailedWarning: Estimator fit failed. The score on this train-test partition for these parameters will be set to nan. Details: \n",
      "Traceback (most recent call last):\n",
      "  File \"D:\\Anaconda3\\lib\\site-packages\\sklearn\\model_selection\\_validation.py\", line 598, in _fit_and_score\n",
      "    estimator.fit(X_train, y_train, **fit_params)\n",
      "  File \"D:\\Anaconda3\\lib\\site-packages\\sklearn\\tree\\_classes.py\", line 1252, in fit\n",
      "    super().fit(\n",
      "  File \"D:\\Anaconda3\\lib\\site-packages\\sklearn\\tree\\_classes.py\", line 238, in fit\n",
      "    raise ValueError(\"min_samples_split must be an integer \"\n",
      "ValueError: min_samples_split must be an integer greater than 1 or a float in (0.0, 1.0]; got the integer 1\n",
      "\n",
      "  warnings.warn(\"Estimator fit failed. The score on this train-test\"\n",
      "D:\\Anaconda3\\lib\\site-packages\\sklearn\\model_selection\\_validation.py:615: FitFailedWarning: Estimator fit failed. The score on this train-test partition for these parameters will be set to nan. Details: \n",
      "Traceback (most recent call last):\n",
      "  File \"D:\\Anaconda3\\lib\\site-packages\\sklearn\\model_selection\\_validation.py\", line 598, in _fit_and_score\n",
      "    estimator.fit(X_train, y_train, **fit_params)\n",
      "  File \"D:\\Anaconda3\\lib\\site-packages\\sklearn\\tree\\_classes.py\", line 1252, in fit\n",
      "    super().fit(\n",
      "  File \"D:\\Anaconda3\\lib\\site-packages\\sklearn\\tree\\_classes.py\", line 238, in fit\n",
      "    raise ValueError(\"min_samples_split must be an integer \"\n",
      "ValueError: min_samples_split must be an integer greater than 1 or a float in (0.0, 1.0]; got the integer 1\n",
      "\n",
      "  warnings.warn(\"Estimator fit failed. The score on this train-test\"\n",
      "D:\\Anaconda3\\lib\\site-packages\\sklearn\\model_selection\\_validation.py:615: FitFailedWarning: Estimator fit failed. The score on this train-test partition for these parameters will be set to nan. Details: \n",
      "Traceback (most recent call last):\n",
      "  File \"D:\\Anaconda3\\lib\\site-packages\\sklearn\\model_selection\\_validation.py\", line 598, in _fit_and_score\n",
      "    estimator.fit(X_train, y_train, **fit_params)\n",
      "  File \"D:\\Anaconda3\\lib\\site-packages\\sklearn\\tree\\_classes.py\", line 1252, in fit\n",
      "    super().fit(\n",
      "  File \"D:\\Anaconda3\\lib\\site-packages\\sklearn\\tree\\_classes.py\", line 238, in fit\n",
      "    raise ValueError(\"min_samples_split must be an integer \"\n",
      "ValueError: min_samples_split must be an integer greater than 1 or a float in (0.0, 1.0]; got the integer 1\n",
      "\n",
      "  warnings.warn(\"Estimator fit failed. The score on this train-test\"\n",
      "D:\\Anaconda3\\lib\\site-packages\\sklearn\\model_selection\\_validation.py:615: FitFailedWarning: Estimator fit failed. The score on this train-test partition for these parameters will be set to nan. Details: \n",
      "Traceback (most recent call last):\n",
      "  File \"D:\\Anaconda3\\lib\\site-packages\\sklearn\\model_selection\\_validation.py\", line 598, in _fit_and_score\n",
      "    estimator.fit(X_train, y_train, **fit_params)\n",
      "  File \"D:\\Anaconda3\\lib\\site-packages\\sklearn\\tree\\_classes.py\", line 1252, in fit\n",
      "    super().fit(\n",
      "  File \"D:\\Anaconda3\\lib\\site-packages\\sklearn\\tree\\_classes.py\", line 244, in fit\n",
      "    if not 0. < self.min_samples_split <= 1.:\n",
      "TypeError: '<' not supported between instances of 'float' and 'NoneType'\n",
      "\n",
      "  warnings.warn(\"Estimator fit failed. The score on this train-test\"\n",
      "D:\\Anaconda3\\lib\\site-packages\\sklearn\\model_selection\\_validation.py:615: FitFailedWarning: Estimator fit failed. The score on this train-test partition for these parameters will be set to nan. Details: \n",
      "Traceback (most recent call last):\n",
      "  File \"D:\\Anaconda3\\lib\\site-packages\\sklearn\\model_selection\\_validation.py\", line 598, in _fit_and_score\n",
      "    estimator.fit(X_train, y_train, **fit_params)\n",
      "  File \"D:\\Anaconda3\\lib\\site-packages\\sklearn\\tree\\_classes.py\", line 1252, in fit\n",
      "    super().fit(\n",
      "  File \"D:\\Anaconda3\\lib\\site-packages\\sklearn\\tree\\_classes.py\", line 244, in fit\n",
      "    if not 0. < self.min_samples_split <= 1.:\n",
      "TypeError: '<' not supported between instances of 'float' and 'NoneType'\n",
      "\n",
      "  warnings.warn(\"Estimator fit failed. The score on this train-test\"\n",
      "D:\\Anaconda3\\lib\\site-packages\\sklearn\\model_selection\\_validation.py:615: FitFailedWarning: Estimator fit failed. The score on this train-test partition for these parameters will be set to nan. Details: \n",
      "Traceback (most recent call last):\n",
      "  File \"D:\\Anaconda3\\lib\\site-packages\\sklearn\\model_selection\\_validation.py\", line 598, in _fit_and_score\n",
      "    estimator.fit(X_train, y_train, **fit_params)\n",
      "  File \"D:\\Anaconda3\\lib\\site-packages\\sklearn\\tree\\_classes.py\", line 1252, in fit\n",
      "    super().fit(\n",
      "  File \"D:\\Anaconda3\\lib\\site-packages\\sklearn\\tree\\_classes.py\", line 244, in fit\n",
      "    if not 0. < self.min_samples_split <= 1.:\n",
      "TypeError: '<' not supported between instances of 'float' and 'NoneType'\n",
      "\n",
      "  warnings.warn(\"Estimator fit failed. The score on this train-test\"\n",
      "D:\\Anaconda3\\lib\\site-packages\\sklearn\\model_selection\\_validation.py:615: FitFailedWarning: Estimator fit failed. The score on this train-test partition for these parameters will be set to nan. Details: \n",
      "Traceback (most recent call last):\n",
      "  File \"D:\\Anaconda3\\lib\\site-packages\\sklearn\\model_selection\\_validation.py\", line 598, in _fit_and_score\n",
      "    estimator.fit(X_train, y_train, **fit_params)\n",
      "  File \"D:\\Anaconda3\\lib\\site-packages\\sklearn\\tree\\_classes.py\", line 1252, in fit\n",
      "    super().fit(\n",
      "  File \"D:\\Anaconda3\\lib\\site-packages\\sklearn\\tree\\_classes.py\", line 244, in fit\n",
      "    if not 0. < self.min_samples_split <= 1.:\n",
      "TypeError: '<' not supported between instances of 'float' and 'NoneType'\n",
      "\n",
      "  warnings.warn(\"Estimator fit failed. The score on this train-test\"\n",
      "D:\\Anaconda3\\lib\\site-packages\\sklearn\\model_selection\\_validation.py:615: FitFailedWarning: Estimator fit failed. The score on this train-test partition for these parameters will be set to nan. Details: \n",
      "Traceback (most recent call last):\n",
      "  File \"D:\\Anaconda3\\lib\\site-packages\\sklearn\\model_selection\\_validation.py\", line 598, in _fit_and_score\n",
      "    estimator.fit(X_train, y_train, **fit_params)\n",
      "  File \"D:\\Anaconda3\\lib\\site-packages\\sklearn\\tree\\_classes.py\", line 1252, in fit\n",
      "    super().fit(\n",
      "  File \"D:\\Anaconda3\\lib\\site-packages\\sklearn\\tree\\_classes.py\", line 244, in fit\n",
      "    if not 0. < self.min_samples_split <= 1.:\n",
      "TypeError: '<' not supported between instances of 'float' and 'NoneType'\n",
      "\n",
      "  warnings.warn(\"Estimator fit failed. The score on this train-test\"\n",
      "D:\\Anaconda3\\lib\\site-packages\\sklearn\\model_selection\\_validation.py:615: FitFailedWarning: Estimator fit failed. The score on this train-test partition for these parameters will be set to nan. Details: \n",
      "Traceback (most recent call last):\n",
      "  File \"D:\\Anaconda3\\lib\\site-packages\\sklearn\\model_selection\\_validation.py\", line 598, in _fit_and_score\n",
      "    estimator.fit(X_train, y_train, **fit_params)\n",
      "  File \"D:\\Anaconda3\\lib\\site-packages\\sklearn\\tree\\_classes.py\", line 1252, in fit\n",
      "    super().fit(\n",
      "  File \"D:\\Anaconda3\\lib\\site-packages\\sklearn\\tree\\_classes.py\", line 238, in fit\n",
      "    raise ValueError(\"min_samples_split must be an integer \"\n",
      "ValueError: min_samples_split must be an integer greater than 1 or a float in (0.0, 1.0]; got the integer 1\n",
      "\n",
      "  warnings.warn(\"Estimator fit failed. The score on this train-test\"\n",
      "D:\\Anaconda3\\lib\\site-packages\\sklearn\\model_selection\\_validation.py:615: FitFailedWarning: Estimator fit failed. The score on this train-test partition for these parameters will be set to nan. Details: \n",
      "Traceback (most recent call last):\n",
      "  File \"D:\\Anaconda3\\lib\\site-packages\\sklearn\\model_selection\\_validation.py\", line 598, in _fit_and_score\n",
      "    estimator.fit(X_train, y_train, **fit_params)\n",
      "  File \"D:\\Anaconda3\\lib\\site-packages\\sklearn\\tree\\_classes.py\", line 1252, in fit\n",
      "    super().fit(\n",
      "  File \"D:\\Anaconda3\\lib\\site-packages\\sklearn\\tree\\_classes.py\", line 238, in fit\n",
      "    raise ValueError(\"min_samples_split must be an integer \"\n",
      "ValueError: min_samples_split must be an integer greater than 1 or a float in (0.0, 1.0]; got the integer 1\n",
      "\n",
      "  warnings.warn(\"Estimator fit failed. The score on this train-test\"\n",
      "D:\\Anaconda3\\lib\\site-packages\\sklearn\\model_selection\\_validation.py:615: FitFailedWarning: Estimator fit failed. The score on this train-test partition for these parameters will be set to nan. Details: \n",
      "Traceback (most recent call last):\n",
      "  File \"D:\\Anaconda3\\lib\\site-packages\\sklearn\\model_selection\\_validation.py\", line 598, in _fit_and_score\n",
      "    estimator.fit(X_train, y_train, **fit_params)\n",
      "  File \"D:\\Anaconda3\\lib\\site-packages\\sklearn\\tree\\_classes.py\", line 1252, in fit\n",
      "    super().fit(\n",
      "  File \"D:\\Anaconda3\\lib\\site-packages\\sklearn\\tree\\_classes.py\", line 238, in fit\n",
      "    raise ValueError(\"min_samples_split must be an integer \"\n",
      "ValueError: min_samples_split must be an integer greater than 1 or a float in (0.0, 1.0]; got the integer 1\n",
      "\n",
      "  warnings.warn(\"Estimator fit failed. The score on this train-test\"\n",
      "D:\\Anaconda3\\lib\\site-packages\\sklearn\\model_selection\\_validation.py:615: FitFailedWarning: Estimator fit failed. The score on this train-test partition for these parameters will be set to nan. Details: \n",
      "Traceback (most recent call last):\n",
      "  File \"D:\\Anaconda3\\lib\\site-packages\\sklearn\\model_selection\\_validation.py\", line 598, in _fit_and_score\n",
      "    estimator.fit(X_train, y_train, **fit_params)\n",
      "  File \"D:\\Anaconda3\\lib\\site-packages\\sklearn\\tree\\_classes.py\", line 1252, in fit\n",
      "    super().fit(\n",
      "  File \"D:\\Anaconda3\\lib\\site-packages\\sklearn\\tree\\_classes.py\", line 238, in fit\n",
      "    raise ValueError(\"min_samples_split must be an integer \"\n",
      "ValueError: min_samples_split must be an integer greater than 1 or a float in (0.0, 1.0]; got the integer 1\n",
      "\n",
      "  warnings.warn(\"Estimator fit failed. The score on this train-test\"\n",
      "D:\\Anaconda3\\lib\\site-packages\\sklearn\\model_selection\\_validation.py:615: FitFailedWarning: Estimator fit failed. The score on this train-test partition for these parameters will be set to nan. Details: \n",
      "Traceback (most recent call last):\n",
      "  File \"D:\\Anaconda3\\lib\\site-packages\\sklearn\\model_selection\\_validation.py\", line 598, in _fit_and_score\n",
      "    estimator.fit(X_train, y_train, **fit_params)\n",
      "  File \"D:\\Anaconda3\\lib\\site-packages\\sklearn\\tree\\_classes.py\", line 1252, in fit\n",
      "    super().fit(\n",
      "  File \"D:\\Anaconda3\\lib\\site-packages\\sklearn\\tree\\_classes.py\", line 238, in fit\n",
      "    raise ValueError(\"min_samples_split must be an integer \"\n",
      "ValueError: min_samples_split must be an integer greater than 1 or a float in (0.0, 1.0]; got the integer 1\n",
      "\n",
      "  warnings.warn(\"Estimator fit failed. The score on this train-test\"\n",
      "D:\\Anaconda3\\lib\\site-packages\\sklearn\\model_selection\\_validation.py:615: FitFailedWarning: Estimator fit failed. The score on this train-test partition for these parameters will be set to nan. Details: \n",
      "Traceback (most recent call last):\n",
      "  File \"D:\\Anaconda3\\lib\\site-packages\\sklearn\\model_selection\\_validation.py\", line 598, in _fit_and_score\n",
      "    estimator.fit(X_train, y_train, **fit_params)\n",
      "  File \"D:\\Anaconda3\\lib\\site-packages\\sklearn\\tree\\_classes.py\", line 1252, in fit\n",
      "    super().fit(\n",
      "  File \"D:\\Anaconda3\\lib\\site-packages\\sklearn\\tree\\_classes.py\", line 244, in fit\n",
      "    if not 0. < self.min_samples_split <= 1.:\n",
      "TypeError: '<' not supported between instances of 'float' and 'NoneType'\n",
      "\n",
      "  warnings.warn(\"Estimator fit failed. The score on this train-test\"\n",
      "D:\\Anaconda3\\lib\\site-packages\\sklearn\\model_selection\\_validation.py:615: FitFailedWarning: Estimator fit failed. The score on this train-test partition for these parameters will be set to nan. Details: \n",
      "Traceback (most recent call last):\n",
      "  File \"D:\\Anaconda3\\lib\\site-packages\\sklearn\\model_selection\\_validation.py\", line 598, in _fit_and_score\n",
      "    estimator.fit(X_train, y_train, **fit_params)\n",
      "  File \"D:\\Anaconda3\\lib\\site-packages\\sklearn\\tree\\_classes.py\", line 1252, in fit\n",
      "    super().fit(\n",
      "  File \"D:\\Anaconda3\\lib\\site-packages\\sklearn\\tree\\_classes.py\", line 244, in fit\n",
      "    if not 0. < self.min_samples_split <= 1.:\n",
      "TypeError: '<' not supported between instances of 'float' and 'NoneType'\n",
      "\n",
      "  warnings.warn(\"Estimator fit failed. The score on this train-test\"\n",
      "D:\\Anaconda3\\lib\\site-packages\\sklearn\\model_selection\\_validation.py:615: FitFailedWarning: Estimator fit failed. The score on this train-test partition for these parameters will be set to nan. Details: \n",
      "Traceback (most recent call last):\n",
      "  File \"D:\\Anaconda3\\lib\\site-packages\\sklearn\\model_selection\\_validation.py\", line 598, in _fit_and_score\n",
      "    estimator.fit(X_train, y_train, **fit_params)\n",
      "  File \"D:\\Anaconda3\\lib\\site-packages\\sklearn\\tree\\_classes.py\", line 1252, in fit\n",
      "    super().fit(\n",
      "  File \"D:\\Anaconda3\\lib\\site-packages\\sklearn\\tree\\_classes.py\", line 244, in fit\n",
      "    if not 0. < self.min_samples_split <= 1.:\n",
      "TypeError: '<' not supported between instances of 'float' and 'NoneType'\n",
      "\n",
      "  warnings.warn(\"Estimator fit failed. The score on this train-test\"\n",
      "D:\\Anaconda3\\lib\\site-packages\\sklearn\\model_selection\\_validation.py:615: FitFailedWarning: Estimator fit failed. The score on this train-test partition for these parameters will be set to nan. Details: \n",
      "Traceback (most recent call last):\n",
      "  File \"D:\\Anaconda3\\lib\\site-packages\\sklearn\\model_selection\\_validation.py\", line 598, in _fit_and_score\n",
      "    estimator.fit(X_train, y_train, **fit_params)\n",
      "  File \"D:\\Anaconda3\\lib\\site-packages\\sklearn\\tree\\_classes.py\", line 1252, in fit\n",
      "    super().fit(\n",
      "  File \"D:\\Anaconda3\\lib\\site-packages\\sklearn\\tree\\_classes.py\", line 244, in fit\n",
      "    if not 0. < self.min_samples_split <= 1.:\n",
      "TypeError: '<' not supported between instances of 'float' and 'NoneType'\n",
      "\n",
      "  warnings.warn(\"Estimator fit failed. The score on this train-test\"\n",
      "D:\\Anaconda3\\lib\\site-packages\\sklearn\\model_selection\\_validation.py:615: FitFailedWarning: Estimator fit failed. The score on this train-test partition for these parameters will be set to nan. Details: \n",
      "Traceback (most recent call last):\n",
      "  File \"D:\\Anaconda3\\lib\\site-packages\\sklearn\\model_selection\\_validation.py\", line 598, in _fit_and_score\n",
      "    estimator.fit(X_train, y_train, **fit_params)\n",
      "  File \"D:\\Anaconda3\\lib\\site-packages\\sklearn\\tree\\_classes.py\", line 1252, in fit\n",
      "    super().fit(\n",
      "  File \"D:\\Anaconda3\\lib\\site-packages\\sklearn\\tree\\_classes.py\", line 244, in fit\n",
      "    if not 0. < self.min_samples_split <= 1.:\n",
      "TypeError: '<' not supported between instances of 'float' and 'NoneType'\n",
      "\n",
      "  warnings.warn(\"Estimator fit failed. The score on this train-test\"\n",
      "D:\\Anaconda3\\lib\\site-packages\\sklearn\\model_selection\\_validation.py:615: FitFailedWarning: Estimator fit failed. The score on this train-test partition for these parameters will be set to nan. Details: \n",
      "Traceback (most recent call last):\n",
      "  File \"D:\\Anaconda3\\lib\\site-packages\\sklearn\\model_selection\\_validation.py\", line 598, in _fit_and_score\n",
      "    estimator.fit(X_train, y_train, **fit_params)\n",
      "  File \"D:\\Anaconda3\\lib\\site-packages\\sklearn\\tree\\_classes.py\", line 1252, in fit\n",
      "    super().fit(\n",
      "  File \"D:\\Anaconda3\\lib\\site-packages\\sklearn\\tree\\_classes.py\", line 238, in fit\n",
      "    raise ValueError(\"min_samples_split must be an integer \"\n",
      "ValueError: min_samples_split must be an integer greater than 1 or a float in (0.0, 1.0]; got the integer 1\n",
      "\n",
      "  warnings.warn(\"Estimator fit failed. The score on this train-test\"\n",
      "D:\\Anaconda3\\lib\\site-packages\\sklearn\\model_selection\\_validation.py:615: FitFailedWarning: Estimator fit failed. The score on this train-test partition for these parameters will be set to nan. Details: \n",
      "Traceback (most recent call last):\n",
      "  File \"D:\\Anaconda3\\lib\\site-packages\\sklearn\\model_selection\\_validation.py\", line 598, in _fit_and_score\n",
      "    estimator.fit(X_train, y_train, **fit_params)\n",
      "  File \"D:\\Anaconda3\\lib\\site-packages\\sklearn\\tree\\_classes.py\", line 1252, in fit\n",
      "    super().fit(\n",
      "  File \"D:\\Anaconda3\\lib\\site-packages\\sklearn\\tree\\_classes.py\", line 238, in fit\n",
      "    raise ValueError(\"min_samples_split must be an integer \"\n",
      "ValueError: min_samples_split must be an integer greater than 1 or a float in (0.0, 1.0]; got the integer 1\n",
      "\n",
      "  warnings.warn(\"Estimator fit failed. The score on this train-test\"\n",
      "D:\\Anaconda3\\lib\\site-packages\\sklearn\\model_selection\\_validation.py:615: FitFailedWarning: Estimator fit failed. The score on this train-test partition for these parameters will be set to nan. Details: \n",
      "Traceback (most recent call last):\n",
      "  File \"D:\\Anaconda3\\lib\\site-packages\\sklearn\\model_selection\\_validation.py\", line 598, in _fit_and_score\n",
      "    estimator.fit(X_train, y_train, **fit_params)\n",
      "  File \"D:\\Anaconda3\\lib\\site-packages\\sklearn\\tree\\_classes.py\", line 1252, in fit\n",
      "    super().fit(\n",
      "  File \"D:\\Anaconda3\\lib\\site-packages\\sklearn\\tree\\_classes.py\", line 238, in fit\n",
      "    raise ValueError(\"min_samples_split must be an integer \"\n",
      "ValueError: min_samples_split must be an integer greater than 1 or a float in (0.0, 1.0]; got the integer 1\n",
      "\n",
      "  warnings.warn(\"Estimator fit failed. The score on this train-test\"\n",
      "D:\\Anaconda3\\lib\\site-packages\\sklearn\\model_selection\\_validation.py:615: FitFailedWarning: Estimator fit failed. The score on this train-test partition for these parameters will be set to nan. Details: \n",
      "Traceback (most recent call last):\n",
      "  File \"D:\\Anaconda3\\lib\\site-packages\\sklearn\\model_selection\\_validation.py\", line 598, in _fit_and_score\n",
      "    estimator.fit(X_train, y_train, **fit_params)\n",
      "  File \"D:\\Anaconda3\\lib\\site-packages\\sklearn\\tree\\_classes.py\", line 1252, in fit\n",
      "    super().fit(\n",
      "  File \"D:\\Anaconda3\\lib\\site-packages\\sklearn\\tree\\_classes.py\", line 238, in fit\n",
      "    raise ValueError(\"min_samples_split must be an integer \"\n",
      "ValueError: min_samples_split must be an integer greater than 1 or a float in (0.0, 1.0]; got the integer 1\n",
      "\n",
      "  warnings.warn(\"Estimator fit failed. The score on this train-test\"\n",
      "D:\\Anaconda3\\lib\\site-packages\\sklearn\\model_selection\\_validation.py:615: FitFailedWarning: Estimator fit failed. The score on this train-test partition for these parameters will be set to nan. Details: \n",
      "Traceback (most recent call last):\n",
      "  File \"D:\\Anaconda3\\lib\\site-packages\\sklearn\\model_selection\\_validation.py\", line 598, in _fit_and_score\n",
      "    estimator.fit(X_train, y_train, **fit_params)\n",
      "  File \"D:\\Anaconda3\\lib\\site-packages\\sklearn\\tree\\_classes.py\", line 1252, in fit\n",
      "    super().fit(\n",
      "  File \"D:\\Anaconda3\\lib\\site-packages\\sklearn\\tree\\_classes.py\", line 238, in fit\n",
      "    raise ValueError(\"min_samples_split must be an integer \"\n",
      "ValueError: min_samples_split must be an integer greater than 1 or a float in (0.0, 1.0]; got the integer 1\n",
      "\n",
      "  warnings.warn(\"Estimator fit failed. The score on this train-test\"\n",
      "D:\\Anaconda3\\lib\\site-packages\\sklearn\\model_selection\\_validation.py:615: FitFailedWarning: Estimator fit failed. The score on this train-test partition for these parameters will be set to nan. Details: \n",
      "Traceback (most recent call last):\n",
      "  File \"D:\\Anaconda3\\lib\\site-packages\\sklearn\\model_selection\\_validation.py\", line 598, in _fit_and_score\n",
      "    estimator.fit(X_train, y_train, **fit_params)\n",
      "  File \"D:\\Anaconda3\\lib\\site-packages\\sklearn\\tree\\_classes.py\", line 1252, in fit\n",
      "    super().fit(\n",
      "  File \"D:\\Anaconda3\\lib\\site-packages\\sklearn\\tree\\_classes.py\", line 244, in fit\n",
      "    if not 0. < self.min_samples_split <= 1.:\n",
      "TypeError: '<' not supported between instances of 'float' and 'NoneType'\n",
      "\n",
      "  warnings.warn(\"Estimator fit failed. The score on this train-test\"\n",
      "D:\\Anaconda3\\lib\\site-packages\\sklearn\\model_selection\\_validation.py:615: FitFailedWarning: Estimator fit failed. The score on this train-test partition for these parameters will be set to nan. Details: \n",
      "Traceback (most recent call last):\n",
      "  File \"D:\\Anaconda3\\lib\\site-packages\\sklearn\\model_selection\\_validation.py\", line 598, in _fit_and_score\n",
      "    estimator.fit(X_train, y_train, **fit_params)\n",
      "  File \"D:\\Anaconda3\\lib\\site-packages\\sklearn\\tree\\_classes.py\", line 1252, in fit\n",
      "    super().fit(\n",
      "  File \"D:\\Anaconda3\\lib\\site-packages\\sklearn\\tree\\_classes.py\", line 244, in fit\n",
      "    if not 0. < self.min_samples_split <= 1.:\n",
      "TypeError: '<' not supported between instances of 'float' and 'NoneType'\n",
      "\n",
      "  warnings.warn(\"Estimator fit failed. The score on this train-test\"\n",
      "D:\\Anaconda3\\lib\\site-packages\\sklearn\\model_selection\\_validation.py:615: FitFailedWarning: Estimator fit failed. The score on this train-test partition for these parameters will be set to nan. Details: \n",
      "Traceback (most recent call last):\n",
      "  File \"D:\\Anaconda3\\lib\\site-packages\\sklearn\\model_selection\\_validation.py\", line 598, in _fit_and_score\n",
      "    estimator.fit(X_train, y_train, **fit_params)\n",
      "  File \"D:\\Anaconda3\\lib\\site-packages\\sklearn\\tree\\_classes.py\", line 1252, in fit\n",
      "    super().fit(\n",
      "  File \"D:\\Anaconda3\\lib\\site-packages\\sklearn\\tree\\_classes.py\", line 244, in fit\n",
      "    if not 0. < self.min_samples_split <= 1.:\n",
      "TypeError: '<' not supported between instances of 'float' and 'NoneType'\n",
      "\n",
      "  warnings.warn(\"Estimator fit failed. The score on this train-test\"\n",
      "D:\\Anaconda3\\lib\\site-packages\\sklearn\\model_selection\\_validation.py:615: FitFailedWarning: Estimator fit failed. The score on this train-test partition for these parameters will be set to nan. Details: \n",
      "Traceback (most recent call last):\n",
      "  File \"D:\\Anaconda3\\lib\\site-packages\\sklearn\\model_selection\\_validation.py\", line 598, in _fit_and_score\n",
      "    estimator.fit(X_train, y_train, **fit_params)\n",
      "  File \"D:\\Anaconda3\\lib\\site-packages\\sklearn\\tree\\_classes.py\", line 1252, in fit\n",
      "    super().fit(\n",
      "  File \"D:\\Anaconda3\\lib\\site-packages\\sklearn\\tree\\_classes.py\", line 244, in fit\n",
      "    if not 0. < self.min_samples_split <= 1.:\n",
      "TypeError: '<' not supported between instances of 'float' and 'NoneType'\n",
      "\n",
      "  warnings.warn(\"Estimator fit failed. The score on this train-test\"\n",
      "D:\\Anaconda3\\lib\\site-packages\\sklearn\\model_selection\\_validation.py:615: FitFailedWarning: Estimator fit failed. The score on this train-test partition for these parameters will be set to nan. Details: \n",
      "Traceback (most recent call last):\n",
      "  File \"D:\\Anaconda3\\lib\\site-packages\\sklearn\\model_selection\\_validation.py\", line 598, in _fit_and_score\n",
      "    estimator.fit(X_train, y_train, **fit_params)\n",
      "  File \"D:\\Anaconda3\\lib\\site-packages\\sklearn\\tree\\_classes.py\", line 1252, in fit\n",
      "    super().fit(\n",
      "  File \"D:\\Anaconda3\\lib\\site-packages\\sklearn\\tree\\_classes.py\", line 244, in fit\n",
      "    if not 0. < self.min_samples_split <= 1.:\n",
      "TypeError: '<' not supported between instances of 'float' and 'NoneType'\n",
      "\n",
      "  warnings.warn(\"Estimator fit failed. The score on this train-test\"\n",
      "D:\\Anaconda3\\lib\\site-packages\\sklearn\\model_selection\\_search.py:922: UserWarning: One or more of the test scores are non-finite: [       nan 0.64934211 0.6482595  0.64926164 0.648711   0.64882893\n",
      " 0.64852241        nan        nan 0.65135024 0.65104012 0.65151316\n",
      " 0.65071181 0.65166416 0.65068983        nan        nan 0.65054375\n",
      " 0.65054375 0.65054375 0.65054375 0.65054375 0.65105175        nan]\n",
      "  warnings.warn(\n",
      "D:\\Anaconda3\\lib\\site-packages\\sklearn\\model_selection\\_search.py:922: UserWarning: One or more of the train scores are non-finite: [       nan 0.72041812 0.72022048 0.7198843  0.71971153 0.71919556\n",
      " 0.71877437        nan        nan 0.71906321 0.71906321 0.71906321\n",
      " 0.71890942 0.71853323 0.71813859        nan        nan 0.71767565\n",
      " 0.71767565 0.71767565 0.71767565 0.71767565 0.71739444        nan]\n",
      "  warnings.warn(\n"
     ]
    },
    {
     "data": {
      "text/plain": [
       "GridSearchCV(cv=5,\n",
       "             estimator=DecisionTreeRegressor(max_depth=7, min_samples_leaf=10),\n",
       "             n_jobs=1,\n",
       "             param_grid={'min_samples_leaf': [1, 2, 3],\n",
       "                         'min_samples_split': [1, 2, 3, 4, 5, 6, 7, None]},\n",
       "             return_train_score=True)"
      ]
     },
     "execution_count": 29,
     "metadata": {},
     "output_type": "execute_result"
    }
   ],
   "source": [
    "# Hyperparameter param distance\n",
    "param_dist = {    \n",
    "    \"max_depth\": [3, None],    \n",
    "    \"max_features\": randint(1, 9),   \n",
    "    \"min_samples_leaf\": randint(1, 9),   \n",
    "    'criterion' : ['gini','entropy']     \n",
    "}\n",
    "# parameter grid\n",
    "param_grid = { \"min_samples_split\":[1,2,3,4,5,6,7,None],\"min_samples_leaf\":[1,2,3]}  \n",
    "# parameter search\n",
    "g_search = GridSearchCV(estimator = dt, param_grid = param_grid,    \n",
    "                                     cv = 5, n_jobs = 1, verbose = 0, return_train_score=True)\n",
    "# fitting the xtrain and ytrain in grid searchcv\n",
    "g_search.fit(X_train,y_train) "
   ]
  },
  {
   "cell_type": "code",
   "execution_count": 30,
   "metadata": {},
   "outputs": [
    {
     "name": "stdout",
     "output_type": "stream",
     "text": [
      "Best Score: 0.6516641619169355\n",
      "\n",
      "\n",
      "{'ccp_alpha': 0.0, 'criterion': 'mse', 'max_depth': 7, 'max_features': None, 'max_leaf_nodes': None, 'min_impurity_decrease': 0.0, 'min_impurity_split': None, 'min_samples_leaf': 2, 'min_samples_split': 6, 'min_weight_fraction_leaf': 0.0, 'random_state': None, 'splitter': 'best'}\n"
     ]
    }
   ],
   "source": [
    "# taking the best fit out\n",
    "print(\"Best Score:\",g_search.best_score_) \n",
    "print(\"\\n\")\n",
    "# taking the best estimator out\n",
    "print(g_search.best_estimator_.get_params())  "
   ]
  },
  {
   "cell_type": "code",
   "execution_count": null,
   "metadata": {},
   "outputs": [],
   "source": []
  },
  {
   "cell_type": "code",
   "execution_count": 31,
   "metadata": {},
   "outputs": [
    {
     "name": "stdout",
     "output_type": "stream",
     "text": [
      "The Mean Absolute Error is: 108694.39647273398\n",
      "The Root Mean Squared Error is: 205640.57280963185\n",
      "The R-square is: 0.7221545650568659\n"
     ]
    }
   ],
   "source": [
    "# log fitting DT model - 2:\n",
    "\n",
    "X=house[['bedrooms','bathrooms','sqft_living','view','condition','grade','house_age','lat','zipcode']]\n",
    "y=np.log(house['price'])\n",
    "#Splitting the data set into test and train for the train and validation purpose:\n",
    "X_train, X_test, y_train, y_test = train_test_split(X,y,test_size=0.3, random_state = 33)\n",
    "\n",
    "#loading the decision tree alogorithm\n",
    "dt = DecisionTreeRegressor(max_depth = 7,min_samples_leaf =10) \n",
    "dt.fit(X_train,y_train)    #Fitting the model\n",
    "y_pred = dt.predict(X_test) #Predicting the y value's\n",
    "y_pred = np.exp(y_pred)\n",
    "y_test = np.exp(y_test)\n",
    "\n",
    "#Calculating the mean absolute error:  \n",
    "print ('The Mean Absolute Error is:', mean_absolute_error(y_test, y_pred  ))  \n",
    "#Calculating the Root of mean squared error value:\n",
    "print ('The Root Mean Squared Error is:', sqrt(mean_squared_error(y_test,y_pred  )))  \n",
    "#Calculating the R_square value:\n",
    "print ('The R-square is:', r2_score(y_test,y_pred))\n"
   ]
  },
  {
   "cell_type": "markdown",
   "metadata": {},
   "source": [
    "### Hyperparameter (Grid search CV) for model 2"
   ]
  },
  {
   "cell_type": "code",
   "execution_count": 32,
   "metadata": {},
   "outputs": [
    {
     "name": "stderr",
     "output_type": "stream",
     "text": [
      "D:\\Anaconda3\\lib\\site-packages\\sklearn\\model_selection\\_validation.py:615: FitFailedWarning: Estimator fit failed. The score on this train-test partition for these parameters will be set to nan. Details: \n",
      "Traceback (most recent call last):\n",
      "  File \"D:\\Anaconda3\\lib\\site-packages\\sklearn\\model_selection\\_validation.py\", line 598, in _fit_and_score\n",
      "    estimator.fit(X_train, y_train, **fit_params)\n",
      "  File \"D:\\Anaconda3\\lib\\site-packages\\sklearn\\tree\\_classes.py\", line 1252, in fit\n",
      "    super().fit(\n",
      "  File \"D:\\Anaconda3\\lib\\site-packages\\sklearn\\tree\\_classes.py\", line 238, in fit\n",
      "    raise ValueError(\"min_samples_split must be an integer \"\n",
      "ValueError: min_samples_split must be an integer greater than 1 or a float in (0.0, 1.0]; got the integer 1\n",
      "\n",
      "  warnings.warn(\"Estimator fit failed. The score on this train-test\"\n",
      "D:\\Anaconda3\\lib\\site-packages\\sklearn\\model_selection\\_validation.py:615: FitFailedWarning: Estimator fit failed. The score on this train-test partition for these parameters will be set to nan. Details: \n",
      "Traceback (most recent call last):\n",
      "  File \"D:\\Anaconda3\\lib\\site-packages\\sklearn\\model_selection\\_validation.py\", line 598, in _fit_and_score\n",
      "    estimator.fit(X_train, y_train, **fit_params)\n",
      "  File \"D:\\Anaconda3\\lib\\site-packages\\sklearn\\tree\\_classes.py\", line 1252, in fit\n",
      "    super().fit(\n",
      "  File \"D:\\Anaconda3\\lib\\site-packages\\sklearn\\tree\\_classes.py\", line 238, in fit\n",
      "    raise ValueError(\"min_samples_split must be an integer \"\n",
      "ValueError: min_samples_split must be an integer greater than 1 or a float in (0.0, 1.0]; got the integer 1\n",
      "\n",
      "  warnings.warn(\"Estimator fit failed. The score on this train-test\"\n",
      "D:\\Anaconda3\\lib\\site-packages\\sklearn\\model_selection\\_validation.py:615: FitFailedWarning: Estimator fit failed. The score on this train-test partition for these parameters will be set to nan. Details: \n",
      "Traceback (most recent call last):\n",
      "  File \"D:\\Anaconda3\\lib\\site-packages\\sklearn\\model_selection\\_validation.py\", line 598, in _fit_and_score\n",
      "    estimator.fit(X_train, y_train, **fit_params)\n",
      "  File \"D:\\Anaconda3\\lib\\site-packages\\sklearn\\tree\\_classes.py\", line 1252, in fit\n",
      "    super().fit(\n",
      "  File \"D:\\Anaconda3\\lib\\site-packages\\sklearn\\tree\\_classes.py\", line 238, in fit\n",
      "    raise ValueError(\"min_samples_split must be an integer \"\n",
      "ValueError: min_samples_split must be an integer greater than 1 or a float in (0.0, 1.0]; got the integer 1\n",
      "\n",
      "  warnings.warn(\"Estimator fit failed. The score on this train-test\"\n",
      "D:\\Anaconda3\\lib\\site-packages\\sklearn\\model_selection\\_validation.py:615: FitFailedWarning: Estimator fit failed. The score on this train-test partition for these parameters will be set to nan. Details: \n",
      "Traceback (most recent call last):\n",
      "  File \"D:\\Anaconda3\\lib\\site-packages\\sklearn\\model_selection\\_validation.py\", line 598, in _fit_and_score\n",
      "    estimator.fit(X_train, y_train, **fit_params)\n",
      "  File \"D:\\Anaconda3\\lib\\site-packages\\sklearn\\tree\\_classes.py\", line 1252, in fit\n",
      "    super().fit(\n",
      "  File \"D:\\Anaconda3\\lib\\site-packages\\sklearn\\tree\\_classes.py\", line 238, in fit\n",
      "    raise ValueError(\"min_samples_split must be an integer \"\n",
      "ValueError: min_samples_split must be an integer greater than 1 or a float in (0.0, 1.0]; got the integer 1\n",
      "\n",
      "  warnings.warn(\"Estimator fit failed. The score on this train-test\"\n",
      "D:\\Anaconda3\\lib\\site-packages\\sklearn\\model_selection\\_validation.py:615: FitFailedWarning: Estimator fit failed. The score on this train-test partition for these parameters will be set to nan. Details: \n",
      "Traceback (most recent call last):\n",
      "  File \"D:\\Anaconda3\\lib\\site-packages\\sklearn\\model_selection\\_validation.py\", line 598, in _fit_and_score\n",
      "    estimator.fit(X_train, y_train, **fit_params)\n",
      "  File \"D:\\Anaconda3\\lib\\site-packages\\sklearn\\tree\\_classes.py\", line 1252, in fit\n",
      "    super().fit(\n",
      "  File \"D:\\Anaconda3\\lib\\site-packages\\sklearn\\tree\\_classes.py\", line 238, in fit\n",
      "    raise ValueError(\"min_samples_split must be an integer \"\n",
      "ValueError: min_samples_split must be an integer greater than 1 or a float in (0.0, 1.0]; got the integer 1\n",
      "\n",
      "  warnings.warn(\"Estimator fit failed. The score on this train-test\"\n",
      "D:\\Anaconda3\\lib\\site-packages\\sklearn\\model_selection\\_validation.py:615: FitFailedWarning: Estimator fit failed. The score on this train-test partition for these parameters will be set to nan. Details: \n",
      "Traceback (most recent call last):\n",
      "  File \"D:\\Anaconda3\\lib\\site-packages\\sklearn\\model_selection\\_validation.py\", line 598, in _fit_and_score\n",
      "    estimator.fit(X_train, y_train, **fit_params)\n",
      "  File \"D:\\Anaconda3\\lib\\site-packages\\sklearn\\tree\\_classes.py\", line 1252, in fit\n",
      "    super().fit(\n",
      "  File \"D:\\Anaconda3\\lib\\site-packages\\sklearn\\tree\\_classes.py\", line 244, in fit\n",
      "    if not 0. < self.min_samples_split <= 1.:\n",
      "TypeError: '<' not supported between instances of 'float' and 'NoneType'\n",
      "\n",
      "  warnings.warn(\"Estimator fit failed. The score on this train-test\"\n",
      "D:\\Anaconda3\\lib\\site-packages\\sklearn\\model_selection\\_validation.py:615: FitFailedWarning: Estimator fit failed. The score on this train-test partition for these parameters will be set to nan. Details: \n",
      "Traceback (most recent call last):\n",
      "  File \"D:\\Anaconda3\\lib\\site-packages\\sklearn\\model_selection\\_validation.py\", line 598, in _fit_and_score\n",
      "    estimator.fit(X_train, y_train, **fit_params)\n",
      "  File \"D:\\Anaconda3\\lib\\site-packages\\sklearn\\tree\\_classes.py\", line 1252, in fit\n",
      "    super().fit(\n",
      "  File \"D:\\Anaconda3\\lib\\site-packages\\sklearn\\tree\\_classes.py\", line 244, in fit\n",
      "    if not 0. < self.min_samples_split <= 1.:\n",
      "TypeError: '<' not supported between instances of 'float' and 'NoneType'\n",
      "\n",
      "  warnings.warn(\"Estimator fit failed. The score on this train-test\"\n",
      "D:\\Anaconda3\\lib\\site-packages\\sklearn\\model_selection\\_validation.py:615: FitFailedWarning: Estimator fit failed. The score on this train-test partition for these parameters will be set to nan. Details: \n",
      "Traceback (most recent call last):\n",
      "  File \"D:\\Anaconda3\\lib\\site-packages\\sklearn\\model_selection\\_validation.py\", line 598, in _fit_and_score\n",
      "    estimator.fit(X_train, y_train, **fit_params)\n",
      "  File \"D:\\Anaconda3\\lib\\site-packages\\sklearn\\tree\\_classes.py\", line 1252, in fit\n",
      "    super().fit(\n",
      "  File \"D:\\Anaconda3\\lib\\site-packages\\sklearn\\tree\\_classes.py\", line 244, in fit\n",
      "    if not 0. < self.min_samples_split <= 1.:\n",
      "TypeError: '<' not supported between instances of 'float' and 'NoneType'\n",
      "\n",
      "  warnings.warn(\"Estimator fit failed. The score on this train-test\"\n",
      "D:\\Anaconda3\\lib\\site-packages\\sklearn\\model_selection\\_validation.py:615: FitFailedWarning: Estimator fit failed. The score on this train-test partition for these parameters will be set to nan. Details: \n",
      "Traceback (most recent call last):\n",
      "  File \"D:\\Anaconda3\\lib\\site-packages\\sklearn\\model_selection\\_validation.py\", line 598, in _fit_and_score\n",
      "    estimator.fit(X_train, y_train, **fit_params)\n",
      "  File \"D:\\Anaconda3\\lib\\site-packages\\sklearn\\tree\\_classes.py\", line 1252, in fit\n",
      "    super().fit(\n",
      "  File \"D:\\Anaconda3\\lib\\site-packages\\sklearn\\tree\\_classes.py\", line 244, in fit\n",
      "    if not 0. < self.min_samples_split <= 1.:\n",
      "TypeError: '<' not supported between instances of 'float' and 'NoneType'\n",
      "\n",
      "  warnings.warn(\"Estimator fit failed. The score on this train-test\"\n",
      "D:\\Anaconda3\\lib\\site-packages\\sklearn\\model_selection\\_validation.py:615: FitFailedWarning: Estimator fit failed. The score on this train-test partition for these parameters will be set to nan. Details: \n",
      "Traceback (most recent call last):\n",
      "  File \"D:\\Anaconda3\\lib\\site-packages\\sklearn\\model_selection\\_validation.py\", line 598, in _fit_and_score\n",
      "    estimator.fit(X_train, y_train, **fit_params)\n",
      "  File \"D:\\Anaconda3\\lib\\site-packages\\sklearn\\tree\\_classes.py\", line 1252, in fit\n",
      "    super().fit(\n",
      "  File \"D:\\Anaconda3\\lib\\site-packages\\sklearn\\tree\\_classes.py\", line 244, in fit\n",
      "    if not 0. < self.min_samples_split <= 1.:\n",
      "TypeError: '<' not supported between instances of 'float' and 'NoneType'\n",
      "\n",
      "  warnings.warn(\"Estimator fit failed. The score on this train-test\"\n",
      "D:\\Anaconda3\\lib\\site-packages\\sklearn\\model_selection\\_validation.py:615: FitFailedWarning: Estimator fit failed. The score on this train-test partition for these parameters will be set to nan. Details: \n",
      "Traceback (most recent call last):\n",
      "  File \"D:\\Anaconda3\\lib\\site-packages\\sklearn\\model_selection\\_validation.py\", line 598, in _fit_and_score\n",
      "    estimator.fit(X_train, y_train, **fit_params)\n",
      "  File \"D:\\Anaconda3\\lib\\site-packages\\sklearn\\tree\\_classes.py\", line 1252, in fit\n",
      "    super().fit(\n",
      "  File \"D:\\Anaconda3\\lib\\site-packages\\sklearn\\tree\\_classes.py\", line 238, in fit\n",
      "    raise ValueError(\"min_samples_split must be an integer \"\n",
      "ValueError: min_samples_split must be an integer greater than 1 or a float in (0.0, 1.0]; got the integer 1\n",
      "\n",
      "  warnings.warn(\"Estimator fit failed. The score on this train-test\"\n",
      "D:\\Anaconda3\\lib\\site-packages\\sklearn\\model_selection\\_validation.py:615: FitFailedWarning: Estimator fit failed. The score on this train-test partition for these parameters will be set to nan. Details: \n",
      "Traceback (most recent call last):\n",
      "  File \"D:\\Anaconda3\\lib\\site-packages\\sklearn\\model_selection\\_validation.py\", line 598, in _fit_and_score\n",
      "    estimator.fit(X_train, y_train, **fit_params)\n",
      "  File \"D:\\Anaconda3\\lib\\site-packages\\sklearn\\tree\\_classes.py\", line 1252, in fit\n",
      "    super().fit(\n",
      "  File \"D:\\Anaconda3\\lib\\site-packages\\sklearn\\tree\\_classes.py\", line 238, in fit\n",
      "    raise ValueError(\"min_samples_split must be an integer \"\n",
      "ValueError: min_samples_split must be an integer greater than 1 or a float in (0.0, 1.0]; got the integer 1\n",
      "\n",
      "  warnings.warn(\"Estimator fit failed. The score on this train-test\"\n",
      "D:\\Anaconda3\\lib\\site-packages\\sklearn\\model_selection\\_validation.py:615: FitFailedWarning: Estimator fit failed. The score on this train-test partition for these parameters will be set to nan. Details: \n",
      "Traceback (most recent call last):\n",
      "  File \"D:\\Anaconda3\\lib\\site-packages\\sklearn\\model_selection\\_validation.py\", line 598, in _fit_and_score\n",
      "    estimator.fit(X_train, y_train, **fit_params)\n",
      "  File \"D:\\Anaconda3\\lib\\site-packages\\sklearn\\tree\\_classes.py\", line 1252, in fit\n",
      "    super().fit(\n",
      "  File \"D:\\Anaconda3\\lib\\site-packages\\sklearn\\tree\\_classes.py\", line 238, in fit\n",
      "    raise ValueError(\"min_samples_split must be an integer \"\n",
      "ValueError: min_samples_split must be an integer greater than 1 or a float in (0.0, 1.0]; got the integer 1\n",
      "\n",
      "  warnings.warn(\"Estimator fit failed. The score on this train-test\"\n",
      "D:\\Anaconda3\\lib\\site-packages\\sklearn\\model_selection\\_validation.py:615: FitFailedWarning: Estimator fit failed. The score on this train-test partition for these parameters will be set to nan. Details: \n",
      "Traceback (most recent call last):\n",
      "  File \"D:\\Anaconda3\\lib\\site-packages\\sklearn\\model_selection\\_validation.py\", line 598, in _fit_and_score\n",
      "    estimator.fit(X_train, y_train, **fit_params)\n",
      "  File \"D:\\Anaconda3\\lib\\site-packages\\sklearn\\tree\\_classes.py\", line 1252, in fit\n",
      "    super().fit(\n",
      "  File \"D:\\Anaconda3\\lib\\site-packages\\sklearn\\tree\\_classes.py\", line 238, in fit\n",
      "    raise ValueError(\"min_samples_split must be an integer \"\n",
      "ValueError: min_samples_split must be an integer greater than 1 or a float in (0.0, 1.0]; got the integer 1\n",
      "\n",
      "  warnings.warn(\"Estimator fit failed. The score on this train-test\"\n",
      "D:\\Anaconda3\\lib\\site-packages\\sklearn\\model_selection\\_validation.py:615: FitFailedWarning: Estimator fit failed. The score on this train-test partition for these parameters will be set to nan. Details: \n",
      "Traceback (most recent call last):\n",
      "  File \"D:\\Anaconda3\\lib\\site-packages\\sklearn\\model_selection\\_validation.py\", line 598, in _fit_and_score\n",
      "    estimator.fit(X_train, y_train, **fit_params)\n",
      "  File \"D:\\Anaconda3\\lib\\site-packages\\sklearn\\tree\\_classes.py\", line 1252, in fit\n",
      "    super().fit(\n",
      "  File \"D:\\Anaconda3\\lib\\site-packages\\sklearn\\tree\\_classes.py\", line 238, in fit\n",
      "    raise ValueError(\"min_samples_split must be an integer \"\n",
      "ValueError: min_samples_split must be an integer greater than 1 or a float in (0.0, 1.0]; got the integer 1\n",
      "\n",
      "  warnings.warn(\"Estimator fit failed. The score on this train-test\"\n",
      "D:\\Anaconda3\\lib\\site-packages\\sklearn\\model_selection\\_validation.py:615: FitFailedWarning: Estimator fit failed. The score on this train-test partition for these parameters will be set to nan. Details: \n",
      "Traceback (most recent call last):\n",
      "  File \"D:\\Anaconda3\\lib\\site-packages\\sklearn\\model_selection\\_validation.py\", line 598, in _fit_and_score\n",
      "    estimator.fit(X_train, y_train, **fit_params)\n",
      "  File \"D:\\Anaconda3\\lib\\site-packages\\sklearn\\tree\\_classes.py\", line 1252, in fit\n",
      "    super().fit(\n",
      "  File \"D:\\Anaconda3\\lib\\site-packages\\sklearn\\tree\\_classes.py\", line 244, in fit\n",
      "    if not 0. < self.min_samples_split <= 1.:\n",
      "TypeError: '<' not supported between instances of 'float' and 'NoneType'\n",
      "\n",
      "  warnings.warn(\"Estimator fit failed. The score on this train-test\"\n",
      "D:\\Anaconda3\\lib\\site-packages\\sklearn\\model_selection\\_validation.py:615: FitFailedWarning: Estimator fit failed. The score on this train-test partition for these parameters will be set to nan. Details: \n",
      "Traceback (most recent call last):\n",
      "  File \"D:\\Anaconda3\\lib\\site-packages\\sklearn\\model_selection\\_validation.py\", line 598, in _fit_and_score\n",
      "    estimator.fit(X_train, y_train, **fit_params)\n",
      "  File \"D:\\Anaconda3\\lib\\site-packages\\sklearn\\tree\\_classes.py\", line 1252, in fit\n",
      "    super().fit(\n",
      "  File \"D:\\Anaconda3\\lib\\site-packages\\sklearn\\tree\\_classes.py\", line 244, in fit\n",
      "    if not 0. < self.min_samples_split <= 1.:\n",
      "TypeError: '<' not supported between instances of 'float' and 'NoneType'\n",
      "\n",
      "  warnings.warn(\"Estimator fit failed. The score on this train-test\"\n",
      "D:\\Anaconda3\\lib\\site-packages\\sklearn\\model_selection\\_validation.py:615: FitFailedWarning: Estimator fit failed. The score on this train-test partition for these parameters will be set to nan. Details: \n",
      "Traceback (most recent call last):\n",
      "  File \"D:\\Anaconda3\\lib\\site-packages\\sklearn\\model_selection\\_validation.py\", line 598, in _fit_and_score\n",
      "    estimator.fit(X_train, y_train, **fit_params)\n",
      "  File \"D:\\Anaconda3\\lib\\site-packages\\sklearn\\tree\\_classes.py\", line 1252, in fit\n",
      "    super().fit(\n",
      "  File \"D:\\Anaconda3\\lib\\site-packages\\sklearn\\tree\\_classes.py\", line 244, in fit\n",
      "    if not 0. < self.min_samples_split <= 1.:\n",
      "TypeError: '<' not supported between instances of 'float' and 'NoneType'\n",
      "\n",
      "  warnings.warn(\"Estimator fit failed. The score on this train-test\"\n",
      "D:\\Anaconda3\\lib\\site-packages\\sklearn\\model_selection\\_validation.py:615: FitFailedWarning: Estimator fit failed. The score on this train-test partition for these parameters will be set to nan. Details: \n",
      "Traceback (most recent call last):\n",
      "  File \"D:\\Anaconda3\\lib\\site-packages\\sklearn\\model_selection\\_validation.py\", line 598, in _fit_and_score\n",
      "    estimator.fit(X_train, y_train, **fit_params)\n",
      "  File \"D:\\Anaconda3\\lib\\site-packages\\sklearn\\tree\\_classes.py\", line 1252, in fit\n",
      "    super().fit(\n",
      "  File \"D:\\Anaconda3\\lib\\site-packages\\sklearn\\tree\\_classes.py\", line 244, in fit\n",
      "    if not 0. < self.min_samples_split <= 1.:\n",
      "TypeError: '<' not supported between instances of 'float' and 'NoneType'\n",
      "\n",
      "  warnings.warn(\"Estimator fit failed. The score on this train-test\"\n",
      "D:\\Anaconda3\\lib\\site-packages\\sklearn\\model_selection\\_validation.py:615: FitFailedWarning: Estimator fit failed. The score on this train-test partition for these parameters will be set to nan. Details: \n",
      "Traceback (most recent call last):\n",
      "  File \"D:\\Anaconda3\\lib\\site-packages\\sklearn\\model_selection\\_validation.py\", line 598, in _fit_and_score\n",
      "    estimator.fit(X_train, y_train, **fit_params)\n",
      "  File \"D:\\Anaconda3\\lib\\site-packages\\sklearn\\tree\\_classes.py\", line 1252, in fit\n",
      "    super().fit(\n",
      "  File \"D:\\Anaconda3\\lib\\site-packages\\sklearn\\tree\\_classes.py\", line 244, in fit\n",
      "    if not 0. < self.min_samples_split <= 1.:\n",
      "TypeError: '<' not supported between instances of 'float' and 'NoneType'\n",
      "\n",
      "  warnings.warn(\"Estimator fit failed. The score on this train-test\"\n",
      "D:\\Anaconda3\\lib\\site-packages\\sklearn\\model_selection\\_validation.py:615: FitFailedWarning: Estimator fit failed. The score on this train-test partition for these parameters will be set to nan. Details: \n",
      "Traceback (most recent call last):\n",
      "  File \"D:\\Anaconda3\\lib\\site-packages\\sklearn\\model_selection\\_validation.py\", line 598, in _fit_and_score\n",
      "    estimator.fit(X_train, y_train, **fit_params)\n",
      "  File \"D:\\Anaconda3\\lib\\site-packages\\sklearn\\tree\\_classes.py\", line 1252, in fit\n",
      "    super().fit(\n",
      "  File \"D:\\Anaconda3\\lib\\site-packages\\sklearn\\tree\\_classes.py\", line 238, in fit\n",
      "    raise ValueError(\"min_samples_split must be an integer \"\n",
      "ValueError: min_samples_split must be an integer greater than 1 or a float in (0.0, 1.0]; got the integer 1\n",
      "\n",
      "  warnings.warn(\"Estimator fit failed. The score on this train-test\"\n",
      "D:\\Anaconda3\\lib\\site-packages\\sklearn\\model_selection\\_validation.py:615: FitFailedWarning: Estimator fit failed. The score on this train-test partition for these parameters will be set to nan. Details: \n",
      "Traceback (most recent call last):\n",
      "  File \"D:\\Anaconda3\\lib\\site-packages\\sklearn\\model_selection\\_validation.py\", line 598, in _fit_and_score\n",
      "    estimator.fit(X_train, y_train, **fit_params)\n",
      "  File \"D:\\Anaconda3\\lib\\site-packages\\sklearn\\tree\\_classes.py\", line 1252, in fit\n",
      "    super().fit(\n",
      "  File \"D:\\Anaconda3\\lib\\site-packages\\sklearn\\tree\\_classes.py\", line 238, in fit\n",
      "    raise ValueError(\"min_samples_split must be an integer \"\n",
      "ValueError: min_samples_split must be an integer greater than 1 or a float in (0.0, 1.0]; got the integer 1\n",
      "\n",
      "  warnings.warn(\"Estimator fit failed. The score on this train-test\"\n",
      "D:\\Anaconda3\\lib\\site-packages\\sklearn\\model_selection\\_validation.py:615: FitFailedWarning: Estimator fit failed. The score on this train-test partition for these parameters will be set to nan. Details: \n",
      "Traceback (most recent call last):\n",
      "  File \"D:\\Anaconda3\\lib\\site-packages\\sklearn\\model_selection\\_validation.py\", line 598, in _fit_and_score\n",
      "    estimator.fit(X_train, y_train, **fit_params)\n",
      "  File \"D:\\Anaconda3\\lib\\site-packages\\sklearn\\tree\\_classes.py\", line 1252, in fit\n",
      "    super().fit(\n",
      "  File \"D:\\Anaconda3\\lib\\site-packages\\sklearn\\tree\\_classes.py\", line 238, in fit\n",
      "    raise ValueError(\"min_samples_split must be an integer \"\n",
      "ValueError: min_samples_split must be an integer greater than 1 or a float in (0.0, 1.0]; got the integer 1\n",
      "\n",
      "  warnings.warn(\"Estimator fit failed. The score on this train-test\"\n",
      "D:\\Anaconda3\\lib\\site-packages\\sklearn\\model_selection\\_validation.py:615: FitFailedWarning: Estimator fit failed. The score on this train-test partition for these parameters will be set to nan. Details: \n",
      "Traceback (most recent call last):\n",
      "  File \"D:\\Anaconda3\\lib\\site-packages\\sklearn\\model_selection\\_validation.py\", line 598, in _fit_and_score\n",
      "    estimator.fit(X_train, y_train, **fit_params)\n",
      "  File \"D:\\Anaconda3\\lib\\site-packages\\sklearn\\tree\\_classes.py\", line 1252, in fit\n",
      "    super().fit(\n",
      "  File \"D:\\Anaconda3\\lib\\site-packages\\sklearn\\tree\\_classes.py\", line 238, in fit\n",
      "    raise ValueError(\"min_samples_split must be an integer \"\n",
      "ValueError: min_samples_split must be an integer greater than 1 or a float in (0.0, 1.0]; got the integer 1\n",
      "\n",
      "  warnings.warn(\"Estimator fit failed. The score on this train-test\"\n",
      "D:\\Anaconda3\\lib\\site-packages\\sklearn\\model_selection\\_validation.py:615: FitFailedWarning: Estimator fit failed. The score on this train-test partition for these parameters will be set to nan. Details: \n",
      "Traceback (most recent call last):\n",
      "  File \"D:\\Anaconda3\\lib\\site-packages\\sklearn\\model_selection\\_validation.py\", line 598, in _fit_and_score\n",
      "    estimator.fit(X_train, y_train, **fit_params)\n",
      "  File \"D:\\Anaconda3\\lib\\site-packages\\sklearn\\tree\\_classes.py\", line 1252, in fit\n",
      "    super().fit(\n",
      "  File \"D:\\Anaconda3\\lib\\site-packages\\sklearn\\tree\\_classes.py\", line 238, in fit\n",
      "    raise ValueError(\"min_samples_split must be an integer \"\n",
      "ValueError: min_samples_split must be an integer greater than 1 or a float in (0.0, 1.0]; got the integer 1\n",
      "\n",
      "  warnings.warn(\"Estimator fit failed. The score on this train-test\"\n",
      "D:\\Anaconda3\\lib\\site-packages\\sklearn\\model_selection\\_validation.py:615: FitFailedWarning: Estimator fit failed. The score on this train-test partition for these parameters will be set to nan. Details: \n",
      "Traceback (most recent call last):\n",
      "  File \"D:\\Anaconda3\\lib\\site-packages\\sklearn\\model_selection\\_validation.py\", line 598, in _fit_and_score\n",
      "    estimator.fit(X_train, y_train, **fit_params)\n",
      "  File \"D:\\Anaconda3\\lib\\site-packages\\sklearn\\tree\\_classes.py\", line 1252, in fit\n",
      "    super().fit(\n",
      "  File \"D:\\Anaconda3\\lib\\site-packages\\sklearn\\tree\\_classes.py\", line 244, in fit\n",
      "    if not 0. < self.min_samples_split <= 1.:\n",
      "TypeError: '<' not supported between instances of 'float' and 'NoneType'\n",
      "\n",
      "  warnings.warn(\"Estimator fit failed. The score on this train-test\"\n",
      "D:\\Anaconda3\\lib\\site-packages\\sklearn\\model_selection\\_validation.py:615: FitFailedWarning: Estimator fit failed. The score on this train-test partition for these parameters will be set to nan. Details: \n",
      "Traceback (most recent call last):\n",
      "  File \"D:\\Anaconda3\\lib\\site-packages\\sklearn\\model_selection\\_validation.py\", line 598, in _fit_and_score\n",
      "    estimator.fit(X_train, y_train, **fit_params)\n",
      "  File \"D:\\Anaconda3\\lib\\site-packages\\sklearn\\tree\\_classes.py\", line 1252, in fit\n",
      "    super().fit(\n",
      "  File \"D:\\Anaconda3\\lib\\site-packages\\sklearn\\tree\\_classes.py\", line 244, in fit\n",
      "    if not 0. < self.min_samples_split <= 1.:\n",
      "TypeError: '<' not supported between instances of 'float' and 'NoneType'\n",
      "\n",
      "  warnings.warn(\"Estimator fit failed. The score on this train-test\"\n",
      "D:\\Anaconda3\\lib\\site-packages\\sklearn\\model_selection\\_validation.py:615: FitFailedWarning: Estimator fit failed. The score on this train-test partition for these parameters will be set to nan. Details: \n",
      "Traceback (most recent call last):\n",
      "  File \"D:\\Anaconda3\\lib\\site-packages\\sklearn\\model_selection\\_validation.py\", line 598, in _fit_and_score\n",
      "    estimator.fit(X_train, y_train, **fit_params)\n",
      "  File \"D:\\Anaconda3\\lib\\site-packages\\sklearn\\tree\\_classes.py\", line 1252, in fit\n",
      "    super().fit(\n",
      "  File \"D:\\Anaconda3\\lib\\site-packages\\sklearn\\tree\\_classes.py\", line 244, in fit\n",
      "    if not 0. < self.min_samples_split <= 1.:\n",
      "TypeError: '<' not supported between instances of 'float' and 'NoneType'\n",
      "\n",
      "  warnings.warn(\"Estimator fit failed. The score on this train-test\"\n",
      "D:\\Anaconda3\\lib\\site-packages\\sklearn\\model_selection\\_validation.py:615: FitFailedWarning: Estimator fit failed. The score on this train-test partition for these parameters will be set to nan. Details: \n",
      "Traceback (most recent call last):\n",
      "  File \"D:\\Anaconda3\\lib\\site-packages\\sklearn\\model_selection\\_validation.py\", line 598, in _fit_and_score\n",
      "    estimator.fit(X_train, y_train, **fit_params)\n",
      "  File \"D:\\Anaconda3\\lib\\site-packages\\sklearn\\tree\\_classes.py\", line 1252, in fit\n",
      "    super().fit(\n",
      "  File \"D:\\Anaconda3\\lib\\site-packages\\sklearn\\tree\\_classes.py\", line 244, in fit\n",
      "    if not 0. < self.min_samples_split <= 1.:\n",
      "TypeError: '<' not supported between instances of 'float' and 'NoneType'\n",
      "\n",
      "  warnings.warn(\"Estimator fit failed. The score on this train-test\"\n",
      "D:\\Anaconda3\\lib\\site-packages\\sklearn\\model_selection\\_validation.py:615: FitFailedWarning: Estimator fit failed. The score on this train-test partition for these parameters will be set to nan. Details: \n",
      "Traceback (most recent call last):\n",
      "  File \"D:\\Anaconda3\\lib\\site-packages\\sklearn\\model_selection\\_validation.py\", line 598, in _fit_and_score\n",
      "    estimator.fit(X_train, y_train, **fit_params)\n",
      "  File \"D:\\Anaconda3\\lib\\site-packages\\sklearn\\tree\\_classes.py\", line 1252, in fit\n",
      "    super().fit(\n",
      "  File \"D:\\Anaconda3\\lib\\site-packages\\sklearn\\tree\\_classes.py\", line 244, in fit\n",
      "    if not 0. < self.min_samples_split <= 1.:\n",
      "TypeError: '<' not supported between instances of 'float' and 'NoneType'\n",
      "\n",
      "  warnings.warn(\"Estimator fit failed. The score on this train-test\"\n",
      "D:\\Anaconda3\\lib\\site-packages\\sklearn\\model_selection\\_search.py:922: UserWarning: One or more of the test scores are non-finite: [       nan 0.77914224 0.77960194 0.78020402 0.77990242 0.78038584\n",
      " 0.7804378         nan        nan 0.78185232 0.78150769 0.78178363\n",
      " 0.78153439 0.7822175  0.78281526        nan        nan 0.78366132\n",
      " 0.78353717 0.78356771 0.78321222 0.78378298 0.78390865        nan]\n",
      "  warnings.warn(\n",
      "D:\\Anaconda3\\lib\\site-packages\\sklearn\\model_selection\\_search.py:922: UserWarning: One or more of the train scores are non-finite: [       nan 0.83692978 0.83685486 0.83674295 0.83657214 0.83628545\n",
      " 0.83595295        nan        nan 0.83599283 0.83599283 0.83599283\n",
      " 0.83585222 0.83557962 0.83525503        nan        nan 0.83513455\n",
      " 0.83513455 0.83513455 0.83513455 0.83513455 0.83480725        nan]\n",
      "  warnings.warn(\n"
     ]
    },
    {
     "data": {
      "text/plain": [
       "GridSearchCV(cv=5,\n",
       "             estimator=DecisionTreeRegressor(max_depth=7, min_samples_leaf=10),\n",
       "             n_jobs=1,\n",
       "             param_grid={'min_samples_leaf': [1, 2, 3],\n",
       "                         'min_samples_split': [1, 2, 3, 4, 5, 6, 7, None]},\n",
       "             return_train_score=True)"
      ]
     },
     "execution_count": 32,
     "metadata": {},
     "output_type": "execute_result"
    }
   ],
   "source": [
    "# Hyperparameter param distance\n",
    "param_dist = {    \n",
    "    \"max_depth\": [3, None],    \n",
    "    \"max_features\": randint(1, 9),   \n",
    "    \"min_samples_leaf\": randint(1, 9),   \n",
    "    'criterion' : ['gini','entropy']     \n",
    "}\n",
    "# parameter grid\n",
    "param_grid = { \"min_samples_split\":[1,2,3,4,5,6,7,None],\"min_samples_leaf\":[1,2,3]}  \n",
    "# parameter search\n",
    "g_search = GridSearchCV(estimator = dt, param_grid = param_grid,    \n",
    "                                     cv = 5, n_jobs = 1, verbose = 0, return_train_score=True)\n",
    "# fitting the xtrain and ytrain in grid searchcv\n",
    "g_search.fit(X_train,y_train) "
   ]
  },
  {
   "cell_type": "code",
   "execution_count": 33,
   "metadata": {},
   "outputs": [
    {
     "name": "stdout",
     "output_type": "stream",
     "text": [
      "Best Score: 0.7839086458647327\n",
      "\n",
      "\n",
      "{'ccp_alpha': 0.0, 'criterion': 'mse', 'max_depth': 7, 'max_features': None, 'max_leaf_nodes': None, 'min_impurity_decrease': 0.0, 'min_impurity_split': None, 'min_samples_leaf': 3, 'min_samples_split': 7, 'min_weight_fraction_leaf': 0.0, 'random_state': None, 'splitter': 'best'}\n"
     ]
    }
   ],
   "source": [
    "# taking the best fit out\n",
    "print(\"Best Score:\",g_search.best_score_) \n",
    "print(\"\\n\")\n",
    "# taking the best estimator out\n",
    "print(g_search.best_estimator_.get_params())  "
   ]
  },
  {
   "cell_type": "code",
   "execution_count": null,
   "metadata": {},
   "outputs": [],
   "source": []
  },
  {
   "cell_type": "markdown",
   "metadata": {},
   "source": [
    "### Fitting a Decision Tree model along with dummy variables('zipcode')"
   ]
  },
  {
   "cell_type": "code",
   "execution_count": 34,
   "metadata": {},
   "outputs": [
    {
     "name": "stdout",
     "output_type": "stream",
     "text": [
      "The Mean Absolute Error is: 110803.14879013317\n",
      "The Root Mean Squared Error is: 197571.578055323\n",
      "The R-square is: 0.7267668637127831\n"
     ]
    }
   ],
   "source": [
    "# DT model with dummies:\n",
    "\n",
    "X=house[['bedrooms','bathrooms','sqft_living','view','condition','grade','house_age','lat','zipcode']]\n",
    "y=house['price']\n",
    "\n",
    "# creating a dummy variable for this variable:\n",
    "d1 = pd.get_dummies(house.zipcode)\n",
    "X = pd.concat([X,d1],axis = 1)\n",
    "X.drop(['zipcode'],axis = 1,inplace=True)\n",
    "\n",
    "#Splitting the data set into test and train for the train and validation purpose:\n",
    "X_train, X_test, y_train, y_test = train_test_split(X,y,test_size=0.3, random_state = 7)\n",
    "\n",
    "#loading the decision tree alogorithm\n",
    "dt = DecisionTreeRegressor(max_depth = 7,min_samples_leaf =10) \n",
    "dt.fit(X_train,y_train)    #Fitting the model\n",
    "y_pred = dt.predict(X_test) #Predicting the y value's\n",
    "\n",
    "\n",
    "#Calculating the mean absolute error:  \n",
    "print ('The Mean Absolute Error is:', mean_absolute_error(y_test, y_pred  ))  \n",
    "#Calculating the Root of mean squared error value:\n",
    "print ('The Root Mean Squared Error is:', sqrt(mean_squared_error(y_test,y_pred  )))  \n",
    "#Calculating the R_square value:\n",
    "print ('The R-square is:', r2_score(y_test,y_pred))"
   ]
  },
  {
   "cell_type": "markdown",
   "metadata": {},
   "source": [
    "### Hyperparameter (Grid search CV) for this dummy variable"
   ]
  },
  {
   "cell_type": "code",
   "execution_count": 35,
   "metadata": {},
   "outputs": [
    {
     "name": "stderr",
     "output_type": "stream",
     "text": [
      "D:\\Anaconda3\\lib\\site-packages\\sklearn\\model_selection\\_validation.py:615: FitFailedWarning: Estimator fit failed. The score on this train-test partition for these parameters will be set to nan. Details: \n",
      "Traceback (most recent call last):\n",
      "  File \"D:\\Anaconda3\\lib\\site-packages\\sklearn\\model_selection\\_validation.py\", line 598, in _fit_and_score\n",
      "    estimator.fit(X_train, y_train, **fit_params)\n",
      "  File \"D:\\Anaconda3\\lib\\site-packages\\sklearn\\tree\\_classes.py\", line 1252, in fit\n",
      "    super().fit(\n",
      "  File \"D:\\Anaconda3\\lib\\site-packages\\sklearn\\tree\\_classes.py\", line 238, in fit\n",
      "    raise ValueError(\"min_samples_split must be an integer \"\n",
      "ValueError: min_samples_split must be an integer greater than 1 or a float in (0.0, 1.0]; got the integer 1\n",
      "\n",
      "  warnings.warn(\"Estimator fit failed. The score on this train-test\"\n",
      "D:\\Anaconda3\\lib\\site-packages\\sklearn\\model_selection\\_validation.py:615: FitFailedWarning: Estimator fit failed. The score on this train-test partition for these parameters will be set to nan. Details: \n",
      "Traceback (most recent call last):\n",
      "  File \"D:\\Anaconda3\\lib\\site-packages\\sklearn\\model_selection\\_validation.py\", line 598, in _fit_and_score\n",
      "    estimator.fit(X_train, y_train, **fit_params)\n",
      "  File \"D:\\Anaconda3\\lib\\site-packages\\sklearn\\tree\\_classes.py\", line 1252, in fit\n",
      "    super().fit(\n",
      "  File \"D:\\Anaconda3\\lib\\site-packages\\sklearn\\tree\\_classes.py\", line 238, in fit\n",
      "    raise ValueError(\"min_samples_split must be an integer \"\n",
      "ValueError: min_samples_split must be an integer greater than 1 or a float in (0.0, 1.0]; got the integer 1\n",
      "\n",
      "  warnings.warn(\"Estimator fit failed. The score on this train-test\"\n",
      "D:\\Anaconda3\\lib\\site-packages\\sklearn\\model_selection\\_validation.py:615: FitFailedWarning: Estimator fit failed. The score on this train-test partition for these parameters will be set to nan. Details: \n",
      "Traceback (most recent call last):\n",
      "  File \"D:\\Anaconda3\\lib\\site-packages\\sklearn\\model_selection\\_validation.py\", line 598, in _fit_and_score\n",
      "    estimator.fit(X_train, y_train, **fit_params)\n",
      "  File \"D:\\Anaconda3\\lib\\site-packages\\sklearn\\tree\\_classes.py\", line 1252, in fit\n",
      "    super().fit(\n",
      "  File \"D:\\Anaconda3\\lib\\site-packages\\sklearn\\tree\\_classes.py\", line 238, in fit\n",
      "    raise ValueError(\"min_samples_split must be an integer \"\n",
      "ValueError: min_samples_split must be an integer greater than 1 or a float in (0.0, 1.0]; got the integer 1\n",
      "\n",
      "  warnings.warn(\"Estimator fit failed. The score on this train-test\"\n",
      "D:\\Anaconda3\\lib\\site-packages\\sklearn\\model_selection\\_validation.py:615: FitFailedWarning: Estimator fit failed. The score on this train-test partition for these parameters will be set to nan. Details: \n",
      "Traceback (most recent call last):\n",
      "  File \"D:\\Anaconda3\\lib\\site-packages\\sklearn\\model_selection\\_validation.py\", line 598, in _fit_and_score\n",
      "    estimator.fit(X_train, y_train, **fit_params)\n",
      "  File \"D:\\Anaconda3\\lib\\site-packages\\sklearn\\tree\\_classes.py\", line 1252, in fit\n",
      "    super().fit(\n",
      "  File \"D:\\Anaconda3\\lib\\site-packages\\sklearn\\tree\\_classes.py\", line 238, in fit\n",
      "    raise ValueError(\"min_samples_split must be an integer \"\n",
      "ValueError: min_samples_split must be an integer greater than 1 or a float in (0.0, 1.0]; got the integer 1\n",
      "\n",
      "  warnings.warn(\"Estimator fit failed. The score on this train-test\"\n",
      "D:\\Anaconda3\\lib\\site-packages\\sklearn\\model_selection\\_validation.py:615: FitFailedWarning: Estimator fit failed. The score on this train-test partition for these parameters will be set to nan. Details: \n",
      "Traceback (most recent call last):\n",
      "  File \"D:\\Anaconda3\\lib\\site-packages\\sklearn\\model_selection\\_validation.py\", line 598, in _fit_and_score\n",
      "    estimator.fit(X_train, y_train, **fit_params)\n",
      "  File \"D:\\Anaconda3\\lib\\site-packages\\sklearn\\tree\\_classes.py\", line 1252, in fit\n",
      "    super().fit(\n",
      "  File \"D:\\Anaconda3\\lib\\site-packages\\sklearn\\tree\\_classes.py\", line 238, in fit\n",
      "    raise ValueError(\"min_samples_split must be an integer \"\n",
      "ValueError: min_samples_split must be an integer greater than 1 or a float in (0.0, 1.0]; got the integer 1\n",
      "\n",
      "  warnings.warn(\"Estimator fit failed. The score on this train-test\"\n",
      "D:\\Anaconda3\\lib\\site-packages\\sklearn\\model_selection\\_validation.py:615: FitFailedWarning: Estimator fit failed. The score on this train-test partition for these parameters will be set to nan. Details: \n",
      "Traceback (most recent call last):\n",
      "  File \"D:\\Anaconda3\\lib\\site-packages\\sklearn\\model_selection\\_validation.py\", line 598, in _fit_and_score\n",
      "    estimator.fit(X_train, y_train, **fit_params)\n",
      "  File \"D:\\Anaconda3\\lib\\site-packages\\sklearn\\tree\\_classes.py\", line 1252, in fit\n",
      "    super().fit(\n",
      "  File \"D:\\Anaconda3\\lib\\site-packages\\sklearn\\tree\\_classes.py\", line 244, in fit\n",
      "    if not 0. < self.min_samples_split <= 1.:\n",
      "TypeError: '<' not supported between instances of 'float' and 'NoneType'\n",
      "\n",
      "  warnings.warn(\"Estimator fit failed. The score on this train-test\"\n",
      "D:\\Anaconda3\\lib\\site-packages\\sklearn\\model_selection\\_validation.py:615: FitFailedWarning: Estimator fit failed. The score on this train-test partition for these parameters will be set to nan. Details: \n",
      "Traceback (most recent call last):\n",
      "  File \"D:\\Anaconda3\\lib\\site-packages\\sklearn\\model_selection\\_validation.py\", line 598, in _fit_and_score\n",
      "    estimator.fit(X_train, y_train, **fit_params)\n",
      "  File \"D:\\Anaconda3\\lib\\site-packages\\sklearn\\tree\\_classes.py\", line 1252, in fit\n",
      "    super().fit(\n",
      "  File \"D:\\Anaconda3\\lib\\site-packages\\sklearn\\tree\\_classes.py\", line 244, in fit\n",
      "    if not 0. < self.min_samples_split <= 1.:\n",
      "TypeError: '<' not supported between instances of 'float' and 'NoneType'\n",
      "\n",
      "  warnings.warn(\"Estimator fit failed. The score on this train-test\"\n",
      "D:\\Anaconda3\\lib\\site-packages\\sklearn\\model_selection\\_validation.py:615: FitFailedWarning: Estimator fit failed. The score on this train-test partition for these parameters will be set to nan. Details: \n",
      "Traceback (most recent call last):\n",
      "  File \"D:\\Anaconda3\\lib\\site-packages\\sklearn\\model_selection\\_validation.py\", line 598, in _fit_and_score\n",
      "    estimator.fit(X_train, y_train, **fit_params)\n",
      "  File \"D:\\Anaconda3\\lib\\site-packages\\sklearn\\tree\\_classes.py\", line 1252, in fit\n",
      "    super().fit(\n",
      "  File \"D:\\Anaconda3\\lib\\site-packages\\sklearn\\tree\\_classes.py\", line 244, in fit\n",
      "    if not 0. < self.min_samples_split <= 1.:\n",
      "TypeError: '<' not supported between instances of 'float' and 'NoneType'\n",
      "\n",
      "  warnings.warn(\"Estimator fit failed. The score on this train-test\"\n",
      "D:\\Anaconda3\\lib\\site-packages\\sklearn\\model_selection\\_validation.py:615: FitFailedWarning: Estimator fit failed. The score on this train-test partition for these parameters will be set to nan. Details: \n",
      "Traceback (most recent call last):\n",
      "  File \"D:\\Anaconda3\\lib\\site-packages\\sklearn\\model_selection\\_validation.py\", line 598, in _fit_and_score\n",
      "    estimator.fit(X_train, y_train, **fit_params)\n",
      "  File \"D:\\Anaconda3\\lib\\site-packages\\sklearn\\tree\\_classes.py\", line 1252, in fit\n",
      "    super().fit(\n",
      "  File \"D:\\Anaconda3\\lib\\site-packages\\sklearn\\tree\\_classes.py\", line 244, in fit\n",
      "    if not 0. < self.min_samples_split <= 1.:\n",
      "TypeError: '<' not supported between instances of 'float' and 'NoneType'\n",
      "\n",
      "  warnings.warn(\"Estimator fit failed. The score on this train-test\"\n",
      "D:\\Anaconda3\\lib\\site-packages\\sklearn\\model_selection\\_validation.py:615: FitFailedWarning: Estimator fit failed. The score on this train-test partition for these parameters will be set to nan. Details: \n",
      "Traceback (most recent call last):\n",
      "  File \"D:\\Anaconda3\\lib\\site-packages\\sklearn\\model_selection\\_validation.py\", line 598, in _fit_and_score\n",
      "    estimator.fit(X_train, y_train, **fit_params)\n",
      "  File \"D:\\Anaconda3\\lib\\site-packages\\sklearn\\tree\\_classes.py\", line 1252, in fit\n",
      "    super().fit(\n",
      "  File \"D:\\Anaconda3\\lib\\site-packages\\sklearn\\tree\\_classes.py\", line 244, in fit\n",
      "    if not 0. < self.min_samples_split <= 1.:\n",
      "TypeError: '<' not supported between instances of 'float' and 'NoneType'\n",
      "\n",
      "  warnings.warn(\"Estimator fit failed. The score on this train-test\"\n",
      "D:\\Anaconda3\\lib\\site-packages\\sklearn\\model_selection\\_validation.py:615: FitFailedWarning: Estimator fit failed. The score on this train-test partition for these parameters will be set to nan. Details: \n",
      "Traceback (most recent call last):\n",
      "  File \"D:\\Anaconda3\\lib\\site-packages\\sklearn\\model_selection\\_validation.py\", line 598, in _fit_and_score\n",
      "    estimator.fit(X_train, y_train, **fit_params)\n",
      "  File \"D:\\Anaconda3\\lib\\site-packages\\sklearn\\tree\\_classes.py\", line 1252, in fit\n",
      "    super().fit(\n",
      "  File \"D:\\Anaconda3\\lib\\site-packages\\sklearn\\tree\\_classes.py\", line 238, in fit\n",
      "    raise ValueError(\"min_samples_split must be an integer \"\n",
      "ValueError: min_samples_split must be an integer greater than 1 or a float in (0.0, 1.0]; got the integer 1\n",
      "\n",
      "  warnings.warn(\"Estimator fit failed. The score on this train-test\"\n",
      "D:\\Anaconda3\\lib\\site-packages\\sklearn\\model_selection\\_validation.py:615: FitFailedWarning: Estimator fit failed. The score on this train-test partition for these parameters will be set to nan. Details: \n",
      "Traceback (most recent call last):\n",
      "  File \"D:\\Anaconda3\\lib\\site-packages\\sklearn\\model_selection\\_validation.py\", line 598, in _fit_and_score\n",
      "    estimator.fit(X_train, y_train, **fit_params)\n",
      "  File \"D:\\Anaconda3\\lib\\site-packages\\sklearn\\tree\\_classes.py\", line 1252, in fit\n",
      "    super().fit(\n",
      "  File \"D:\\Anaconda3\\lib\\site-packages\\sklearn\\tree\\_classes.py\", line 238, in fit\n",
      "    raise ValueError(\"min_samples_split must be an integer \"\n",
      "ValueError: min_samples_split must be an integer greater than 1 or a float in (0.0, 1.0]; got the integer 1\n",
      "\n",
      "  warnings.warn(\"Estimator fit failed. The score on this train-test\"\n",
      "D:\\Anaconda3\\lib\\site-packages\\sklearn\\model_selection\\_validation.py:615: FitFailedWarning: Estimator fit failed. The score on this train-test partition for these parameters will be set to nan. Details: \n",
      "Traceback (most recent call last):\n",
      "  File \"D:\\Anaconda3\\lib\\site-packages\\sklearn\\model_selection\\_validation.py\", line 598, in _fit_and_score\n",
      "    estimator.fit(X_train, y_train, **fit_params)\n",
      "  File \"D:\\Anaconda3\\lib\\site-packages\\sklearn\\tree\\_classes.py\", line 1252, in fit\n",
      "    super().fit(\n",
      "  File \"D:\\Anaconda3\\lib\\site-packages\\sklearn\\tree\\_classes.py\", line 238, in fit\n",
      "    raise ValueError(\"min_samples_split must be an integer \"\n",
      "ValueError: min_samples_split must be an integer greater than 1 or a float in (0.0, 1.0]; got the integer 1\n",
      "\n",
      "  warnings.warn(\"Estimator fit failed. The score on this train-test\"\n",
      "D:\\Anaconda3\\lib\\site-packages\\sklearn\\model_selection\\_validation.py:615: FitFailedWarning: Estimator fit failed. The score on this train-test partition for these parameters will be set to nan. Details: \n",
      "Traceback (most recent call last):\n",
      "  File \"D:\\Anaconda3\\lib\\site-packages\\sklearn\\model_selection\\_validation.py\", line 598, in _fit_and_score\n",
      "    estimator.fit(X_train, y_train, **fit_params)\n",
      "  File \"D:\\Anaconda3\\lib\\site-packages\\sklearn\\tree\\_classes.py\", line 1252, in fit\n",
      "    super().fit(\n",
      "  File \"D:\\Anaconda3\\lib\\site-packages\\sklearn\\tree\\_classes.py\", line 238, in fit\n",
      "    raise ValueError(\"min_samples_split must be an integer \"\n",
      "ValueError: min_samples_split must be an integer greater than 1 or a float in (0.0, 1.0]; got the integer 1\n",
      "\n",
      "  warnings.warn(\"Estimator fit failed. The score on this train-test\"\n",
      "D:\\Anaconda3\\lib\\site-packages\\sklearn\\model_selection\\_validation.py:615: FitFailedWarning: Estimator fit failed. The score on this train-test partition for these parameters will be set to nan. Details: \n",
      "Traceback (most recent call last):\n",
      "  File \"D:\\Anaconda3\\lib\\site-packages\\sklearn\\model_selection\\_validation.py\", line 598, in _fit_and_score\n",
      "    estimator.fit(X_train, y_train, **fit_params)\n",
      "  File \"D:\\Anaconda3\\lib\\site-packages\\sklearn\\tree\\_classes.py\", line 1252, in fit\n",
      "    super().fit(\n",
      "  File \"D:\\Anaconda3\\lib\\site-packages\\sklearn\\tree\\_classes.py\", line 238, in fit\n",
      "    raise ValueError(\"min_samples_split must be an integer \"\n",
      "ValueError: min_samples_split must be an integer greater than 1 or a float in (0.0, 1.0]; got the integer 1\n",
      "\n",
      "  warnings.warn(\"Estimator fit failed. The score on this train-test\"\n",
      "D:\\Anaconda3\\lib\\site-packages\\sklearn\\model_selection\\_validation.py:615: FitFailedWarning: Estimator fit failed. The score on this train-test partition for these parameters will be set to nan. Details: \n",
      "Traceback (most recent call last):\n",
      "  File \"D:\\Anaconda3\\lib\\site-packages\\sklearn\\model_selection\\_validation.py\", line 598, in _fit_and_score\n",
      "    estimator.fit(X_train, y_train, **fit_params)\n",
      "  File \"D:\\Anaconda3\\lib\\site-packages\\sklearn\\tree\\_classes.py\", line 1252, in fit\n",
      "    super().fit(\n",
      "  File \"D:\\Anaconda3\\lib\\site-packages\\sklearn\\tree\\_classes.py\", line 244, in fit\n",
      "    if not 0. < self.min_samples_split <= 1.:\n",
      "TypeError: '<' not supported between instances of 'float' and 'NoneType'\n",
      "\n",
      "  warnings.warn(\"Estimator fit failed. The score on this train-test\"\n",
      "D:\\Anaconda3\\lib\\site-packages\\sklearn\\model_selection\\_validation.py:615: FitFailedWarning: Estimator fit failed. The score on this train-test partition for these parameters will be set to nan. Details: \n",
      "Traceback (most recent call last):\n",
      "  File \"D:\\Anaconda3\\lib\\site-packages\\sklearn\\model_selection\\_validation.py\", line 598, in _fit_and_score\n",
      "    estimator.fit(X_train, y_train, **fit_params)\n",
      "  File \"D:\\Anaconda3\\lib\\site-packages\\sklearn\\tree\\_classes.py\", line 1252, in fit\n",
      "    super().fit(\n",
      "  File \"D:\\Anaconda3\\lib\\site-packages\\sklearn\\tree\\_classes.py\", line 244, in fit\n",
      "    if not 0. < self.min_samples_split <= 1.:\n",
      "TypeError: '<' not supported between instances of 'float' and 'NoneType'\n",
      "\n",
      "  warnings.warn(\"Estimator fit failed. The score on this train-test\"\n",
      "D:\\Anaconda3\\lib\\site-packages\\sklearn\\model_selection\\_validation.py:615: FitFailedWarning: Estimator fit failed. The score on this train-test partition for these parameters will be set to nan. Details: \n",
      "Traceback (most recent call last):\n",
      "  File \"D:\\Anaconda3\\lib\\site-packages\\sklearn\\model_selection\\_validation.py\", line 598, in _fit_and_score\n",
      "    estimator.fit(X_train, y_train, **fit_params)\n",
      "  File \"D:\\Anaconda3\\lib\\site-packages\\sklearn\\tree\\_classes.py\", line 1252, in fit\n",
      "    super().fit(\n",
      "  File \"D:\\Anaconda3\\lib\\site-packages\\sklearn\\tree\\_classes.py\", line 244, in fit\n",
      "    if not 0. < self.min_samples_split <= 1.:\n",
      "TypeError: '<' not supported between instances of 'float' and 'NoneType'\n",
      "\n",
      "  warnings.warn(\"Estimator fit failed. The score on this train-test\"\n",
      "D:\\Anaconda3\\lib\\site-packages\\sklearn\\model_selection\\_validation.py:615: FitFailedWarning: Estimator fit failed. The score on this train-test partition for these parameters will be set to nan. Details: \n",
      "Traceback (most recent call last):\n",
      "  File \"D:\\Anaconda3\\lib\\site-packages\\sklearn\\model_selection\\_validation.py\", line 598, in _fit_and_score\n",
      "    estimator.fit(X_train, y_train, **fit_params)\n",
      "  File \"D:\\Anaconda3\\lib\\site-packages\\sklearn\\tree\\_classes.py\", line 1252, in fit\n",
      "    super().fit(\n",
      "  File \"D:\\Anaconda3\\lib\\site-packages\\sklearn\\tree\\_classes.py\", line 244, in fit\n",
      "    if not 0. < self.min_samples_split <= 1.:\n",
      "TypeError: '<' not supported between instances of 'float' and 'NoneType'\n",
      "\n",
      "  warnings.warn(\"Estimator fit failed. The score on this train-test\"\n",
      "D:\\Anaconda3\\lib\\site-packages\\sklearn\\model_selection\\_validation.py:615: FitFailedWarning: Estimator fit failed. The score on this train-test partition for these parameters will be set to nan. Details: \n",
      "Traceback (most recent call last):\n",
      "  File \"D:\\Anaconda3\\lib\\site-packages\\sklearn\\model_selection\\_validation.py\", line 598, in _fit_and_score\n",
      "    estimator.fit(X_train, y_train, **fit_params)\n",
      "  File \"D:\\Anaconda3\\lib\\site-packages\\sklearn\\tree\\_classes.py\", line 1252, in fit\n",
      "    super().fit(\n",
      "  File \"D:\\Anaconda3\\lib\\site-packages\\sklearn\\tree\\_classes.py\", line 244, in fit\n",
      "    if not 0. < self.min_samples_split <= 1.:\n",
      "TypeError: '<' not supported between instances of 'float' and 'NoneType'\n",
      "\n",
      "  warnings.warn(\"Estimator fit failed. The score on this train-test\"\n",
      "D:\\Anaconda3\\lib\\site-packages\\sklearn\\model_selection\\_validation.py:615: FitFailedWarning: Estimator fit failed. The score on this train-test partition for these parameters will be set to nan. Details: \n",
      "Traceback (most recent call last):\n",
      "  File \"D:\\Anaconda3\\lib\\site-packages\\sklearn\\model_selection\\_validation.py\", line 598, in _fit_and_score\n",
      "    estimator.fit(X_train, y_train, **fit_params)\n",
      "  File \"D:\\Anaconda3\\lib\\site-packages\\sklearn\\tree\\_classes.py\", line 1252, in fit\n",
      "    super().fit(\n",
      "  File \"D:\\Anaconda3\\lib\\site-packages\\sklearn\\tree\\_classes.py\", line 238, in fit\n",
      "    raise ValueError(\"min_samples_split must be an integer \"\n",
      "ValueError: min_samples_split must be an integer greater than 1 or a float in (0.0, 1.0]; got the integer 1\n",
      "\n",
      "  warnings.warn(\"Estimator fit failed. The score on this train-test\"\n",
      "D:\\Anaconda3\\lib\\site-packages\\sklearn\\model_selection\\_validation.py:615: FitFailedWarning: Estimator fit failed. The score on this train-test partition for these parameters will be set to nan. Details: \n",
      "Traceback (most recent call last):\n",
      "  File \"D:\\Anaconda3\\lib\\site-packages\\sklearn\\model_selection\\_validation.py\", line 598, in _fit_and_score\n",
      "    estimator.fit(X_train, y_train, **fit_params)\n",
      "  File \"D:\\Anaconda3\\lib\\site-packages\\sklearn\\tree\\_classes.py\", line 1252, in fit\n",
      "    super().fit(\n",
      "  File \"D:\\Anaconda3\\lib\\site-packages\\sklearn\\tree\\_classes.py\", line 238, in fit\n",
      "    raise ValueError(\"min_samples_split must be an integer \"\n",
      "ValueError: min_samples_split must be an integer greater than 1 or a float in (0.0, 1.0]; got the integer 1\n",
      "\n",
      "  warnings.warn(\"Estimator fit failed. The score on this train-test\"\n",
      "D:\\Anaconda3\\lib\\site-packages\\sklearn\\model_selection\\_validation.py:615: FitFailedWarning: Estimator fit failed. The score on this train-test partition for these parameters will be set to nan. Details: \n",
      "Traceback (most recent call last):\n",
      "  File \"D:\\Anaconda3\\lib\\site-packages\\sklearn\\model_selection\\_validation.py\", line 598, in _fit_and_score\n",
      "    estimator.fit(X_train, y_train, **fit_params)\n",
      "  File \"D:\\Anaconda3\\lib\\site-packages\\sklearn\\tree\\_classes.py\", line 1252, in fit\n",
      "    super().fit(\n",
      "  File \"D:\\Anaconda3\\lib\\site-packages\\sklearn\\tree\\_classes.py\", line 238, in fit\n",
      "    raise ValueError(\"min_samples_split must be an integer \"\n",
      "ValueError: min_samples_split must be an integer greater than 1 or a float in (0.0, 1.0]; got the integer 1\n",
      "\n",
      "  warnings.warn(\"Estimator fit failed. The score on this train-test\"\n",
      "D:\\Anaconda3\\lib\\site-packages\\sklearn\\model_selection\\_validation.py:615: FitFailedWarning: Estimator fit failed. The score on this train-test partition for these parameters will be set to nan. Details: \n",
      "Traceback (most recent call last):\n",
      "  File \"D:\\Anaconda3\\lib\\site-packages\\sklearn\\model_selection\\_validation.py\", line 598, in _fit_and_score\n",
      "    estimator.fit(X_train, y_train, **fit_params)\n",
      "  File \"D:\\Anaconda3\\lib\\site-packages\\sklearn\\tree\\_classes.py\", line 1252, in fit\n",
      "    super().fit(\n",
      "  File \"D:\\Anaconda3\\lib\\site-packages\\sklearn\\tree\\_classes.py\", line 238, in fit\n",
      "    raise ValueError(\"min_samples_split must be an integer \"\n",
      "ValueError: min_samples_split must be an integer greater than 1 or a float in (0.0, 1.0]; got the integer 1\n",
      "\n",
      "  warnings.warn(\"Estimator fit failed. The score on this train-test\"\n",
      "D:\\Anaconda3\\lib\\site-packages\\sklearn\\model_selection\\_validation.py:615: FitFailedWarning: Estimator fit failed. The score on this train-test partition for these parameters will be set to nan. Details: \n",
      "Traceback (most recent call last):\n",
      "  File \"D:\\Anaconda3\\lib\\site-packages\\sklearn\\model_selection\\_validation.py\", line 598, in _fit_and_score\n",
      "    estimator.fit(X_train, y_train, **fit_params)\n",
      "  File \"D:\\Anaconda3\\lib\\site-packages\\sklearn\\tree\\_classes.py\", line 1252, in fit\n",
      "    super().fit(\n",
      "  File \"D:\\Anaconda3\\lib\\site-packages\\sklearn\\tree\\_classes.py\", line 238, in fit\n",
      "    raise ValueError(\"min_samples_split must be an integer \"\n",
      "ValueError: min_samples_split must be an integer greater than 1 or a float in (0.0, 1.0]; got the integer 1\n",
      "\n",
      "  warnings.warn(\"Estimator fit failed. The score on this train-test\"\n",
      "D:\\Anaconda3\\lib\\site-packages\\sklearn\\model_selection\\_validation.py:615: FitFailedWarning: Estimator fit failed. The score on this train-test partition for these parameters will be set to nan. Details: \n",
      "Traceback (most recent call last):\n",
      "  File \"D:\\Anaconda3\\lib\\site-packages\\sklearn\\model_selection\\_validation.py\", line 598, in _fit_and_score\n",
      "    estimator.fit(X_train, y_train, **fit_params)\n",
      "  File \"D:\\Anaconda3\\lib\\site-packages\\sklearn\\tree\\_classes.py\", line 1252, in fit\n",
      "    super().fit(\n",
      "  File \"D:\\Anaconda3\\lib\\site-packages\\sklearn\\tree\\_classes.py\", line 244, in fit\n",
      "    if not 0. < self.min_samples_split <= 1.:\n",
      "TypeError: '<' not supported between instances of 'float' and 'NoneType'\n",
      "\n",
      "  warnings.warn(\"Estimator fit failed. The score on this train-test\"\n",
      "D:\\Anaconda3\\lib\\site-packages\\sklearn\\model_selection\\_validation.py:615: FitFailedWarning: Estimator fit failed. The score on this train-test partition for these parameters will be set to nan. Details: \n",
      "Traceback (most recent call last):\n",
      "  File \"D:\\Anaconda3\\lib\\site-packages\\sklearn\\model_selection\\_validation.py\", line 598, in _fit_and_score\n",
      "    estimator.fit(X_train, y_train, **fit_params)\n",
      "  File \"D:\\Anaconda3\\lib\\site-packages\\sklearn\\tree\\_classes.py\", line 1252, in fit\n",
      "    super().fit(\n",
      "  File \"D:\\Anaconda3\\lib\\site-packages\\sklearn\\tree\\_classes.py\", line 244, in fit\n",
      "    if not 0. < self.min_samples_split <= 1.:\n",
      "TypeError: '<' not supported between instances of 'float' and 'NoneType'\n",
      "\n",
      "  warnings.warn(\"Estimator fit failed. The score on this train-test\"\n",
      "D:\\Anaconda3\\lib\\site-packages\\sklearn\\model_selection\\_validation.py:615: FitFailedWarning: Estimator fit failed. The score on this train-test partition for these parameters will be set to nan. Details: \n",
      "Traceback (most recent call last):\n",
      "  File \"D:\\Anaconda3\\lib\\site-packages\\sklearn\\model_selection\\_validation.py\", line 598, in _fit_and_score\n",
      "    estimator.fit(X_train, y_train, **fit_params)\n",
      "  File \"D:\\Anaconda3\\lib\\site-packages\\sklearn\\tree\\_classes.py\", line 1252, in fit\n",
      "    super().fit(\n",
      "  File \"D:\\Anaconda3\\lib\\site-packages\\sklearn\\tree\\_classes.py\", line 244, in fit\n",
      "    if not 0. < self.min_samples_split <= 1.:\n",
      "TypeError: '<' not supported between instances of 'float' and 'NoneType'\n",
      "\n",
      "  warnings.warn(\"Estimator fit failed. The score on this train-test\"\n",
      "D:\\Anaconda3\\lib\\site-packages\\sklearn\\model_selection\\_validation.py:615: FitFailedWarning: Estimator fit failed. The score on this train-test partition for these parameters will be set to nan. Details: \n",
      "Traceback (most recent call last):\n",
      "  File \"D:\\Anaconda3\\lib\\site-packages\\sklearn\\model_selection\\_validation.py\", line 598, in _fit_and_score\n",
      "    estimator.fit(X_train, y_train, **fit_params)\n",
      "  File \"D:\\Anaconda3\\lib\\site-packages\\sklearn\\tree\\_classes.py\", line 1252, in fit\n",
      "    super().fit(\n",
      "  File \"D:\\Anaconda3\\lib\\site-packages\\sklearn\\tree\\_classes.py\", line 244, in fit\n",
      "    if not 0. < self.min_samples_split <= 1.:\n",
      "TypeError: '<' not supported between instances of 'float' and 'NoneType'\n",
      "\n",
      "  warnings.warn(\"Estimator fit failed. The score on this train-test\"\n",
      "D:\\Anaconda3\\lib\\site-packages\\sklearn\\model_selection\\_validation.py:615: FitFailedWarning: Estimator fit failed. The score on this train-test partition for these parameters will be set to nan. Details: \n",
      "Traceback (most recent call last):\n",
      "  File \"D:\\Anaconda3\\lib\\site-packages\\sklearn\\model_selection\\_validation.py\", line 598, in _fit_and_score\n",
      "    estimator.fit(X_train, y_train, **fit_params)\n",
      "  File \"D:\\Anaconda3\\lib\\site-packages\\sklearn\\tree\\_classes.py\", line 1252, in fit\n",
      "    super().fit(\n",
      "  File \"D:\\Anaconda3\\lib\\site-packages\\sklearn\\tree\\_classes.py\", line 244, in fit\n",
      "    if not 0. < self.min_samples_split <= 1.:\n",
      "TypeError: '<' not supported between instances of 'float' and 'NoneType'\n",
      "\n",
      "  warnings.warn(\"Estimator fit failed. The score on this train-test\"\n",
      "D:\\Anaconda3\\lib\\site-packages\\sklearn\\model_selection\\_search.py:922: UserWarning: One or more of the test scores are non-finite: [       nan 0.63766544 0.64852259 0.67893008 0.67409905 0.67507331\n",
      " 0.66877085        nan        nan 0.67022185 0.67346454 0.6748416\n",
      " 0.66241283 0.66532636 0.67377063        nan        nan 0.66852041\n",
      " 0.66913256 0.66847621 0.67008976 0.66847621 0.67354217        nan]\n",
      "  warnings.warn(\n",
      "D:\\Anaconda3\\lib\\site-packages\\sklearn\\model_selection\\_search.py:922: UserWarning: One or more of the train scores are non-finite: [       nan 0.86236681 0.86121583 0.85834797 0.85742415 0.85488463\n",
      " 0.85127292        nan        nan 0.85360607 0.85360607 0.85360607\n",
      " 0.85258476 0.84962626 0.84666175        nan        nan 0.84445661\n",
      " 0.84445661 0.84445661 0.84445661 0.84445661 0.84274549        nan]\n",
      "  warnings.warn(\n"
     ]
    },
    {
     "data": {
      "text/plain": [
       "GridSearchCV(cv=5,\n",
       "             estimator=DecisionTreeRegressor(max_depth=7, min_samples_leaf=10),\n",
       "             n_jobs=1,\n",
       "             param_grid={'min_samples_leaf': [1, 2, 3],\n",
       "                         'min_samples_split': [1, 2, 3, 4, 5, 6, 7, None]},\n",
       "             return_train_score=True)"
      ]
     },
     "execution_count": 35,
     "metadata": {},
     "output_type": "execute_result"
    }
   ],
   "source": [
    "# Hyperparameter param distance\n",
    "param_dist = {    \n",
    "    \"max_depth\": [3, None],    \n",
    "    \"max_features\": randint(1, 9),   \n",
    "    \"min_samples_leaf\": randint(1, 9),   \n",
    "    'criterion' : ['gini','entropy']     \n",
    "}\n",
    "# parameter grid\n",
    "param_grid = { \"min_samples_split\":[1,2,3,4,5,6,7,None],\"min_samples_leaf\":[1,2,3]}  \n",
    "# parameter search\n",
    "g_search = GridSearchCV(estimator = dt, param_grid = param_grid,    \n",
    "                                     cv = 5, n_jobs = 1, verbose = 0, return_train_score=True)\n",
    "# fitting the xtrain and ytrain in grid searchcv\n",
    "g_search.fit(X_train,y_train) "
   ]
  },
  {
   "cell_type": "code",
   "execution_count": 36,
   "metadata": {},
   "outputs": [
    {
     "name": "stdout",
     "output_type": "stream",
     "text": [
      "Best Score: 0.6789300783780463\n",
      "\n",
      "\n",
      "{'ccp_alpha': 0.0, 'criterion': 'mse', 'max_depth': 7, 'max_features': None, 'max_leaf_nodes': None, 'min_impurity_decrease': 0.0, 'min_impurity_split': None, 'min_samples_leaf': 1, 'min_samples_split': 4, 'min_weight_fraction_leaf': 0.0, 'random_state': None, 'splitter': 'best'}\n"
     ]
    }
   ],
   "source": [
    "# taking the best fit out\n",
    "print(\"Best Score:\",g_search.best_score_) \n",
    "print(\"\\n\")\n",
    "# taking the best estimator out\n",
    "print(g_search.best_estimator_.get_params())  "
   ]
  },
  {
   "cell_type": "code",
   "execution_count": null,
   "metadata": {},
   "outputs": [],
   "source": []
  },
  {
   "cell_type": "markdown",
   "metadata": {},
   "source": [
    "## 4.Model Testing"
   ]
  },
  {
   "cell_type": "code",
   "execution_count": 37,
   "metadata": {},
   "outputs": [
    {
     "data": {
      "text/html": [
       "<div>\n",
       "<style scoped>\n",
       "    .dataframe tbody tr th:only-of-type {\n",
       "        vertical-align: middle;\n",
       "    }\n",
       "\n",
       "    .dataframe tbody tr th {\n",
       "        vertical-align: top;\n",
       "    }\n",
       "\n",
       "    .dataframe thead th {\n",
       "        text-align: right;\n",
       "    }\n",
       "</style>\n",
       "<table border=\"1\" class=\"dataframe\">\n",
       "  <thead>\n",
       "    <tr style=\"text-align: right;\">\n",
       "      <th></th>\n",
       "      <th>id</th>\n",
       "      <th>date</th>\n",
       "      <th>price</th>\n",
       "      <th>bedrooms</th>\n",
       "      <th>bathrooms</th>\n",
       "      <th>sqft_living</th>\n",
       "      <th>sqft_lot</th>\n",
       "      <th>floors</th>\n",
       "      <th>waterfront</th>\n",
       "      <th>view</th>\n",
       "      <th>...</th>\n",
       "      <th>grade</th>\n",
       "      <th>sqft_above</th>\n",
       "      <th>sqft_basement</th>\n",
       "      <th>yr_built</th>\n",
       "      <th>yr_renovated</th>\n",
       "      <th>zipcode</th>\n",
       "      <th>lat</th>\n",
       "      <th>long</th>\n",
       "      <th>sqft_living15</th>\n",
       "      <th>sqft_lot15</th>\n",
       "    </tr>\n",
       "  </thead>\n",
       "  <tbody>\n",
       "    <tr>\n",
       "      <th>0</th>\n",
       "      <td>3793500160</td>\n",
       "      <td>20150312T000000</td>\n",
       "      <td>323000.0</td>\n",
       "      <td>3</td>\n",
       "      <td>2.50</td>\n",
       "      <td>1890</td>\n",
       "      <td>6560</td>\n",
       "      <td>2.0</td>\n",
       "      <td>0</td>\n",
       "      <td>0</td>\n",
       "      <td>...</td>\n",
       "      <td>7</td>\n",
       "      <td>1890</td>\n",
       "      <td>0</td>\n",
       "      <td>2003</td>\n",
       "      <td>0</td>\n",
       "      <td>98038</td>\n",
       "      <td>47.3684</td>\n",
       "      <td>-122.031</td>\n",
       "      <td>2390</td>\n",
       "      <td>7570</td>\n",
       "    </tr>\n",
       "    <tr>\n",
       "      <th>1</th>\n",
       "      <td>1175000570</td>\n",
       "      <td>20150312T000000</td>\n",
       "      <td>530000.0</td>\n",
       "      <td>5</td>\n",
       "      <td>2.00</td>\n",
       "      <td>1810</td>\n",
       "      <td>4850</td>\n",
       "      <td>1.5</td>\n",
       "      <td>0</td>\n",
       "      <td>0</td>\n",
       "      <td>...</td>\n",
       "      <td>7</td>\n",
       "      <td>1810</td>\n",
       "      <td>0</td>\n",
       "      <td>1900</td>\n",
       "      <td>0</td>\n",
       "      <td>98107</td>\n",
       "      <td>47.6700</td>\n",
       "      <td>-122.394</td>\n",
       "      <td>1360</td>\n",
       "      <td>4850</td>\n",
       "    </tr>\n",
       "    <tr>\n",
       "      <th>2</th>\n",
       "      <td>16000397</td>\n",
       "      <td>20141205T000000</td>\n",
       "      <td>189000.0</td>\n",
       "      <td>2</td>\n",
       "      <td>1.00</td>\n",
       "      <td>1200</td>\n",
       "      <td>9850</td>\n",
       "      <td>1.0</td>\n",
       "      <td>0</td>\n",
       "      <td>0</td>\n",
       "      <td>...</td>\n",
       "      <td>7</td>\n",
       "      <td>1200</td>\n",
       "      <td>0</td>\n",
       "      <td>1921</td>\n",
       "      <td>0</td>\n",
       "      <td>98002</td>\n",
       "      <td>47.3089</td>\n",
       "      <td>-122.210</td>\n",
       "      <td>1060</td>\n",
       "      <td>5095</td>\n",
       "    </tr>\n",
       "    <tr>\n",
       "      <th>3</th>\n",
       "      <td>461000390</td>\n",
       "      <td>20140624T000000</td>\n",
       "      <td>687500.0</td>\n",
       "      <td>4</td>\n",
       "      <td>1.75</td>\n",
       "      <td>2330</td>\n",
       "      <td>5000</td>\n",
       "      <td>1.5</td>\n",
       "      <td>0</td>\n",
       "      <td>0</td>\n",
       "      <td>...</td>\n",
       "      <td>7</td>\n",
       "      <td>1510</td>\n",
       "      <td>820</td>\n",
       "      <td>1929</td>\n",
       "      <td>0</td>\n",
       "      <td>98117</td>\n",
       "      <td>47.6823</td>\n",
       "      <td>-122.368</td>\n",
       "      <td>1460</td>\n",
       "      <td>5000</td>\n",
       "    </tr>\n",
       "    <tr>\n",
       "      <th>4</th>\n",
       "      <td>7895500070</td>\n",
       "      <td>20150213T000000</td>\n",
       "      <td>240000.0</td>\n",
       "      <td>4</td>\n",
       "      <td>1.00</td>\n",
       "      <td>1220</td>\n",
       "      <td>8075</td>\n",
       "      <td>1.0</td>\n",
       "      <td>0</td>\n",
       "      <td>0</td>\n",
       "      <td>...</td>\n",
       "      <td>7</td>\n",
       "      <td>890</td>\n",
       "      <td>330</td>\n",
       "      <td>1969</td>\n",
       "      <td>0</td>\n",
       "      <td>98001</td>\n",
       "      <td>47.3341</td>\n",
       "      <td>-122.282</td>\n",
       "      <td>1290</td>\n",
       "      <td>7800</td>\n",
       "    </tr>\n",
       "  </tbody>\n",
       "</table>\n",
       "<p>5 rows × 21 columns</p>\n",
       "</div>"
      ],
      "text/plain": [
       "           id             date     price  bedrooms  bathrooms  sqft_living  \\\n",
       "0  3793500160  20150312T000000  323000.0         3       2.50         1890   \n",
       "1  1175000570  20150312T000000  530000.0         5       2.00         1810   \n",
       "2    16000397  20141205T000000  189000.0         2       1.00         1200   \n",
       "3   461000390  20140624T000000  687500.0         4       1.75         2330   \n",
       "4  7895500070  20150213T000000  240000.0         4       1.00         1220   \n",
       "\n",
       "   sqft_lot  floors  waterfront  view  ...  grade  sqft_above  sqft_basement  \\\n",
       "0      6560     2.0           0     0  ...      7        1890              0   \n",
       "1      4850     1.5           0     0  ...      7        1810              0   \n",
       "2      9850     1.0           0     0  ...      7        1200              0   \n",
       "3      5000     1.5           0     0  ...      7        1510            820   \n",
       "4      8075     1.0           0     0  ...      7         890            330   \n",
       "\n",
       "   yr_built  yr_renovated  zipcode      lat     long  sqft_living15  \\\n",
       "0      2003             0    98038  47.3684 -122.031           2390   \n",
       "1      1900             0    98107  47.6700 -122.394           1360   \n",
       "2      1921             0    98002  47.3089 -122.210           1060   \n",
       "3      1929             0    98117  47.6823 -122.368           1460   \n",
       "4      1969             0    98001  47.3341 -122.282           1290   \n",
       "\n",
       "   sqft_lot15  \n",
       "0        7570  \n",
       "1        4850  \n",
       "2        5095  \n",
       "3        5000  \n",
       "4        7800  \n",
       "\n",
       "[5 rows x 21 columns]"
      ]
     },
     "execution_count": 37,
     "metadata": {},
     "output_type": "execute_result"
    }
   ],
   "source": [
    "# reading test dataset\n",
    "data = \"wk3_kc_house_test_data.csv\"\n",
    "house1 = pg.DFrame(data,directory)\n",
    "house1.head()"
   ]
  },
  {
   "cell_type": "code",
   "execution_count": 38,
   "metadata": {},
   "outputs": [
    {
     "data": {
      "text/plain": [
       "id               0\n",
       "date             0\n",
       "price            0\n",
       "bedrooms         0\n",
       "bathrooms        0\n",
       "sqft_living      0\n",
       "sqft_lot         0\n",
       "floors           0\n",
       "waterfront       0\n",
       "view             0\n",
       "condition        0\n",
       "grade            0\n",
       "sqft_above       0\n",
       "sqft_basement    0\n",
       "yr_built         0\n",
       "yr_renovated     0\n",
       "zipcode          0\n",
       "lat              0\n",
       "long             0\n",
       "sqft_living15    0\n",
       "sqft_lot15       0\n",
       "dtype: int64"
      ]
     },
     "execution_count": 38,
     "metadata": {},
     "output_type": "execute_result"
    }
   ],
   "source": [
    "house1.isnull().sum()"
   ]
  },
  {
   "cell_type": "code",
   "execution_count": 39,
   "metadata": {},
   "outputs": [],
   "source": [
    "#Rearrange the date in correct format:\n",
    "house1.date = pd.to_datetime(house1['date'])"
   ]
  },
  {
   "cell_type": "code",
   "execution_count": 40,
   "metadata": {},
   "outputs": [],
   "source": [
    "#Calculating the age of the house since the begining of the construction\n",
    "house1['house_age'] = 2020-house1['yr_built']          "
   ]
  },
  {
   "cell_type": "code",
   "execution_count": 41,
   "metadata": {
    "scrolled": true
   },
   "outputs": [
    {
     "name": "stdout",
     "output_type": "stream",
     "text": [
      "The Mean Absolute Error is  : 77235.73772286963\n",
      "The R-square is : 0.8821545129785402\n",
      "\n",
      "\n",
      "The average value obtained in 10-fold cross-validation is :  0.855901610823455\n",
      "The maximum value obtained in 10-fold cross-validation is :  0.8921593384630778\n"
     ]
    }
   ],
   "source": [
    "# LR model for Test Data:\n",
    "\n",
    "# For converting the zipcode into binary, first we use the map function\n",
    "house1['zipcode']= house1['zipcode'].map(str)  \n",
    "\n",
    "# predictor set of feature\n",
    "x = house1[['bedrooms','bathrooms','sqft_living','view','condition','grade','lat','house_age','zipcode']] \n",
    "\n",
    "# Creating the binary using get_dummies\n",
    "X = pd.get_dummies(x)   \n",
    "\n",
    "y = np.log(house1['price'])\n",
    "\n",
    "#Splitting the data set into test and train for the train and validation purpose:\n",
    "X_train, X_test, y_train, y_test = train_test_split(X,y,test_size=0.2, random_state = 33)\n",
    "\n",
    "# Standardizing the target variables :\n",
    "std = StandardScaler()                    #standardizing the function\n",
    "X_train_std = std.fit_transform(X_train)  #Standardizing the train data\n",
    "X_test_std = std.transform(X_test)        #Standardizing the test data \n",
    "lr = LinearRegression()            #Linear regression function assigned to lr\n",
    "lr.fit(X_train_std,y_train)        #fitting the model\n",
    "y_pred = lr.predict(X_test_std)    #predicted value\n",
    "y_pred = np.exp(y_pred)\n",
    "y_test = np.exp(y_test)\n",
    "\n",
    "#Calculating the mean absolute error:  \n",
    "print(\"The Mean Absolute Error is  :\" ,mean_absolute_error(y_test,y_pred) ) \n",
    "#Calculating the R_square value:\n",
    "print(\"The R-square is :\",r2_score(y_test,y_pred))\n",
    "\n",
    "print(\"\\n\")\n",
    "\n",
    "# creating a KFold with 10 splits \n",
    "folds = KFold(n_splits = 10, shuffle = True, random_state = 100)       #Split of the dataset\n",
    "scores = cross_val_score(lr, X_train, y_train, scoring='r2', cv=folds)  #fitting the Cross validation\n",
    "print(\"The average value obtained in 10-fold cross-validation is : \", np.mean(scores))\n",
    "print(\"The maximum value obtained in 10-fold cross-validation is : \", max(scores))\n"
   ]
  },
  {
   "cell_type": "code",
   "execution_count": 42,
   "metadata": {
    "scrolled": true
   },
   "outputs": [
    {
     "data": {
      "text/plain": [
       "<matplotlib.collections.PathCollection at 0x1d0d51877c0>"
      ]
     },
     "execution_count": 42,
     "metadata": {},
     "output_type": "execute_result"
    },
    {
     "data": {
      "image/png": "[encoded data removed]",
      "text/plain": [
       "<Figure size 432x288 with 1 Axes>"
      ]
     },
     "metadata": {
      "needs_background": "light"
     },
     "output_type": "display_data"
    }
   ],
   "source": [
    "plt.scatter(y_test,y_pred) # scatter plot to show the y_test and y_pred"
   ]
  },
  {
   "cell_type": "code",
   "execution_count": 43,
   "metadata": {
    "scrolled": false
   },
   "outputs": [
    {
     "name": "stderr",
     "output_type": "stream",
     "text": [
      "D:\\Anaconda3\\lib\\site-packages\\seaborn\\distributions.py:2551: FutureWarning: `distplot` is a deprecated function and will be removed in a future version. Please adapt your code to use either `displot` (a figure-level function with similar flexibility) or `histplot` (an axes-level function for histograms).\n",
      "  warnings.warn(msg, FutureWarning)\n"
     ]
    },
    {
     "data": {
      "text/plain": [
       "<AxesSubplot:xlabel='price', ylabel='Density'>"
      ]
     },
     "execution_count": 43,
     "metadata": {},
     "output_type": "execute_result"
    },
    {
     "data": {
      "image/png": "[encoded data removed]",
      "text/plain": [
       "<Figure size 432x288 with 1 Axes>"
      ]
     },
     "metadata": {
      "needs_background": "light"
     },
     "output_type": "display_data"
    }
   ],
   "source": [
    "# Residual histogram plot\n",
    "sns.distplot((y_test-y_pred),bins=50)"
   ]
  },
  {
   "cell_type": "markdown",
   "metadata": {},
   "source": [
    "## Conclusion\n",
    " Let's see if we can interpret the coefficients.\n"
   ]
  },
  {
   "cell_type": "code",
   "execution_count": 44,
   "metadata": {},
   "outputs": [
    {
     "data": {
      "text/html": [
       "<div>\n",
       "<style scoped>\n",
       "    .dataframe tbody tr th:only-of-type {\n",
       "        vertical-align: middle;\n",
       "    }\n",
       "\n",
       "    .dataframe tbody tr th {\n",
       "        vertical-align: top;\n",
       "    }\n",
       "\n",
       "    .dataframe thead th {\n",
       "        text-align: right;\n",
       "    }\n",
       "</style>\n",
       "<table border=\"1\" class=\"dataframe\">\n",
       "  <thead>\n",
       "    <tr style=\"text-align: right;\">\n",
       "      <th></th>\n",
       "      <th>Coeffecient</th>\n",
       "    </tr>\n",
       "  </thead>\n",
       "  <tbody>\n",
       "    <tr>\n",
       "      <th>bedrooms</th>\n",
       "      <td>4.409565e-03</td>\n",
       "    </tr>\n",
       "    <tr>\n",
       "      <th>bathrooms</th>\n",
       "      <td>8.614327e-03</td>\n",
       "    </tr>\n",
       "    <tr>\n",
       "      <th>sqft_living</th>\n",
       "      <td>2.203338e-01</td>\n",
       "    </tr>\n",
       "    <tr>\n",
       "      <th>view</th>\n",
       "      <td>6.142488e-02</td>\n",
       "    </tr>\n",
       "    <tr>\n",
       "      <th>condition</th>\n",
       "      <td>3.673577e-02</td>\n",
       "    </tr>\n",
       "    <tr>\n",
       "      <th>grade</th>\n",
       "      <td>1.148614e-01</td>\n",
       "    </tr>\n",
       "    <tr>\n",
       "      <th>lat</th>\n",
       "      <td>2.094296e-02</td>\n",
       "    </tr>\n",
       "    <tr>\n",
       "      <th>house_age</th>\n",
       "      <td>1.511029e-02</td>\n",
       "    </tr>\n",
       "    <tr>\n",
       "      <th>zipcode_98001</th>\n",
       "      <td>-5.913006e+10</td>\n",
       "    </tr>\n",
       "    <tr>\n",
       "      <th>zipcode_98002</th>\n",
       "      <td>-5.380430e+10</td>\n",
       "    </tr>\n",
       "  </tbody>\n",
       "</table>\n",
       "</div>"
      ],
      "text/plain": [
       "                Coeffecient\n",
       "bedrooms       4.409565e-03\n",
       "bathrooms      8.614327e-03\n",
       "sqft_living    2.203338e-01\n",
       "view           6.142488e-02\n",
       "condition      3.673577e-02\n",
       "grade          1.148614e-01\n",
       "lat            2.094296e-02\n",
       "house_age      1.511029e-02\n",
       "zipcode_98001 -5.913006e+10\n",
       "zipcode_98002 -5.380430e+10"
      ]
     },
     "execution_count": 44,
     "metadata": {},
     "output_type": "execute_result"
    }
   ],
   "source": [
    "coeffecients = pd.DataFrame(lr.coef_,X.columns)\n",
    "coeffecients.columns = ['Coeffecient']\n",
    "coeffecients.head(10)"
   ]
  },
  {
   "cell_type": "markdown",
   "metadata": {},
   "source": [
    "Now, Interpreting the coefficients:\n",
    "\n",
    "- Holding all other features fixed, a 1 unit increase in **bedrooms** is associated with an **increase of 4.409565e-03  total bedrooms in a house**.\n",
    "- Holding all other features fixed, a 1 unit increase in **bathrooms** is associated with an **increase of 8.614327e-03  total bathrooms in a house**.\n",
    "- Holding all other features fixed, a 1 unit increase in **sqft_living** is associated with an **increase of 2.203338e-01  total sqft_living in a house**.\n",
    "- Holding all other features fixed, a 1 unit increase in **view** is associated with an **increase of 6.142488e-02  total view in a house**.\n",
    "- Holding all other features fixed, a 1 unit increase in **condition** is associated with an **increase of 3.673577e-02  total condition in a house**.\n",
    "- Holding all other features fixed, a 1 unit increase in **grade** is associated with an **increase of 1.148614e-01  total grade in a house**.\n",
    "- Holding all other features fixed, a 1 unit increase in **lat** is associated with an **increase of 2.094296e-02  total latitude of the house**.\n",
    "- Holding all other features fixed, a 1 unit increase in **house_age** is associated with an **increase of 1.511029e-02  total house_age of the house**.\n",
    "- etc.,"
   ]
  },
  {
   "cell_type": "markdown",
   "metadata": {},
   "source": [
    "### The R-square obtained by LR on the test dataset is:0.8821545129785402\n",
    "### The average R-square value obtained by 10-fold cross-validation on the test dataset is :  0.855901610823455"
   ]
  }
 ],
 "metadata": {
  "kernelspec": {
   "display_name": "Python 3",
   "language": "python",
   "name": "python3"
  },
  "language_info": {
   "codemirror_mode": {
    "name": "ipython",
    "version": 3
   },
   "file_extension": ".py",
   "mimetype": "text/x-python",
   "name": "python",
   "nbconvert_exporter": "python",
   "pygments_lexer": "ipython3",
   "version": "3.8.5"
  }
 },
 "nbformat": 4,
 "nbformat_minor": 4
}
